{
 "cells": [
  {
   "cell_type": "markdown",
   "metadata": {},
   "source": [
    "# SNPs to Networks 2: KEGG\n",
    "\n",
    "> Parsing gene entries for *Zea mays* from the KEGG database (Previously downloaded)."
   ]
  },
  {
   "cell_type": "code",
   "execution_count": null,
   "metadata": {},
   "outputs": [],
   "source": [
    "#| default_exp core"
   ]
  },
  {
   "cell_type": "code",
   "execution_count": null,
   "metadata": {},
   "outputs": [],
   "source": [
    "#| hide\n",
    "from nbdev.showdoc import *"
   ]
  },
  {
   "cell_type": "code",
   "execution_count": null,
   "metadata": {},
   "outputs": [],
   "source": [
    "# import tqdm\n",
    "import os, re\n",
    "import pickle as pkl\n",
    "\n",
    "from dlgwas.core import *"
   ]
  },
  {
   "cell_type": "markdown",
   "metadata": {},
   "source": [
    "## Load *Zea mays* gene list"
   ]
  },
  {
   "cell_type": "code",
   "execution_count": null,
   "metadata": {},
   "outputs": [],
   "source": [
    "kegg_list_zma = mkdf_kegg_species_list(kegg_species_list = get_kegg_species_list(species = 'zma'))"
   ]
  },
  {
   "cell_type": "code",
   "execution_count": null,
   "metadata": {},
   "outputs": [
    {
     "data": {
      "text/html": [
       "<div>\n",
       "<style scoped>\n",
       "    .dataframe tbody tr th:only-of-type {\n",
       "        vertical-align: middle;\n",
       "    }\n",
       "\n",
       "    .dataframe tbody tr th {\n",
       "        vertical-align: top;\n",
       "    }\n",
       "\n",
       "    .dataframe thead th {\n",
       "        text-align: right;\n",
       "    }\n",
       "</style>\n",
       "<table border=\"1\" class=\"dataframe\">\n",
       "  <thead>\n",
       "    <tr style=\"text-align: right;\">\n",
       "      <th></th>\n",
       "      <th>gene</th>\n",
       "      <th>seq_type</th>\n",
       "      <th>chromosome_positon</th>\n",
       "      <th>gene_type</th>\n",
       "    </tr>\n",
       "  </thead>\n",
       "  <tbody>\n",
       "    <tr>\n",
       "      <th>0</th>\n",
       "      <td>zma:103644366</td>\n",
       "      <td>CDS</td>\n",
       "      <td>1:34607..40208</td>\n",
       "      <td>uncharacterized protein LOC103644366</td>\n",
       "    </tr>\n",
       "    <tr>\n",
       "      <th>1</th>\n",
       "      <td>zma:100382519</td>\n",
       "      <td>CDS</td>\n",
       "      <td>1:complement(41254..46100)</td>\n",
       "      <td>uncharacterized protein LOC100382519</td>\n",
       "    </tr>\n",
       "    <tr>\n",
       "      <th>2</th>\n",
       "      <td>zma:103649349</td>\n",
       "      <td>CDS</td>\n",
       "      <td>1:complement(92293..107876)</td>\n",
       "      <td>protein FAR1-RELATED SEQUENCE 5-like</td>\n",
       "    </tr>\n",
       "    <tr>\n",
       "      <th>3</th>\n",
       "      <td>zma:115032971</td>\n",
       "      <td>CDS</td>\n",
       "      <td>1:complement(187229..189591)</td>\n",
       "      <td>uncharacterized protein LOC115032971</td>\n",
       "    </tr>\n",
       "    <tr>\n",
       "      <th>4</th>\n",
       "      <td>zma:103630223</td>\n",
       "      <td>CDS</td>\n",
       "      <td>1:complement(200404..203170)</td>\n",
       "      <td>granule-bound starch synthase 1b, chloroplasti...</td>\n",
       "    </tr>\n",
       "  </tbody>\n",
       "</table>\n",
       "</div>"
      ],
      "text/plain": [
       "            gene seq_type            chromosome_positon   \n",
       "0  zma:103644366      CDS                1:34607..40208  \\\n",
       "1  zma:100382519      CDS    1:complement(41254..46100)   \n",
       "2  zma:103649349      CDS   1:complement(92293..107876)   \n",
       "3  zma:115032971      CDS  1:complement(187229..189591)   \n",
       "4  zma:103630223      CDS  1:complement(200404..203170)   \n",
       "\n",
       "                                           gene_type  \n",
       "0               uncharacterized protein LOC103644366  \n",
       "1               uncharacterized protein LOC100382519  \n",
       "2               protein FAR1-RELATED SEQUENCE 5-like  \n",
       "3               uncharacterized protein LOC115032971  \n",
       "4  granule-bound starch synthase 1b, chloroplasti...  "
      ]
     },
     "execution_count": null,
     "metadata": {},
     "output_type": "execute_result"
    }
   ],
   "source": [
    "kegg_list_zma.head()"
   ]
  },
  {
   "cell_type": "markdown",
   "metadata": {},
   "source": [
    "## Read KEGG gene entries\n",
    "\n",
    "###  Convert a single file into a dictionary\n",
    "The gene files contain sections (ENTRY, NAME, AASEQ, etc.). To aid processing each of these sections will be separated into a key in a dictionary."
   ]
  },
  {
   "cell_type": "code",
   "execution_count": null,
   "metadata": {},
   "outputs": [
    {
     "data": {
      "text/plain": [
       "['ENTRY       100125650         CDS       T01088',\n",
       " 'NAME        (RefSeq) barren inflorescence 2',\n",
       " 'ORGANISM    zma  Zea mays (maize)',\n",
       " 'POSITION    1:177940567..177942323',\n",
       " 'MOTIF       Pfam: Pkinase PK_Tyr_Ser-Thr Kinase-like Pkinase_fungal']"
      ]
     },
     "execution_count": null,
     "metadata": {},
     "output_type": "execute_result"
    }
   ],
   "source": [
    "kegg_file = 'zma_100125650.txt'\n",
    "# convert back to KEGG format\n",
    "kegg_gene_name = kegg_file.replace('_', ':').replace('.txt', '')\n",
    "\n",
    "# convert back to kegg format\n",
    "r_text = read_kegg_gene(kegg_gene = kegg_gene_name)\n",
    "\n",
    "# parsing gene entry\n",
    "r_text_list = r_text.split('\\n')\n",
    "r_text_list[0:5]"
   ]
  },
  {
   "cell_type": "code",
   "execution_count": null,
   "metadata": {},
   "outputs": [
    {
     "data": {
      "text/plain": [
       "(['ENTRY',\n",
       "  'NAME',\n",
       "  'ORGANISM',\n",
       "  'POSITION',\n",
       "  'MOTIF',\n",
       "  'DBLINKS',\n",
       "  'AASEQ',\n",
       "  'NTSEQ',\n",
       "  '///'],\n",
       " [0, 1, 2, 3, 4, 5, 8, 18, 44])"
      ]
     },
     "execution_count": null,
     "metadata": {},
     "output_type": "execute_result"
    }
   ],
   "source": [
    "# Some files may not contain all sections so this list needs to be created for each file\n",
    "section_names = [r_text_list[i][0:12].strip() for i in range(len(r_text_list)) ]\n",
    "section_names = [e for e in section_names if e != '']\n",
    "\n",
    "section_starts = [\n",
    "    [i for i in range(len(r_text_list)) if re.match('^'+e, r_text_list[i])][0] \n",
    "    for e in section_names]\n",
    "\n",
    "section_names, section_starts"
   ]
  },
  {
   "cell_type": "code",
   "execution_count": null,
   "metadata": {},
   "outputs": [],
   "source": [
    "# just split each file into text of it's sections\n",
    "out = {}\n",
    "\n",
    "# get lines associated with section\n",
    "def _get_section_text(section_name = 'AASEQ'):\n",
    "    idx = section_names.index(section_name)\n",
    "    section_text = r_text_list[section_starts[idx]:section_starts[idx+1]]\n",
    "    # remove leading indent\n",
    "    section_text = [e[12:] for e in section_text]\n",
    "    return(section_text)\n",
    "\n",
    "for section_name in section_names:\n",
    "    if section_name != '///': # end of file\n",
    "        out[section_name] = _get_section_text(section_name = section_name)"
   ]
  },
  {
   "cell_type": "code",
   "execution_count": null,
   "metadata": {},
   "outputs": [
    {
     "data": {
      "text/plain": [
       "{'ENTRY': ['100125650         CDS       T01088'],\n",
       " 'NAME': ['(RefSeq) barren inflorescence 2'],\n",
       " 'ORGANISM': ['zma  Zea mays (maize)'],\n",
       " 'POSITION': ['1:177940567..177942323'],\n",
       " 'MOTIF': ['Pfam: Pkinase PK_Tyr_Ser-Thr Kinase-like Pkinase_fungal'],\n",
       " 'DBLINKS': ['NCBI-GeneID: 100125650',\n",
       "  'NCBI-ProteinID: NP_001106051',\n",
       "  'UniProt: A6MW92'],\n",
       " 'AASEQ': ['491',\n",
       "  'MDAAVRVPPALGNKTVTEVTPPPPPPAGEERLSDADTTASSTAAPNSSLSSASSAASLPR',\n",
       "  'CSSLSRLSFDCSPSAALSSSSAAAAAAAASSPAPAPARPHRAGDAAWAAIRAASASAAAP',\n",
       "  'LGPRDFRLLRRVGGGDVGTVYLCRLRAPPAPAPVCCLYAMKVVDRRVAAAKKKLEHAAAE',\n",
       "  'RRILRALDHPFLPTLFADFDAAPHFSCVVTEFCPGGDLHSLRHRMPNRRFPLPSARFYAA',\n",
       "  'EVLLALEYLHMMGIVYRDLKPENVLIRADGHIMLTDFDLSLQCTSTPSLEPCAAPEAAAA',\n",
       "  'SCFPDHLFRRRRARLRRAASARRPPTTLVAEPVEARSCSFVGTHEYVAPEVARGGPHGAA',\n",
       "  'VDWWALGVFLYELLHGRTPFAGADNEATLRNIARRPLSFPAAGAGDADARDLIARLLAKD',\n",
       "  'PRHRLGSRRGAADVKAHPFFRGLNFALLRSSRPPVVPAASRSPLHRSQSCSAARTRASKP',\n",
       "  'KPPPDTRFDLF'],\n",
       " 'NTSEQ': ['1476',\n",
       "  'atggacgccgcggtgcgcgtccccccggcgctcgggaacaagacggtgaccgaggtgacg',\n",
       "  'ccgccgccgccaccaccggcgggggaggagcggctgtcggacgccgacacgacggcgtcg',\n",
       "  'tcgacggcggcgcccaactcgagcctcagctcggccagcagcgccgccagcctgccgcgc',\n",
       "  'tgctccagcctgtcccgcctctccttcgactgctctccgtccgcggccctgtcctcttcc',\n",
       "  'tcggcggcggcggcggccgcggccgcgtcatcgccggcgccagcgccggcgcggccgcac',\n",
       "  'cgggcaggggacgcggcgtgggcggcgatccgcgcggcgtcggcgtcggccgcggcgccg',\n",
       "  'ctggggccgcgggacttcaggctgctgcgccgcgtgggcggcggcgacgtcggcaccgtg',\n",
       "  'tacctgtgccgcctcagggcgccacccgcgcccgcgcccgtctgctgcctgtacgcgatg',\n",
       "  'aaggtggtggaccggcgcgtggcggccgcgaagaagaagctggagcacgcggcggcggag',\n",
       "  'cggcggatcctgcgggcgctggaccatccgttcctgcccacgctcttcgccgacttcgac',\n",
       "  'gccgcgccgcacttctcctgcgtcgtcacggagttctgccccggcggggacctccactcg',\n",
       "  'ctccgccaccgcatgcccaaccgccgcttcccgctcccgtcagctcggttctacgcggcg',\n",
       "  'gaggtgttgctggcgctggagtacctgcacatgatgggcatcgtgtaccgcgacctcaag',\n",
       "  'ccggagaacgtgctgatccgcgcggacggccacatcatgctcacggacttcgacctgtcg',\n",
       "  'ctgcagtgcacgtcgacgccgtcgctcgagccgtgcgccgcccccgaggcggcggcggcg',\n",
       "  'tcctgcttcccggaccacctgttccgccgccggcgcgcgcgactccgccgtgccgcctcg',\n",
       "  'gcgcggcggccgccaacgaccctggtggcggagccggtggaggcgcggtcgtgctcgttc',\n",
       "  'gtgggcacgcacgagtacgtggcgcccgaggtggcccgcggcgggccccacggcgcggcc',\n",
       "  'gtcgactggtgggcgctcggcgtgttcctgtacgagctcctgcacgggcgcaccccgttc',\n",
       "  'gcgggcgccgacaacgaggccacgctccgcaacatcgcgcgccgcccgctgtccttcccc',\n",
       "  'gctgccggcgccggtgatgccgacgcgcgcgacctcatcgcccgcctcctcgccaaggac',\n",
       "  'ccgcgccaccggttggggtcccggcgcggcgccgccgacgtgaaggcgcacccgttcttc',\n",
       "  'cgcgggctcaacttcgcgctgctccggtcctcccgcccgcccgtcgtccccgccgcgtcg',\n",
       "  'cgctccccgctgcaccgctcgcagtcctgcagcgcggcgcgcacgagagcgtcgaagccg',\n",
       "  'aagccgccgccggacacccggttcgacctgttctga']}"
      ]
     },
     "execution_count": null,
     "metadata": {},
     "output_type": "execute_result"
    }
   ],
   "source": [
    "out"
   ]
  },
  {
   "cell_type": "markdown",
   "metadata": {},
   "source": [
    "### Convert all downloaded gene files"
   ]
  },
  {
   "cell_type": "code",
   "execution_count": null,
   "metadata": {},
   "outputs": [],
   "source": [
    "def kegg_gene_to_dict(kegg_file = 'zma_100125650.txt'):\n",
    "    # convert back to kegg format\n",
    "    r_text = read_kegg_gene(kegg_gene= kegg_file.replace('_', ':').replace('.txt', '') )\n",
    "\n",
    "    # parsing gene entry\n",
    "    r_text_list = r_text.split('\\n')\n",
    "\n",
    "    # Some files may not contain all sections so this list needs to be created for each file\n",
    "    section_names = [r_text_list[i][0:12].strip() for i in range(len(r_text_list)) ]\n",
    "    section_names = [e for e in section_names if e != '']\n",
    "\n",
    "    section_starts = [\n",
    "        [i for i in range(len(r_text_list)) if re.match('^'+e, r_text_list[i])][0] \n",
    "        for e in section_names]\n",
    "\n",
    "    # just split each file into text of it's sections\n",
    "    out = {}\n",
    "\n",
    "    # get lines associated with section\n",
    "    def _get_section_text(section_name = 'AASEQ'):\n",
    "        idx = section_names.index(section_name)\n",
    "        section_text = r_text_list[section_starts[idx]:section_starts[idx+1]]\n",
    "        # remove leading indent\n",
    "        section_text = [e[12:] for e in section_text]\n",
    "        return(section_text)\n",
    "\n",
    "    for section_name in section_names:\n",
    "        if section_name != '///': # end of file\n",
    "            out[section_name] = _get_section_text(section_name = section_name)\n",
    "\n",
    "    return(out)"
   ]
  },
  {
   "cell_type": "code",
   "execution_count": null,
   "metadata": {},
   "outputs": [],
   "source": [
    "save_dir = '../data/zma/kegg/'\n",
    "save_path = save_dir+'cached_kegg_gene_files.pkl'\n",
    "\n",
    "ensure_dir_path_exists(dir_path = save_dir)\n",
    "\n",
    "if not os.path.exists(save_path):\n",
    "    # This is a pain. I would like to parallelize reading these files in, but since it only has to be done once per species doing so would be premature optimization.\n",
    "    # BUT it seems that nbdev is rerunning it as part of the CI workflow. So caching it makes sense. \n",
    "    kegg_gene_files = os.listdir('../ext_data/zma/kegg/gene_entries/')\n",
    "#     kegg_gene_entries = [kegg_gene_to_dict(kegg_file = kegg_gene_file) for kegg_gene_file in tqdm.tqdm(kegg_gene_files)]\n",
    "    kegg_gene_entries = [kegg_gene_to_dict(kegg_file = kegg_gene_file) for kegg_gene_file in kegg_gene_files]\n",
    "    # 37712/37712 [07:12<00:00, 87.23it/s]\n",
    "\n",
    "    with open(save_path, 'wb') as handle:\n",
    "        pkl.dump(kegg_gene_entries, \n",
    "                 handle, \n",
    "                 protocol=pkl.HIGHEST_PROTOCOL)\n",
    "else:\n",
    "    # Reading in data\n",
    "    with open(save_path, 'rb') as handle:\n",
    "        kegg_gene_entries = pkl.load(handle)"
   ]
  },
  {
   "cell_type": "markdown",
   "metadata": {},
   "source": [
    "## Clean up KEGG gene dictionaries\n",
    "\n",
    "The goal here is to use a finite-state machine to convert the lines for each section into a useful representation. This approach makes extending or altering this code easier."
   ]
  },
  {
   "cell_type": "markdown",
   "metadata": {},
   "source": [
    "Starting out I needed to find how many states were featured across all files."
   ]
  },
  {
   "cell_type": "code",
   "execution_count": null,
   "metadata": {},
   "outputs": [
    {
     "data": {
      "text/plain": [
       "['MOTIF',\n",
       " 'ORGANISM',\n",
       " 'AASEQ',\n",
       " 'ENTRY',\n",
       " 'NTSEQ',\n",
       " 'NAME',\n",
       " 'MODULE',\n",
       " 'PATHWAY',\n",
       " 'POSITION',\n",
       " 'SYMBOL',\n",
       " 'BRITE',\n",
       " 'ORTHOLOGY',\n",
       " 'STRUCTURE',\n",
       " 'DBLINKS']"
      ]
     },
     "execution_count": null,
     "metadata": {},
     "output_type": "execute_result"
    }
   ],
   "source": [
    "# produce a flat list of keys then deduplicate them\n",
    "kegg_gene_sections = [entry for sublist in [list(kegg_gene_entries[i].keys()) for i in range(len(kegg_gene_entries))] \n",
    "                  for entry in sublist] # entry is defined here so without it the list comprehension fails instead of producing the list of sublists\n",
    "kegg_gene_sections = list(set(kegg_gene_sections))\n",
    "kegg_gene_sections "
   ]
  },
  {
   "cell_type": "markdown",
   "metadata": {},
   "source": [
    "To aid in writing the logic for each section, pull several examples as a reference."
   ]
  },
  {
   "cell_type": "code",
   "execution_count": null,
   "metadata": {},
   "outputs": [],
   "source": [
    "# Helper Functions ---------------------------------------------------------------------\n",
    "# helper fcn to pull indices and examples of sections\n",
    "def get_section_examples(section = 'MOTIF', n = 5):\n",
    "    i_section_matches = [i for i in range(len(kegg_gene_entries)) if section in kegg_gene_entries[i].keys()]\n",
    "    out = [[i_section_matches[i], \n",
    "            kegg_gene_entries[i_section_matches[i]][section] ] for i in range(n)]\n",
    "    return(out)"
   ]
  },
  {
   "cell_type": "code",
   "execution_count": null,
   "metadata": {},
   "outputs": [
    {
     "data": {
      "text/plain": [
       "[[6, ['z1C1_20']],\n",
       " [34, ['lox2']],\n",
       " [35, ['lox4']],\n",
       " [36, ['lox5']],\n",
       " [37, ['lox6']]]"
      ]
     },
     "execution_count": null,
     "metadata": {},
     "output_type": "execute_result"
    }
   ],
   "source": [
    "get_section_examples(section = 'SYMBOL', n = 5)"
   ]
  },
  {
   "cell_type": "markdown",
   "metadata": {},
   "source": [
    "Now create a function to process each section of the file or more precisely, each section type that needs a different treatment. "
   ]
  },
  {
   "cell_type": "code",
   "execution_count": null,
   "metadata": {},
   "outputs": [],
   "source": [
    "# Any non-hierarical list of attributes can go here. It will be transformed into a dict\n",
    "def _gene_entry_flat_list(section_entry):\n",
    "    # split like so [['NCBI-GeneID', '103644366'], ['NCBI-ProteinID', 'XP_020400304']]\n",
    "    # then convert to dict\n",
    "    # {'NCBI-GeneID': '103644366', 'NCBI-ProteinID': 'XP_020400304'}\n",
    "    section_entry = [e.replace(section_name, '').strip().split(': ') for e in section_entry]\n",
    "    section_entry = dict(section_entry)\n",
    "    return(section_entry)"
   ]
  },
  {
   "cell_type": "code",
   "execution_count": null,
   "metadata": {},
   "outputs": [],
   "source": [
    "# 'AASEQ', 'NTSEQ'\n",
    "def _gene_seq_to_dict(seq_list):\n",
    "    out = {}\n",
    "    out['lenght'] = int(seq_list[0])\n",
    "    out['seq'] = ''.join(seq_list[1:])\n",
    "    return(out)"
   ]
  },
  {
   "cell_type": "markdown",
   "metadata": {},
   "source": [
    "The hardest one to think through was the \"BRITE\". This section contains a tree categorizing the gene's role(s). Here's a sample excerpt:\n",
    "```\n",
    "KEGG Orthology (KO) [BR:zma00001]\n",
    " 09120 Genetic Information Processing\n",
    "  09121 Transcription\n",
    "   03020 RNA polymerase\n",
    "    100037782\n",
    " 09180 Brite Hierarchies\n",
    "  09182 Protein families: genetic information processing\n",
    "   03021 Transcription machinery [BR:zma03021]\n",
    "    100037782\n",
    "# ...\n",
    "```\n",
    "The goal is to represent these data in a way that can be used to construct a hierarchy for all genes that are in a given sample. Level is defined by leading whitespace. \n",
    "```\n",
    "KEGG Orthology (KO) [BR:zma00001]\n",
    "├ 09120 Genetic Information Processing\n",
    "│ └ 09121 Transcription\n",
    "│   └ 03020 RNA polymerase\n",
    "│     └ 100037782\n",
    "└ 09180 Brite Hierarchies\n",
    "  └ 09182 Protein families: genetic information processing\n",
    "    └ 03021 Transcription machinery [BR:zma03021]\n",
    "      └ 100037782\n",
    "```\n",
    "Parsing into a dictionary makes sense (and then creating a full hierarchy would be as simple as merging on keys) but building one is tricky to do since you can't pass a list of keys into a dictionary. Instead of reading from the root to the leaf, we work backwards to find the path from leaf to root. This makes finding the right parent easy -- track the indent level and go up one line skipping lines with an indent level >= the current level. These paths have redundant information (shared parents) but represent what is needed."
   ]
  },
  {
   "cell_type": "code",
   "execution_count": null,
   "metadata": {},
   "outputs": [
    {
     "data": {
      "text/plain": [
       "['KEGG Orthology (KO) [BR:zma00001]',\n",
       " ' 09180 Brite Hierarchies',\n",
       " '  09182 Protein families: genetic information processing',\n",
       " '   03000 Transcription factors [BR:zma03000]',\n",
       " '    100037740',\n",
       " 'Transcription factors [BR:zma03000]',\n",
       " ' Eukaryotic type',\n",
       " '  Helix-turn-helix',\n",
       " '   Tryptophan clusters Myb, Myb-factors',\n",
       " '    100037740']"
      ]
     },
     "execution_count": null,
     "metadata": {},
     "output_type": "execute_result"
    }
   ],
   "source": [
    "# Figuring out how to process BRITE entries\n",
    "kegg_gene_entry = kegg_gene_entries[1]\n",
    "section_entry = kegg_gene_entry['BRITE']\n",
    "\n",
    "section_entry"
   ]
  },
  {
   "cell_type": "code",
   "execution_count": null,
   "metadata": {},
   "outputs": [
    {
     "data": {
      "text/plain": [
       "(10, [0, 1, 2, 3, 4, 0, 1, 2, 3, 4])"
      ]
     },
     "execution_count": null,
     "metadata": {},
     "output_type": "execute_result"
    }
   ],
   "source": [
    "# get the leading whitespace for each line\n",
    "indent_spaces = [re.findall('^ +', e)[0] if re.match('^ ', e) else [''][0] for e in section_entry]\n",
    "indent_spaces = [len(e) for e  in indent_spaces]\n",
    "\n",
    "len(indent_spaces), indent_spaces"
   ]
  },
  {
   "cell_type": "markdown",
   "metadata": {},
   "source": [
    "Because the lists are ordered, given a position one can start at a leaf and work back up to the root by \n",
    "walking backwards and looking for the next point at which the indent level is the expected level. \n",
    "IF it's true that each of the leaves contain only an identifer number and no letters\n",
    "then the process is to\n",
    "1. Find all leaves\n",
    "1. Walk backwards from all leaves\n",
    "1. Add a list of lists with these paths (could be used in a tidy format)\n",
    "\n",
    "Below the process of building up the path from leaf to root and the indents at each step (as a sanity check) are shown."
   ]
  },
  {
   "cell_type": "code",
   "execution_count": null,
   "metadata": {},
   "outputs": [
    {
     "name": "stdout",
     "output_type": "stream",
     "text": [
      "[4, 3] [4, 3]\n",
      "[4, 3, 2] [4, 3, 2]\n",
      "[4, 3, 2, 1] [4, 3, 2, 1]\n",
      "[4, 3, 2, 1, 0] [4, 3, 2, 1, 0]\n"
     ]
    }
   ],
   "source": [
    "i = 4 # position in list\n",
    "indent = indent_spaces[i] # indent at that position\n",
    "\n",
    "j = i\n",
    "current_indent = indent\n",
    "# work backawards to get the paths\n",
    "j_backtrack      = [j]\n",
    "indent_backtrack = [current_indent]\n",
    "\n",
    "while indent_backtrack[-1] > 0:\n",
    "    while current_indent != indent_backtrack[-1]-1:\n",
    "        j = j-1\n",
    "        current_indent = indent_spaces[j]\n",
    "\n",
    "    j_backtrack.extend([j])\n",
    "    indent_backtrack.extend([current_indent])\n",
    "\n",
    "    # indent\n",
    "    print(j_backtrack, indent_backtrack) # "
   ]
  },
  {
   "cell_type": "markdown",
   "metadata": {},
   "source": [
    "Wrap this in a function, then integrate into a processing function for BRITE"
   ]
  },
  {
   "cell_type": "code",
   "execution_count": null,
   "metadata": {},
   "outputs": [],
   "source": [
    "def _indent_backtrack_path(i, # position in list \n",
    "                           indent_spaces                                        \n",
    "                          ):\n",
    "    indent = indent_spaces[i] # indent at that position\n",
    "    j = i\n",
    "    current_indent = indent\n",
    "    # work backawards to get the paths\n",
    "    j_backtrack      = [j]\n",
    "    indent_backtrack = [current_indent]\n",
    "\n",
    "    while indent_backtrack[-1] > 0:\n",
    "        while current_indent != indent_backtrack[-1]-1:\n",
    "            j = j-1\n",
    "            current_indent = indent_spaces[j]\n",
    "\n",
    "        j_backtrack.extend([j])\n",
    "        indent_backtrack.extend([current_indent])\n",
    "        \n",
    "    # indent_backtrack is not needed beyond debugging\n",
    "    # confirm that the indent only decreases as you walk through the backtrack\n",
    "    indent_check = indent_backtrack[1:]+[-1]\n",
    "    indent_check =  [True if indent_backtrack[i] > indent_check[i] else False for i in range(len(indent_backtrack))]\n",
    "    assert False not in indent_check\n",
    "    \n",
    "    return(j_backtrack)"
   ]
  },
  {
   "cell_type": "code",
   "execution_count": null,
   "metadata": {},
   "outputs": [],
   "source": [
    "def _gene_entry_BRITE(section_entry):\n",
    "    # get the leading whitespace for each line\n",
    "    indent_spaces = [re.findall('^ +', e)[0] if re.match('^ ', e) else [''][0] for e in section_entry]\n",
    "    indent_spaces = [len(e) for e  in indent_spaces]\n",
    "\n",
    "    # find the leaves\n",
    "    # ['KEGG Orthology (KO) [BR:zma00001]',\n",
    "    #  ' 09120 Genetic Information Processing',\n",
    "    #  '  09121 Transcription',\n",
    "    #  '   03020 RNA polymerase',\n",
    "    #  '    100037782' <------------- Whitespace followed by digits and no letters\n",
    "    leaf_idxs = [i for i in range(len(section_entry)) if re.match('^\\s+\\d+$', section_entry[i])]\n",
    "\n",
    "    # for each leaf get the backtrack path to the root\n",
    "    leaf_backtraces = [_indent_backtrack_path(i = leaf_idx, \n",
    "                                              indent_spaces = indent_spaces\n",
    "                                             ) for leaf_idx in leaf_idxs]\n",
    "    # reverse the inner lists\n",
    "    [e.reverse()  for e in leaf_backtraces]\n",
    "\n",
    "    out = [[section_entry[i] for i in leaf_backtraces[j]] for j in range(len(leaf_backtraces))]\n",
    "    # sample input\n",
    "    # ['KEGG Orthology (KO) [BR:zma00001]',\n",
    "    #  ' 09120 Genetic Information Processing',\n",
    "    #  '  09121 Transcription',\n",
    "    #  '   03020 RNA polymerase',\n",
    "    #  '    100037782',\n",
    "    #  ' 09180 Brite Hierarchies',\n",
    "    #  '  09182 Protein families: genetic information processing',\n",
    "    #  '   03021 Transcription machinery [BR:zma03021]',\n",
    "    #  '    100037782',\n",
    "    #  'Enzymes [BR:zma01000]',\n",
    "    #  ' 2. Transferases',\n",
    "    #  '  2.7  Transferring phosphorus-containing groups',\n",
    "    #  '   2.7.7  Nucleotidyltransferases',\n",
    "    #  '    2.7.7.6  DNA-directed RNA polymerase',\n",
    "    #  '     100037782',\n",
    "    #  'Transcription machinery [BR:zma03021]',\n",
    "    #  ' Eukaryotic type',\n",
    "    #  '  RNA polymerase II system',\n",
    "    #  '   RNA polymerase II',\n",
    "    #  '    Pol IV and V specific subunits',\n",
    "    #  '     100037782']\n",
    "\n",
    "    # Sample output\n",
    "    # [['KEGG Orthology (KO) [BR:zma00001]',\n",
    "    #   ' 09120 Genetic Information Processing',\n",
    "    #   '  09121 Transcription',\n",
    "    #   '   03020 RNA polymerase',\n",
    "    #   '    100037782'],\n",
    "    #  ['KEGG Orthology (KO) [BR:zma00001]',\n",
    "    #   ' 09180 Brite Hierarchies',\n",
    "    #   '  09182 Protein families: genetic information processing',\n",
    "    #   '   03021 Transcription machinery [BR:zma03021]',\n",
    "    #   '    100037782'],\n",
    "    #  ['Enzymes [BR:zma01000]',\n",
    "    #   ' 2. Transferases',\n",
    "    #   '  2.7  Transferring phosphorus-containing groups',\n",
    "    #   '   2.7.7  Nucleotidyltransferases',\n",
    "    #   '    2.7.7.6  DNA-directed RNA polymerase',\n",
    "    #   '     100037782'],\n",
    "    #  ['Transcription machinery [BR:zma03021]',\n",
    "    #   ' Eukaryotic type',\n",
    "    #   '  RNA polymerase II system',\n",
    "    #   '   RNA polymerase II',\n",
    "    #   '    Pol IV and V specific subunits',\n",
    "    #   '     100037782']]\n",
    "\n",
    "    # and then strip whitespace\n",
    "    out = [[ee.strip() for ee in e] for e in out]\n",
    "    return(out)"
   ]
  },
  {
   "cell_type": "code",
   "execution_count": null,
   "metadata": {},
   "outputs": [],
   "source": [
    "def parse_kegg_gene_entry(kegg_gene_entry):\n",
    "    for section in kegg_gene_entry.keys():\n",
    "        if type(kegg_gene_entry[section]) != list :\n",
    "            # This is a safeguard to prevent the code from breaking when rerun. All entries start out as list\n",
    "            # so if an entry isn't a list then it's already been transformed\n",
    "            pass\n",
    "\n",
    "        else:\n",
    "            if section in ['TEMPLATE']:\n",
    "                kegg_gene_entry[section] = kegg_gene_entry[section]\n",
    "\n",
    "            elif section in ['ENTRY', 'NAME', 'ORTHOLOGY', 'ORGANISM', 'POSITION', 'SYMBOL', 'STRUCTURE']:\n",
    "                kegg_gene_entry[section] = kegg_gene_entry[section][0]\n",
    "\n",
    "            elif section in ['PATHWAY', 'MODULE']: \n",
    "                # NOTE: PATHWAY contains two spaces between the identifier and name which is why I'm not splitting on the first instance of whitespace.\n",
    "                # 'zma00591  Linoleic acid metabolism'\n",
    "                #          ^^        ^    ^\n",
    "                kegg_gene_entry[section] = dict([e.split('  ') for e in kegg_gene_entry[section]])            \n",
    "\n",
    "            elif section in ['BRITE']:\n",
    "                # This dict is only expected to have a single key. Representing these data as a dict allows for the \n",
    "                # list checking logic above to still work.\n",
    "                kegg_gene_entry[section] = {\"BRITE_PATHS\": _gene_entry_BRITE(section_entry = kegg_gene_entry[section])}\n",
    "\n",
    "#             elif section in ['MODULE']:\n",
    "#                 pass\n",
    "#                 kegg_gene_entry[section] = _gene_entry_flat_list(section_entry=kegg_gene_entry[section])\n",
    "                \n",
    "            elif section in ['MOTIF', 'DBLINKS']:\n",
    "                kegg_gene_entry[section] = _gene_entry_flat_list(section_entry=kegg_gene_entry[section])\n",
    "\n",
    "            elif section in ['AASEQ', 'NTSEQ']:\n",
    "                kegg_gene_entry[section] = _gene_seq_to_dict(seq_list = kegg_gene_entry[section])\n",
    "\n",
    "            else:\n",
    "                print(\"No behavior defined for \"+section)\n",
    "\n",
    "    return(kegg_gene_entry)"
   ]
  },
  {
   "cell_type": "code",
   "execution_count": null,
   "metadata": {},
   "outputs": [],
   "source": [
    "parsed_kegg_gene_entries = [parse_kegg_gene_entry(kegg_gene_entry = kegg_gene_entry\n",
    "#                                                  ) for kegg_gene_entry in tqdm.tqdm(kegg_gene_entries)]\n",
    "                                                 ) for kegg_gene_entry in kegg_gene_entries]"
   ]
  },
  {
   "cell_type": "markdown",
   "metadata": {},
   "source": [
    "## Write out cleaned data"
   ]
  },
  {
   "cell_type": "code",
   "execution_count": null,
   "metadata": {},
   "outputs": [],
   "source": [
    "save_dir = '../data/zma/kegg/'\n",
    "\n",
    "ensure_dir_path_exists(dir_path = '../data/zma/kegg/')"
   ]
  },
  {
   "cell_type": "code",
   "execution_count": null,
   "metadata": {},
   "outputs": [],
   "source": [
    "with open(save_dir+'kegg_gene_entries.pkl', 'wb') as handle:\n",
    "    pkl.dump(parsed_kegg_gene_entries, \n",
    "             handle, \n",
    "             protocol=pkl.HIGHEST_PROTOCOL)\n",
    "    \n",
    "# Reading in data\n",
    "# with open('./data/kegg_gene_entries.pkl', 'rb') as handle:\n",
    "#     kegg_gene_entries = pkl.load(handle)"
   ]
  },
  {
   "cell_type": "code",
   "execution_count": null,
   "metadata": {},
   "outputs": [],
   "source": [
    "#| hide\n",
    "import nbdev; nbdev.nbdev_export()"
   ]
  }
 ],
 "metadata": {
  "kernelspec": {
   "display_name": "python3",
   "language": "python",
   "name": "python3"
  }
 },
 "nbformat": 4,
 "nbformat_minor": 4
}
