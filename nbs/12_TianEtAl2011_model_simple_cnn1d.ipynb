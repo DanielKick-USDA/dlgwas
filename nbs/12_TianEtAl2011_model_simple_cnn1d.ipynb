{
 "cells": [
  {
   "cell_type": "markdown",
   "id": "6e9456e3",
   "metadata": {},
   "source": [
    "# Tian et al. 2011 Model 2\n",
    "\n",
    "> A simple 1d cnn"
   ]
  },
  {
   "cell_type": "markdown",
   "id": "5de638fa",
   "metadata": {},
   "source": [
    "<!-- It used data from panzea\n",
    "- Phenotypic data panzea\\phenotypes\\Buckler_etal_2009_Science_flowering_time_data-090807\\\n",
    "- Genotypic Data panzea\\genotypes\\GBS\\v27\\ZeaGBSv27_publicSamples_imputedV5_AGPv4-181023.vcf.gz\n",
    "- Genomic Data ...  -->"
   ]
  },
  {
   "cell_type": "code",
   "execution_count": null,
   "id": "5d86a3fd",
   "metadata": {},
   "outputs": [
    {
     "name": "stdout",
     "output_type": "stream",
     "text": [
      "Using cuda device\n"
     ]
    }
   ],
   "source": [
    "use_gpu_num = 0 # This should change based on whichever gpu is free. \n",
    "                # If even notebooks are set to 0 then that will be a reasonable default. \n",
    "\n",
    "import os\n",
    "import pandas as pd\n",
    "import numpy as np\n",
    "import re\n",
    "\n",
    "import torch\n",
    "from torch.utils.data import Dataset\n",
    "from torch.utils.data import DataLoader\n",
    "from torch import nn\n",
    "\n",
    "device = \"cuda\" if torch.cuda.is_available() else \"cpu\"\n",
    "if use_gpu_num in [0, 1]: \n",
    "    torch.cuda.set_device(use_gpu_num)\n",
    "print(f\"Using {device} device\")\n",
    "\n",
    "import tqdm\n",
    "from tqdm import tqdm\n",
    "\n",
    "import plotly.graph_objects as go\n",
    "import plotly.express as px\n",
    "import plotly.io as pio\n",
    "pio.templates.default = \"plotly_white\"\n",
    "\n",
    "\n",
    "import dlgwas\n",
    "from dlgwas.kegg import ensure_dir_path_exists\n",
    "from dlgwas.kegg import get_cached_result\n",
    "from dlgwas.kegg import put_cached_result\n",
    "\n",
    "from dlgwas.dlfn import calc_cs\n",
    "from dlgwas.dlfn import apply_cs\n",
    "from dlgwas.dlfn import reverse_cs"
   ]
  },
  {
   "cell_type": "code",
   "execution_count": null,
   "id": "cfa3b1da",
   "metadata": {},
   "outputs": [],
   "source": [
    "# set up directory for notebook artifacts\n",
    "nb_name = '12_TianEtAl2011'\n",
    "ensure_dir_path_exists(dir_path = '../models/'+nb_name)\n",
    "ensure_dir_path_exists(dir_path = '../reports/'+nb_name)"
   ]
  },
  {
   "cell_type": "markdown",
   "id": "9a5a8cf4",
   "metadata": {},
   "source": [
    "##  Load Cleaned Data"
   ]
  },
  {
   "cell_type": "code",
   "execution_count": null,
   "id": "b31481b0",
   "metadata": {},
   "outputs": [],
   "source": [
    "# Read in cleaned data\n",
    "taxa_groupings = pd.read_csv('../models/10_TianEtAl2011/taxa_groupings.csv')\n",
    "data           = pd.read_csv('../models/10_TianEtAl2011/clean_data.csv')"
   ]
  },
  {
   "cell_type": "code",
   "execution_count": null,
   "id": "a2001130",
   "metadata": {},
   "outputs": [
    {
     "name": "stdout",
     "output_type": "stream",
     "text": [
      "25 Unique Holdout Groups.\n"
     ]
    },
    {
     "data": {
      "text/html": [
       "<div>\n",
       "<style scoped>\n",
       "    .dataframe tbody tr th:only-of-type {\n",
       "        vertical-align: middle;\n",
       "    }\n",
       "\n",
       "    .dataframe tbody tr th {\n",
       "        vertical-align: top;\n",
       "    }\n",
       "\n",
       "    .dataframe thead th {\n",
       "        text-align: right;\n",
       "    }\n",
       "</style>\n",
       "<table border=\"1\" class=\"dataframe\">\n",
       "  <thead>\n",
       "    <tr style=\"text-align: right;\">\n",
       "      <th></th>\n",
       "      <th>Unnamed: 0</th>\n",
       "      <th>sample</th>\n",
       "      <th>Population</th>\n",
       "      <th>Holdout</th>\n",
       "    </tr>\n",
       "  </thead>\n",
       "  <tbody>\n",
       "    <tr>\n",
       "      <th>0</th>\n",
       "      <td>0</td>\n",
       "      <td>Z001E0001</td>\n",
       "      <td>B73 x B97</td>\n",
       "      <td>22</td>\n",
       "    </tr>\n",
       "    <tr>\n",
       "      <th>1</th>\n",
       "      <td>1</td>\n",
       "      <td>Z001E0002</td>\n",
       "      <td>B73 x B97</td>\n",
       "      <td>22</td>\n",
       "    </tr>\n",
       "    <tr>\n",
       "      <th>2</th>\n",
       "      <td>2</td>\n",
       "      <td>Z001E0003</td>\n",
       "      <td>B73 x B97</td>\n",
       "      <td>22</td>\n",
       "    </tr>\n",
       "    <tr>\n",
       "      <th>3</th>\n",
       "      <td>3</td>\n",
       "      <td>Z001E0004</td>\n",
       "      <td>B73 x B97</td>\n",
       "      <td>22</td>\n",
       "    </tr>\n",
       "    <tr>\n",
       "      <th>4</th>\n",
       "      <td>4</td>\n",
       "      <td>Z001E0005</td>\n",
       "      <td>B73 x B97</td>\n",
       "      <td>22</td>\n",
       "    </tr>\n",
       "    <tr>\n",
       "      <th>...</th>\n",
       "      <td>...</td>\n",
       "      <td>...</td>\n",
       "      <td>...</td>\n",
       "      <td>...</td>\n",
       "    </tr>\n",
       "    <tr>\n",
       "      <th>4671</th>\n",
       "      <td>4671</td>\n",
       "      <td>Z026E0196</td>\n",
       "      <td>B73 x Tzi8</td>\n",
       "      <td>0</td>\n",
       "    </tr>\n",
       "    <tr>\n",
       "      <th>4672</th>\n",
       "      <td>4672</td>\n",
       "      <td>Z026E0197</td>\n",
       "      <td>B73 x Tzi8</td>\n",
       "      <td>0</td>\n",
       "    </tr>\n",
       "    <tr>\n",
       "      <th>4673</th>\n",
       "      <td>4673</td>\n",
       "      <td>Z026E0198</td>\n",
       "      <td>B73 x Tzi8</td>\n",
       "      <td>0</td>\n",
       "    </tr>\n",
       "    <tr>\n",
       "      <th>4674</th>\n",
       "      <td>4674</td>\n",
       "      <td>Z026E0199</td>\n",
       "      <td>B73 x Tzi8</td>\n",
       "      <td>0</td>\n",
       "    </tr>\n",
       "    <tr>\n",
       "      <th>4675</th>\n",
       "      <td>4675</td>\n",
       "      <td>Z026E0200</td>\n",
       "      <td>B73 x Tzi8</td>\n",
       "      <td>0</td>\n",
       "    </tr>\n",
       "  </tbody>\n",
       "</table>\n",
       "<p>4676 rows × 4 columns</p>\n",
       "</div>"
      ],
      "text/plain": [
       "      Unnamed: 0     sample  Population Holdout\n",
       "0              0  Z001E0001   B73 x B97      22\n",
       "1              1  Z001E0002   B73 x B97      22\n",
       "2              2  Z001E0003   B73 x B97      22\n",
       "3              3  Z001E0004   B73 x B97      22\n",
       "4              4  Z001E0005   B73 x B97      22\n",
       "...          ...        ...         ...     ...\n",
       "4671        4671  Z026E0196  B73 x Tzi8       0\n",
       "4672        4672  Z026E0197  B73 x Tzi8       0\n",
       "4673        4673  Z026E0198  B73 x Tzi8       0\n",
       "4674        4674  Z026E0199  B73 x Tzi8       0\n",
       "4675        4675  Z026E0200  B73 x Tzi8       0\n",
       "\n",
       "[4676 rows x 4 columns]"
      ]
     },
     "execution_count": null,
     "metadata": {},
     "output_type": "execute_result"
    }
   ],
   "source": [
    "# Define holdout sets (Populations)\n",
    "uniq_pop = list(set(taxa_groupings['Population']))\n",
    "print(str(len(uniq_pop))+\" Unique Holdout Groups.\")\n",
    "taxa_groupings['Holdout'] = None\n",
    "for i in range(len(uniq_pop)):\n",
    "    mask = (taxa_groupings['Population'] == uniq_pop[i])\n",
    "    taxa_groupings.loc[mask, 'Holdout'] = i\n",
    "\n",
    "taxa_groupings"
   ]
  },
  {
   "cell_type": "markdown",
   "id": "8c685f85",
   "metadata": {},
   "source": [
    "## Setup Holdouts"
   ]
  },
  {
   "cell_type": "code",
   "execution_count": null,
   "id": "6efb7161",
   "metadata": {},
   "outputs": [],
   "source": [
    "#randomly holdout a population if there is not a file with the population held out.\n",
    "# Holdout_Int = 0\n",
    "Holdout_Int_path = '../models/'+nb_name+'/holdout_pop_int.pkl'\n",
    "if None != get_cached_result(Holdout_Int_path):\n",
    "    Holdout_Int = get_cached_result(Holdout_Int_path)\n",
    "else:\n",
    "    Holdout_Int = int(np.random.choice([i for i in range(len(uniq_pop))], 1))\n",
    "    put_cached_result(Holdout_Int_path, Holdout_Int)\n"
   ]
  },
  {
   "cell_type": "code",
   "execution_count": null,
   "id": "f26e125e",
   "metadata": {},
   "outputs": [
    {
     "name": "stdout",
     "output_type": "stream",
     "text": [
      "Holding out i=12: B73 x CML103\n"
     ]
    }
   ],
   "source": [
    "print(\"Holding out i=\"+str(Holdout_Int)+\": \"+uniq_pop[Holdout_Int])\n",
    "\n",
    "mask = (taxa_groupings['Holdout'] == Holdout_Int)\n",
    "train_idxs = list(taxa_groupings.loc[~mask, ].index)\n",
    "test_idxs = list(taxa_groupings.loc[mask, ].index)"
   ]
  },
  {
   "cell_type": "code",
   "execution_count": null,
   "id": "b32d3d1c",
   "metadata": {},
   "outputs": [],
   "source": [
    "# used to go from index in tensor to index in data so that the right xs tensor can be loaded in\n",
    "idx_original = np.array(data.index)\n",
    "\n",
    "y1 = data['leaf_length']\n",
    "y2 = data['leaf_width']\n",
    "y3 = data['upper_leaf_angle']\n",
    "y1 = np.array(y1)\n",
    "y2 = np.array(y2)\n",
    "y3 = np.array(y3)"
   ]
  },
  {
   "cell_type": "markdown",
   "id": "96baeb0b",
   "metadata": {},
   "source": [
    "### Scale data"
   ]
  },
  {
   "cell_type": "code",
   "execution_count": null,
   "id": "299529a4",
   "metadata": {},
   "outputs": [],
   "source": [
    "scale_dict = {\n",
    "    'y1':calc_cs(y1[train_idxs]),\n",
    "    'y2':calc_cs(y2[train_idxs]),\n",
    "    'y3':calc_cs(y3[train_idxs])\n",
    "}"
   ]
  },
  {
   "cell_type": "code",
   "execution_count": null,
   "id": "9a623200",
   "metadata": {},
   "outputs": [],
   "source": [
    "y1 = apply_cs(y1, scale_dict['y1'])\n",
    "y2 = apply_cs(y2, scale_dict['y2'])\n",
    "y3 = apply_cs(y3, scale_dict['y3'])"
   ]
  },
  {
   "cell_type": "markdown",
   "id": "b5e73590",
   "metadata": {},
   "source": [
    "## Allow for cycling data onto and off of GPU"
   ]
  },
  {
   "cell_type": "code",
   "execution_count": null,
   "id": "52f8b1de",
   "metadata": {},
   "outputs": [],
   "source": [
    "# loading this into memory causes the session to crash\n",
    "\n",
    "y1_train = torch.from_numpy(y1[train_idxs])[:, None]\n",
    "y2_train = torch.from_numpy(y2[train_idxs])[:, None]\n",
    "y3_train = torch.from_numpy(y3[train_idxs])[:, None]\n",
    "\n",
    "idx_original_train = torch.from_numpy(idx_original[train_idxs])\n",
    "\n",
    "y1_test = torch.from_numpy(y1[test_idxs])[:, None]\n",
    "y2_test = torch.from_numpy(y2[test_idxs])[:, None]\n",
    "y3_test = torch.from_numpy(y3[test_idxs])[:, None]\n",
    "\n",
    "idx_original_test = torch.from_numpy(idx_original[test_idxs])"
   ]
  },
  {
   "cell_type": "code",
   "execution_count": null,
   "id": "5dbff89d",
   "metadata": {},
   "outputs": [
    {
     "name": "stdout",
     "output_type": "stream",
     "text": [
      "Using cuda device\n"
     ]
    }
   ],
   "source": [
    "class CustomDataset(Dataset):\n",
    "    device = \"cuda\" if torch.cuda.is_available() else \"cpu\"\n",
    "    if use_gpu_num in [0, 1]: \n",
    "        torch.cuda.set_device(use_gpu_num)\n",
    "    print(f\"Using {device} device\")\n",
    "    \n",
    "    def __init__(self, y1, y2, y3, \n",
    "                 idx_original,\n",
    "                 transform = None, target_transform = None, \n",
    "                 **kwargs\n",
    "                ):\n",
    "        self.y1 = y1\n",
    "        self.y2 = y2\n",
    "        self.y3 = y3\n",
    "        self.idx_original = idx_original\n",
    "        self.transform = transform\n",
    "        self.target_transform = target_transform    \n",
    "    \n",
    "    def __len__(self):\n",
    "        return len(self.y1)\n",
    "    \n",
    "    def __getitem__(self, idx):\n",
    "        y1_idx = self.y1[idx].to(device).float()\n",
    "        y2_idx = self.y2[idx].to(device).float()\n",
    "        y3_idx = self.y3[idx].to(device).float()\n",
    "        \n",
    "        \n",
    "        # Change type of xs loaded !! ----------------------------------------\n",
    "        # load in xs as they are needed.\n",
    "        # Non-Hilbert Version\n",
    "        \n",
    "        \n",
    "        save_path = '../models/10_TianEtAl2011/markers/'\n",
    "        # Hilbert version\n",
    "        # save_path = '../models/'+nb_name+'/hilbert/'\n",
    "        save_file_path = save_path+'m'+str(int(self.idx_original[idx]))+'.npz'\n",
    "        xs_idx = np.load(save_file_path)['arr_0']\n",
    "        xs_idx = torch.from_numpy(xs_idx).to(device).float()\n",
    "        xs_idx = xs_idx.squeeze()\n",
    "        \n",
    "        # to match pytorch's conventions channel must be in the second dim\n",
    "        xs_idx = torch.swapaxes(xs_idx, 0, 1) \n",
    "        \n",
    "        if self.transform:\n",
    "            xs_idx = self.transform(xs_idx)\n",
    "            \n",
    "        if self.target_transform:\n",
    "            y1_idx = self.transform(y1_idx)\n",
    "            y2_idx = self.transform(y2_idx)\n",
    "            y3_idx = self.transform(y3_idx)\n",
    "        return xs_idx, y1_idx, y2_idx, y3_idx"
   ]
  },
  {
   "cell_type": "code",
   "execution_count": null,
   "id": "d8d9f73c",
   "metadata": {},
   "outputs": [],
   "source": [
    "training_dataloader = DataLoader(\n",
    "    CustomDataset(\n",
    "        y1 = y1_train,\n",
    "        y2 = y2_train,\n",
    "        y3 = y3_train,\n",
    "        idx_original = idx_original_train\n",
    "    ), \n",
    "    batch_size = 64, \n",
    "    shuffle = True)\n",
    "\n",
    "testing_dataloader = DataLoader(\n",
    "    CustomDataset(\n",
    "        y1 = y1_test,\n",
    "        y2 = y2_test,\n",
    "        y3 = y3_test,\n",
    "        idx_original = idx_original_train\n",
    "    ), \n",
    "    batch_size = 64, \n",
    "    shuffle = True)"
   ]
  },
  {
   "cell_type": "code",
   "execution_count": null,
   "id": "ec45abe8",
   "metadata": {},
   "outputs": [],
   "source": [
    "xs_i, y1_i, y2_i, y3_i = next(iter(training_dataloader))"
   ]
  },
  {
   "cell_type": "code",
   "execution_count": null,
   "id": "06a51d06",
   "metadata": {},
   "outputs": [],
   "source": [
    "# del training_dataloader"
   ]
  },
  {
   "cell_type": "code",
   "execution_count": null,
   "id": "cc9cde45",
   "metadata": {},
   "outputs": [],
   "source": [
    "# torch.cuda.empty_cache()"
   ]
  },
  {
   "cell_type": "code",
   "execution_count": null,
   "id": "eff2b84d",
   "metadata": {},
   "outputs": [
    {
     "data": {
      "text/plain": [
       "torch.Size([64, 4, 943455])"
      ]
     },
     "execution_count": null,
     "metadata": {},
     "output_type": "execute_result"
    }
   ],
   "source": [
    "xs_i.shape"
   ]
  },
  {
   "cell_type": "code",
   "execution_count": null,
   "id": "38477d29",
   "metadata": {},
   "outputs": [],
   "source": [
    "class NeuralNetwork(nn.Module):\n",
    "    def __init__(self):\n",
    "        super(NeuralNetwork, self).__init__()    \n",
    "        self.x_network = nn.Sequential(\n",
    "            nn.Conv1d(\n",
    "                in_channels= 4, # second channel\n",
    "                out_channels= 4,\n",
    "                kernel_size= 3,\n",
    "                stride= 2\n",
    "            ), \n",
    "            nn.MaxPool1d((3,), stride=2),\n",
    "            nn.Conv1d(\n",
    "                in_channels= 4, # second channel\n",
    "                out_channels= 4,\n",
    "                kernel_size= 3,\n",
    "                stride= 2\n",
    "            ), \n",
    "            nn.MaxPool1d((3,), stride=2),\n",
    "            nn.Conv1d(\n",
    "                in_channels= 4, # second channel\n",
    "                out_channels= 4,\n",
    "                kernel_size= 3,\n",
    "                stride= 2\n",
    "            ), \n",
    "            nn.MaxPool1d((3,), stride=2),\n",
    "            nn.Conv1d(\n",
    "                in_channels= 4, # second channel\n",
    "                out_channels= 4,\n",
    "                kernel_size= 3,\n",
    "                stride= 2\n",
    "            ), \n",
    "            nn.MaxPool1d((3,), stride=2),\n",
    "            nn.Conv1d(\n",
    "                in_channels= 4, # second channel\n",
    "                out_channels= 4,\n",
    "                kernel_size= 3,\n",
    "                stride= 2\n",
    "            ), \n",
    "            nn.MaxPool1d((3,), stride=2),\n",
    "            nn.Conv1d(\n",
    "                in_channels= 4, # second channel\n",
    "                out_channels= 4,\n",
    "                kernel_size= 3,\n",
    "                stride= 2\n",
    "            ), \n",
    "            nn.MaxPool1d((3,), stride=2),\n",
    "            nn.Conv1d(\n",
    "                in_channels= 4, # second channel\n",
    "                out_channels= 4,\n",
    "                kernel_size= 3,\n",
    "                stride= 2\n",
    "            ), \n",
    "            nn.MaxPool1d((3,), stride=2),\n",
    "            nn.Conv1d(\n",
    "                in_channels= 4, # second channel\n",
    "                out_channels= 4,\n",
    "                kernel_size= 3,\n",
    "                stride= 2\n",
    "            ), \n",
    "            nn.MaxPool1d((3,), stride=2),\n",
    "            \n",
    "            nn.Flatten(),\n",
    "            nn.Linear(52, 32),\n",
    "            nn.BatchNorm1d(32),\n",
    "            nn.ReLU(),\n",
    "                        \n",
    "            nn.Linear(32, 32),\n",
    "            nn.BatchNorm1d(32),\n",
    "            nn.ReLU(),\n",
    "            \n",
    "            nn.Linear(32, 1)\n",
    "        )\n",
    "        \n",
    "    def forward(self, x):\n",
    "        x_out = self.x_network(x)\n",
    "        return x_out"
   ]
  },
  {
   "cell_type": "code",
   "execution_count": null,
   "id": "93e14f7c",
   "metadata": {},
   "outputs": [],
   "source": []
  },
  {
   "cell_type": "code",
   "execution_count": null,
   "id": "e3984589",
   "metadata": {},
   "outputs": [],
   "source": []
  },
  {
   "cell_type": "code",
   "execution_count": null,
   "id": "166ccd0f",
   "metadata": {},
   "outputs": [],
   "source": [
    "if not os.path.exists('../models/'+nb_name+'/model.pt'): \n",
    "    model = NeuralNetwork().to(device)\n",
    "    # print(model)\n",
    "    # model(xs_i).shape # try prediction on one batch"
   ]
  },
  {
   "cell_type": "code",
   "execution_count": null,
   "id": "e5e233b7",
   "metadata": {},
   "outputs": [],
   "source": []
  },
  {
   "cell_type": "code",
   "execution_count": null,
   "id": "544837ee",
   "metadata": {},
   "outputs": [],
   "source": [
    "def train_loop(dataloader, model, loss_fn, optimizer, silent = False):\n",
    "    size = len(dataloader.dataset)\n",
    "    for batch, (xs_i, y1_i, y2_i, y3_i) in enumerate(dataloader):\n",
    "        # Compute prediction and loss\n",
    "        pred = model(xs_i)\n",
    "        loss = loss_fn(pred, y1_i) # <----------------------------------------\n",
    "\n",
    "        # Backpropagation\n",
    "        optimizer.zero_grad()\n",
    "        loss.backward()\n",
    "        optimizer.step()\n",
    "\n",
    "        if batch % 100 == 0:\n",
    "            loss, current = loss.item(), batch * len(y1_i) # <----------------\n",
    "            if not silent:\n",
    "                print(f\"loss: {loss:>7f}  [{current:>5d}/{size:>5d}]\")\n",
    "\n",
    "                \n",
    "def train_error(dataloader, model, loss_fn, silent = False):\n",
    "    size = len(dataloader.dataset)\n",
    "    num_batches = len(dataloader)\n",
    "    train_loss = 0\n",
    "\n",
    "    with torch.no_grad():\n",
    "        for xs_i, y1_i, y2_i, y3_i in dataloader:\n",
    "            pred = model(xs_i)\n",
    "            train_loss += loss_fn(pred, y1_i).item() # <----------------------\n",
    "            \n",
    "    train_loss /= num_batches\n",
    "    return(train_loss) \n",
    "\n",
    "            \n",
    "def test_loop(dataloader, model, loss_fn, silent = False):\n",
    "    size = len(dataloader.dataset)\n",
    "    num_batches = len(dataloader)\n",
    "    test_loss = 0\n",
    "\n",
    "    with torch.no_grad():\n",
    "        for xs_i, y1_i, y2_i, y3_i in dataloader:\n",
    "            pred = model(xs_i)\n",
    "            test_loss += loss_fn(pred, y1_i).item() # <-----------------------\n",
    "\n",
    "    test_loss /= num_batches\n",
    "    if not silent:\n",
    "        print(f\"Test Error: Avg loss: {test_loss:>8f}\")\n",
    "    return(test_loss) "
   ]
  },
  {
   "cell_type": "code",
   "execution_count": null,
   "id": "29402a2f",
   "metadata": {},
   "outputs": [],
   "source": [
    "def train_nn(\n",
    "    training_dataloader,\n",
    "    testing_dataloader,\n",
    "    model,\n",
    "    learning_rate = 1e-3,\n",
    "    batch_size = 64,\n",
    "    epochs = 500\n",
    "):\n",
    "    # Initialize the loss function\n",
    "    loss_fn = nn.MSELoss()\n",
    "    optimizer = torch.optim.SGD(model.parameters(), lr=learning_rate)\n",
    "\n",
    "    loss_df = pd.DataFrame([i for i in range(epochs)], columns = ['Epoch'])\n",
    "    loss_df['TrainMSE'] = np.nan\n",
    "    loss_df['TestMSE']  = np.nan\n",
    "\n",
    "    for t in tqdm(range(epochs)):        \n",
    "#         print(f\"Epoch {t+1}\\n-------------------------------\")\n",
    "        train_loop(training_dataloader, model, loss_fn, optimizer, silent = True)\n",
    "\n",
    "        loss_df.loc[loss_df.index == t, 'TrainMSE'\n",
    "                   ] = train_error(training_dataloader, model, loss_fn, silent = True)\n",
    "        \n",
    "        loss_df.loc[loss_df.index == t, 'TestMSE'\n",
    "                   ] = test_loop(testing_dataloader, model, loss_fn, silent = True)\n",
    "        \n",
    "        if (t+1)%10: # Cache in case training is interupted\n",
    "            print(loss_df.loc[loss_df.index == t, ['TrainMSE', 'TestMSE']])\n",
    "            torch.save(model.state_dict(), \n",
    "                       '../models/'+nb_name+'/model_'+str(t)+'_'+str(epochs)+'.pt') # convention is to use .pt or .pth\n",
    "        \n",
    "    return([model, loss_df])"
   ]
  },
  {
   "cell_type": "code",
   "execution_count": null,
   "id": "e3999951",
   "metadata": {},
   "outputs": [],
   "source": [
    "# don't run if either of these exist because there may be cases where we want the results but not the model\n",
    "\n",
    "if not os.path.exists('../models/'+nb_name+'/model.pt'): \n",
    "\n",
    "    model, loss_df = train_nn(\n",
    "        training_dataloader,\n",
    "        testing_dataloader,\n",
    "        model,\n",
    "        learning_rate = 1e-3,\n",
    "        batch_size = 64,\n",
    "        epochs = 200\n",
    "    )\n",
    "    \n",
    "    # experimental outputs:\n",
    "    # 1. Model\n",
    "    torch.save(model.state_dict(), '../models/'+nb_name+'/model.pt') # convention is to use .pt or .pth\n",
    "\n",
    "    # 2. loss_df\n",
    "    loss_df.to_csv('../reports/'+nb_name+'/loss_df.csv', index=False)  \n",
    "    \n",
    "# 200/200 [15:15:15<00:00, 274.58s/it]"
   ]
  },
  {
   "cell_type": "code",
   "execution_count": null,
   "id": "07fea75f",
   "metadata": {},
   "outputs": [],
   "source": [
    "loss_df = pd.read_csv('../reports/'+nb_name+'/loss_df.csv')"
   ]
  },
  {
   "cell_type": "code",
   "execution_count": null,
   "id": "af187628",
   "metadata": {},
   "outputs": [
    {
     "data": {
      "application/vnd.plotly.v1+json": {
       "config": {
        "plotlyServerURL": "https://plot.ly"
       },
       "data": [
        {
         "mode": "lines",
         "name": "Train",
         "type": "scatter",
         "x": [
          0,
          1,
          2,
          3,
          4,
          5,
          6,
          7,
          8,
          9,
          10,
          11,
          12,
          13,
          14,
          15,
          16,
          17,
          18,
          19,
          20,
          21,
          22,
          23,
          24,
          25,
          26,
          27,
          28,
          29,
          30,
          31,
          32,
          33,
          34,
          35,
          36,
          37,
          38,
          39,
          40,
          41,
          42,
          43,
          44,
          45,
          46,
          47,
          48,
          49,
          50,
          51,
          52,
          53,
          54,
          55,
          56,
          57,
          58,
          59,
          60,
          61,
          62,
          63,
          64,
          65,
          66,
          67,
          68,
          69,
          70,
          71,
          72,
          73,
          74,
          75,
          76,
          77,
          78,
          79,
          80,
          81,
          82,
          83,
          84,
          85,
          86,
          87,
          88,
          89,
          90,
          91,
          92,
          93,
          94,
          95,
          96,
          97,
          98,
          99,
          100,
          101,
          102,
          103,
          104,
          105,
          106,
          107,
          108,
          109,
          110,
          111,
          112,
          113,
          114,
          115,
          116,
          117,
          118,
          119,
          120,
          121,
          122,
          123,
          124,
          125,
          126,
          127,
          128,
          129,
          130,
          131,
          132,
          133,
          134,
          135,
          136,
          137,
          138,
          139,
          140,
          141,
          142,
          143,
          144,
          145,
          146,
          147,
          148,
          149,
          150,
          151,
          152,
          153,
          154,
          155,
          156,
          157,
          158,
          159,
          160,
          161,
          162,
          163,
          164,
          165,
          166,
          167,
          168,
          169,
          170,
          171,
          172,
          173,
          174,
          175,
          176,
          177,
          178,
          179,
          180,
          181,
          182,
          183,
          184,
          185,
          186,
          187,
          188,
          189,
          190,
          191,
          192,
          193,
          194,
          195,
          196,
          197,
          198,
          199
         ],
         "y": [
          0.9909678168699776,
          0.9027588266721912,
          0.8605400768803878,
          0.8284184475180129,
          0.8046848706796136,
          0.7839460121074193,
          0.7572963930351634,
          0.7494486624925909,
          0.723766394484211,
          0.7140925203410673,
          0.6987783908843994,
          0.6997294677814967,
          0.6894023049045617,
          0.678446416283997,
          0.6793232472010062,
          0.6925602450337208,
          0.6425556099750627,
          0.6421438287681257,
          0.6344720129395874,
          0.6350086083714391,
          0.6348018436364724,
          0.6189347245323826,
          0.6171873216058167,
          0.6364562100088093,
          0.6135460856095166,
          0.5996345050737891,
          0.6123313496650105,
          0.6125140765183409,
          0.6206630770589264,
          0.6200287816390185,
          0.595472363099246,
          0.6016664135623986,
          0.5964059229467956,
          0.5802267114041557,
          0.5808994119435968,
          0.5877567680788712,
          0.5749185030728998,
          0.5810807846801381,
          0.5991195373132195,
          0.5664638520126611,
          0.5813503886612368,
          0.5768482248548051,
          0.5910288527817793,
          0.5639692922713051,
          0.5650724155802123,
          0.5621982296587715,
          0.5656544272328766,
          0.5641458949572603,
          0.5712418980161909,
          0.5764558084414039,
          0.5723195453764687,
          0.5750299394130707,
          0.5620387284688546,
          0.5706479994344039,
          0.5473831132264204,
          0.5626418611533205,
          0.535169006653235,
          0.5688544667102922,
          0.5350849347215303,
          0.5445851326828272,
          0.5485835600067193,
          0.5369718146156257,
          0.5429596850569819,
          0.5368066971570673,
          0.5385987305305373,
          0.5477638853267884,
          0.5401048509167953,
          0.5575136542320251,
          0.5433119354953229,
          0.5292905619446661,
          0.5553947498261089,
          0.5387392354683137,
          0.5589581413168303,
          0.5296191526970393,
          0.5624553389112714,
          0.5274710701385015,
          0.5289022553134972,
          0.5256074721544561,
          0.5278148877788598,
          0.5419056575063249,
          0.5464843087632891,
          0.5106875363370063,
          0.5481820286999286,
          0.5058152772171397,
          0.523681811883416,
          0.5304010468469539,
          0.5164103105034626,
          0.5209565523644568,
          0.5101613364589046,
          0.5198377274291616,
          0.5098316039837582,
          0.5050102619218154,
          0.5186158607543354,
          0.5039671021448054,
          0.5073186965055869,
          0.5099902190792729,
          0.4978922869957669,
          0.4919541050011004,
          0.5113773811870898,
          0.5110127262666192,
          0.5075769558758803,
          0.505596012296811,
          0.521600926006344,
          0.5119582003271076,
          0.4960961471980726,
          0.4963013722862995,
          0.5136127748959501,
          0.4925606066072491,
          0.5058282752272109,
          0.4895163913008193,
          0.5057021690086579,
          0.4945359649792523,
          0.5007807255630762,
          0.4976221600048978,
          0.484387435543705,
          0.4902235542384671,
          0.4908531429901929,
          0.4900407946445572,
          0.4909628642276978,
          0.4841628129213629,
          0.5037572530793472,
          0.4887759290950399,
          0.4970387753466485,
          0.4991830520226922,
          0.4921771019277438,
          0.4874159521620038,
          0.4865607543730399,
          0.4888583908618336,
          0.4759555727663174,
          0.4924113809222906,
          0.4676209683989135,
          0.4745986146826139,
          0.4815373017754353,
          0.4986175160172959,
          0.4823022711444908,
          0.5016533879327102,
          0.4750763425524805,
          0.4744246123542248,
          0.4688295138553834,
          0.4893100467366232,
          0.5012314307018065,
          0.4798060957814606,
          0.4845452178531969,
          0.4887012327221078,
          0.4640061238282163,
          0.4774732694659435,
          0.4880278278404558,
          0.4684493323446999,
          0.4756856812557704,
          0.4846343557599564,
          0.4485100444773553,
          0.4642958777471327,
          0.4798577142433381,
          0.4714327580492261,
          0.4683547343166781,
          0.4818879420488653,
          0.468871298390375,
          0.4651504024653367,
          0.496786141059768,
          0.4784900881874729,
          0.4831384441382448,
          0.4702271886274848,
          0.4648588702712261,
          0.4588251491667519,
          0.4530593030889269,
          0.4584422900643147,
          0.4660885913271299,
          0.4540176106170869,
          0.4875241652340956,
          0.4857984936573136,
          0.4651220054693625,
          0.4642593180629569,
          0.4614083540271705,
          0.4565672016059848,
          0.469335697486367,
          0.4698243829565988,
          0.4739372293714066,
          0.4647082896299765,
          0.44900993771956,
          0.4472117717836944,
          0.4459826249471852,
          0.4577777960770566,
          0.4795183816426236,
          0.4711888235219767,
          0.4842678824780692,
          0.4556944836193407,
          0.447923246823566,
          0.4554926967117148,
          0.4832303637350109,
          0.4445942224751056,
          0.4889708127773983,
          0.4575618866463782,
          0.4486963790906986,
          0.4715840627609844,
          0.4489279536294265,
          0.4505186156487801,
          0.4619281541713526,
          0.4445926144089497,
          0.4414382581139954,
          0.4401345360027233
         ]
        },
        {
         "mode": "lines",
         "name": "Test",
         "type": "scatter",
         "x": [
          0,
          1,
          2,
          3,
          4,
          5,
          6,
          7,
          8,
          9,
          10,
          11,
          12,
          13,
          14,
          15,
          16,
          17,
          18,
          19,
          20,
          21,
          22,
          23,
          24,
          25,
          26,
          27,
          28,
          29,
          30,
          31,
          32,
          33,
          34,
          35,
          36,
          37,
          38,
          39,
          40,
          41,
          42,
          43,
          44,
          45,
          46,
          47,
          48,
          49,
          50,
          51,
          52,
          53,
          54,
          55,
          56,
          57,
          58,
          59,
          60,
          61,
          62,
          63,
          64,
          65,
          66,
          67,
          68,
          69,
          70,
          71,
          72,
          73,
          74,
          75,
          76,
          77,
          78,
          79,
          80,
          81,
          82,
          83,
          84,
          85,
          86,
          87,
          88,
          89,
          90,
          91,
          92,
          93,
          94,
          95,
          96,
          97,
          98,
          99,
          100,
          101,
          102,
          103,
          104,
          105,
          106,
          107,
          108,
          109,
          110,
          111,
          112,
          113,
          114,
          115,
          116,
          117,
          118,
          119,
          120,
          121,
          122,
          123,
          124,
          125,
          126,
          127,
          128,
          129,
          130,
          131,
          132,
          133,
          134,
          135,
          136,
          137,
          138,
          139,
          140,
          141,
          142,
          143,
          144,
          145,
          146,
          147,
          148,
          149,
          150,
          151,
          152,
          153,
          154,
          155,
          156,
          157,
          158,
          159,
          160,
          161,
          162,
          163,
          164,
          165,
          166,
          167,
          168,
          169,
          170,
          171,
          172,
          173,
          174,
          175,
          176,
          177,
          178,
          179,
          180,
          181,
          182,
          183,
          184,
          185,
          186,
          187,
          188,
          189,
          190,
          191,
          192,
          193,
          194,
          195,
          196,
          197,
          198,
          199
         ],
         "y": [
          4.7500762939453125,
          4.221206347147624,
          4.0466963450113935,
          4.044256528218587,
          3.9377594788869215,
          3.96709934870402,
          3.940754652023315,
          3.9848033587137857,
          3.930889288584391,
          3.909950574239095,
          3.9273601373036704,
          3.9254422187805176,
          3.920830170313517,
          3.942605018615722,
          3.9566900730133057,
          3.933678229649862,
          3.95957358678182,
          3.9039268493652335,
          3.9169957637786874,
          3.9663780530293775,
          3.965798536936442,
          4.012823422749837,
          3.990515152613322,
          4.0009082953135175,
          3.967738231023153,
          3.9626564184824624,
          4.031543890635173,
          3.979968706766764,
          4.048171599706014,
          4.023857593536377,
          3.973342498143514,
          4.071294784545898,
          3.9524713357289634,
          4.042054891586304,
          4.00008757909139,
          4.018721501032512,
          4.047605673472087,
          4.017415682474772,
          4.111408074696858,
          4.023149887720744,
          4.071714480717977,
          4.065451463063558,
          4.0049534638722735,
          3.990056037902832,
          3.988490660985311,
          4.063981533050537,
          4.066497325897217,
          4.061280091603597,
          4.018806139628093,
          4.076251586278279,
          4.107618729273479,
          4.099699258804321,
          4.102103551228841,
          4.0556113719940186,
          4.083306392033895,
          4.0369486808776855,
          4.088131904602051,
          4.078309933344523,
          4.111874421437581,
          4.036831935246785,
          4.094050884246826,
          4.044049342473348,
          4.073425928751628,
          4.095225652058919,
          4.080645243326823,
          4.069488048553467,
          4.059743563334147,
          4.098006804784139,
          4.0689694086710615,
          4.043663501739502,
          4.081496636072795,
          4.05461859703064,
          4.136944532394409,
          4.040770371754964,
          4.063921769460042,
          4.172358989715576,
          4.071783224741618,
          4.103194713592529,
          4.061765591303508,
          4.136207183202108,
          4.127998352050781,
          4.074327786763509,
          4.100417534510295,
          4.003220081329346,
          4.07009744644165,
          4.185859600702922,
          4.075090328852336,
          4.161413510640462,
          4.140118360519409,
          4.1207858721415205,
          4.144396464029948,
          4.12924059232076,
          4.067631403605144,
          4.097692330678304,
          4.17484172185262,
          4.035382191340129,
          4.110253254572551,
          4.1228500207265215,
          4.1146416664123535,
          4.145182212193807,
          4.173494180043538,
          4.077502409617106,
          4.21146575609843,
          4.077148914337158,
          4.1920755704243975,
          4.16461181640625,
          4.134218295415242,
          4.0691295464833575,
          4.126542091369629,
          4.113067626953125,
          4.065662225087483,
          4.148576259613037,
          4.185821533203125,
          4.073904832204183,
          4.083563089370728,
          4.113421281178792,
          4.135988235473633,
          4.143119812011719,
          4.165169795354207,
          4.173301855723064,
          4.107002019882202,
          4.156843662261963,
          4.113836208979289,
          4.199933369954427,
          4.181718031565349,
          4.112428665161133,
          4.201080799102783,
          4.198186794916789,
          4.15037186940511,
          4.141021728515625,
          4.135079065958659,
          4.088110049565633,
          4.229585329691569,
          4.170217355092366,
          4.13029678662618,
          4.130433559417725,
          4.138041893641154,
          4.176169395446777,
          4.138171037038167,
          4.100665171941121,
          4.190047105153401,
          4.1747260093688965,
          4.1125844319661455,
          4.165306329727173,
          4.0653731028238935,
          4.139373381932576,
          4.10950247446696,
          4.154987494150798,
          4.095321496327718,
          4.091458717981975,
          4.153602123260498,
          4.194077173868815,
          4.181960026423137,
          4.228191216786702,
          4.144361972808838,
          4.13470196723938,
          4.1933324337005615,
          4.139021714528401,
          4.059001207351685,
          4.118239084879558,
          4.160660584767659,
          4.143826802571614,
          4.20005480448405,
          4.173492749532064,
          4.156146764755249,
          4.127933661142985,
          4.138577461242676,
          4.154588381449382,
          4.1839704513549805,
          4.186352411905925,
          4.126827398935954,
          4.236183802286784,
          4.152074734369914,
          4.116098880767822,
          4.193038781483968,
          4.176417827606201,
          4.20692761739095,
          4.19438902537028,
          4.186828136444092,
          4.182265599568685,
          4.225788275400798,
          4.225274721781413,
          4.081517219543457,
          4.197548866271973,
          4.139262517293294,
          4.149228970209758,
          4.1300285657246905,
          4.220142761866252,
          4.122073729832967,
          4.130896647771199,
          4.2136227289835615,
          4.265238205591838,
          4.183050632476807,
          4.134245077768962,
          4.209487915039063,
          4.236339728037517,
          4.206366856892903,
          4.14003308614095,
          4.20955244700114,
          4.152894973754883
         ]
        }
       ],
       "layout": {
        "template": {
         "data": {
          "bar": [
           {
            "error_x": {
             "color": "#2a3f5f"
            },
            "error_y": {
             "color": "#2a3f5f"
            },
            "marker": {
             "line": {
              "color": "white",
              "width": 0.5
             },
             "pattern": {
              "fillmode": "overlay",
              "size": 10,
              "solidity": 0.2
             }
            },
            "type": "bar"
           }
          ],
          "barpolar": [
           {
            "marker": {
             "line": {
              "color": "white",
              "width": 0.5
             },
             "pattern": {
              "fillmode": "overlay",
              "size": 10,
              "solidity": 0.2
             }
            },
            "type": "barpolar"
           }
          ],
          "carpet": [
           {
            "aaxis": {
             "endlinecolor": "#2a3f5f",
             "gridcolor": "#C8D4E3",
             "linecolor": "#C8D4E3",
             "minorgridcolor": "#C8D4E3",
             "startlinecolor": "#2a3f5f"
            },
            "baxis": {
             "endlinecolor": "#2a3f5f",
             "gridcolor": "#C8D4E3",
             "linecolor": "#C8D4E3",
             "minorgridcolor": "#C8D4E3",
             "startlinecolor": "#2a3f5f"
            },
            "type": "carpet"
           }
          ],
          "choropleth": [
           {
            "colorbar": {
             "outlinewidth": 0,
             "ticks": ""
            },
            "type": "choropleth"
           }
          ],
          "contour": [
           {
            "colorbar": {
             "outlinewidth": 0,
             "ticks": ""
            },
            "colorscale": [
             [
              0,
              "#0d0887"
             ],
             [
              0.1111111111111111,
              "#46039f"
             ],
             [
              0.2222222222222222,
              "#7201a8"
             ],
             [
              0.3333333333333333,
              "#9c179e"
             ],
             [
              0.4444444444444444,
              "#bd3786"
             ],
             [
              0.5555555555555556,
              "#d8576b"
             ],
             [
              0.6666666666666666,
              "#ed7953"
             ],
             [
              0.7777777777777778,
              "#fb9f3a"
             ],
             [
              0.8888888888888888,
              "#fdca26"
             ],
             [
              1,
              "#f0f921"
             ]
            ],
            "type": "contour"
           }
          ],
          "contourcarpet": [
           {
            "colorbar": {
             "outlinewidth": 0,
             "ticks": ""
            },
            "type": "contourcarpet"
           }
          ],
          "heatmap": [
           {
            "colorbar": {
             "outlinewidth": 0,
             "ticks": ""
            },
            "colorscale": [
             [
              0,
              "#0d0887"
             ],
             [
              0.1111111111111111,
              "#46039f"
             ],
             [
              0.2222222222222222,
              "#7201a8"
             ],
             [
              0.3333333333333333,
              "#9c179e"
             ],
             [
              0.4444444444444444,
              "#bd3786"
             ],
             [
              0.5555555555555556,
              "#d8576b"
             ],
             [
              0.6666666666666666,
              "#ed7953"
             ],
             [
              0.7777777777777778,
              "#fb9f3a"
             ],
             [
              0.8888888888888888,
              "#fdca26"
             ],
             [
              1,
              "#f0f921"
             ]
            ],
            "type": "heatmap"
           }
          ],
          "heatmapgl": [
           {
            "colorbar": {
             "outlinewidth": 0,
             "ticks": ""
            },
            "colorscale": [
             [
              0,
              "#0d0887"
             ],
             [
              0.1111111111111111,
              "#46039f"
             ],
             [
              0.2222222222222222,
              "#7201a8"
             ],
             [
              0.3333333333333333,
              "#9c179e"
             ],
             [
              0.4444444444444444,
              "#bd3786"
             ],
             [
              0.5555555555555556,
              "#d8576b"
             ],
             [
              0.6666666666666666,
              "#ed7953"
             ],
             [
              0.7777777777777778,
              "#fb9f3a"
             ],
             [
              0.8888888888888888,
              "#fdca26"
             ],
             [
              1,
              "#f0f921"
             ]
            ],
            "type": "heatmapgl"
           }
          ],
          "histogram": [
           {
            "marker": {
             "pattern": {
              "fillmode": "overlay",
              "size": 10,
              "solidity": 0.2
             }
            },
            "type": "histogram"
           }
          ],
          "histogram2d": [
           {
            "colorbar": {
             "outlinewidth": 0,
             "ticks": ""
            },
            "colorscale": [
             [
              0,
              "#0d0887"
             ],
             [
              0.1111111111111111,
              "#46039f"
             ],
             [
              0.2222222222222222,
              "#7201a8"
             ],
             [
              0.3333333333333333,
              "#9c179e"
             ],
             [
              0.4444444444444444,
              "#bd3786"
             ],
             [
              0.5555555555555556,
              "#d8576b"
             ],
             [
              0.6666666666666666,
              "#ed7953"
             ],
             [
              0.7777777777777778,
              "#fb9f3a"
             ],
             [
              0.8888888888888888,
              "#fdca26"
             ],
             [
              1,
              "#f0f921"
             ]
            ],
            "type": "histogram2d"
           }
          ],
          "histogram2dcontour": [
           {
            "colorbar": {
             "outlinewidth": 0,
             "ticks": ""
            },
            "colorscale": [
             [
              0,
              "#0d0887"
             ],
             [
              0.1111111111111111,
              "#46039f"
             ],
             [
              0.2222222222222222,
              "#7201a8"
             ],
             [
              0.3333333333333333,
              "#9c179e"
             ],
             [
              0.4444444444444444,
              "#bd3786"
             ],
             [
              0.5555555555555556,
              "#d8576b"
             ],
             [
              0.6666666666666666,
              "#ed7953"
             ],
             [
              0.7777777777777778,
              "#fb9f3a"
             ],
             [
              0.8888888888888888,
              "#fdca26"
             ],
             [
              1,
              "#f0f921"
             ]
            ],
            "type": "histogram2dcontour"
           }
          ],
          "mesh3d": [
           {
            "colorbar": {
             "outlinewidth": 0,
             "ticks": ""
            },
            "type": "mesh3d"
           }
          ],
          "parcoords": [
           {
            "line": {
             "colorbar": {
              "outlinewidth": 0,
              "ticks": ""
             }
            },
            "type": "parcoords"
           }
          ],
          "pie": [
           {
            "automargin": true,
            "type": "pie"
           }
          ],
          "scatter": [
           {
            "fillpattern": {
             "fillmode": "overlay",
             "size": 10,
             "solidity": 0.2
            },
            "type": "scatter"
           }
          ],
          "scatter3d": [
           {
            "line": {
             "colorbar": {
              "outlinewidth": 0,
              "ticks": ""
             }
            },
            "marker": {
             "colorbar": {
              "outlinewidth": 0,
              "ticks": ""
             }
            },
            "type": "scatter3d"
           }
          ],
          "scattercarpet": [
           {
            "marker": {
             "colorbar": {
              "outlinewidth": 0,
              "ticks": ""
             }
            },
            "type": "scattercarpet"
           }
          ],
          "scattergeo": [
           {
            "marker": {
             "colorbar": {
              "outlinewidth": 0,
              "ticks": ""
             }
            },
            "type": "scattergeo"
           }
          ],
          "scattergl": [
           {
            "marker": {
             "colorbar": {
              "outlinewidth": 0,
              "ticks": ""
             }
            },
            "type": "scattergl"
           }
          ],
          "scattermapbox": [
           {
            "marker": {
             "colorbar": {
              "outlinewidth": 0,
              "ticks": ""
             }
            },
            "type": "scattermapbox"
           }
          ],
          "scatterpolar": [
           {
            "marker": {
             "colorbar": {
              "outlinewidth": 0,
              "ticks": ""
             }
            },
            "type": "scatterpolar"
           }
          ],
          "scatterpolargl": [
           {
            "marker": {
             "colorbar": {
              "outlinewidth": 0,
              "ticks": ""
             }
            },
            "type": "scatterpolargl"
           }
          ],
          "scatterternary": [
           {
            "marker": {
             "colorbar": {
              "outlinewidth": 0,
              "ticks": ""
             }
            },
            "type": "scatterternary"
           }
          ],
          "surface": [
           {
            "colorbar": {
             "outlinewidth": 0,
             "ticks": ""
            },
            "colorscale": [
             [
              0,
              "#0d0887"
             ],
             [
              0.1111111111111111,
              "#46039f"
             ],
             [
              0.2222222222222222,
              "#7201a8"
             ],
             [
              0.3333333333333333,
              "#9c179e"
             ],
             [
              0.4444444444444444,
              "#bd3786"
             ],
             [
              0.5555555555555556,
              "#d8576b"
             ],
             [
              0.6666666666666666,
              "#ed7953"
             ],
             [
              0.7777777777777778,
              "#fb9f3a"
             ],
             [
              0.8888888888888888,
              "#fdca26"
             ],
             [
              1,
              "#f0f921"
             ]
            ],
            "type": "surface"
           }
          ],
          "table": [
           {
            "cells": {
             "fill": {
              "color": "#EBF0F8"
             },
             "line": {
              "color": "white"
             }
            },
            "header": {
             "fill": {
              "color": "#C8D4E3"
             },
             "line": {
              "color": "white"
             }
            },
            "type": "table"
           }
          ]
         },
         "layout": {
          "annotationdefaults": {
           "arrowcolor": "#2a3f5f",
           "arrowhead": 0,
           "arrowwidth": 1
          },
          "autotypenumbers": "strict",
          "coloraxis": {
           "colorbar": {
            "outlinewidth": 0,
            "ticks": ""
           }
          },
          "colorscale": {
           "diverging": [
            [
             0,
             "#8e0152"
            ],
            [
             0.1,
             "#c51b7d"
            ],
            [
             0.2,
             "#de77ae"
            ],
            [
             0.3,
             "#f1b6da"
            ],
            [
             0.4,
             "#fde0ef"
            ],
            [
             0.5,
             "#f7f7f7"
            ],
            [
             0.6,
             "#e6f5d0"
            ],
            [
             0.7,
             "#b8e186"
            ],
            [
             0.8,
             "#7fbc41"
            ],
            [
             0.9,
             "#4d9221"
            ],
            [
             1,
             "#276419"
            ]
           ],
           "sequential": [
            [
             0,
             "#0d0887"
            ],
            [
             0.1111111111111111,
             "#46039f"
            ],
            [
             0.2222222222222222,
             "#7201a8"
            ],
            [
             0.3333333333333333,
             "#9c179e"
            ],
            [
             0.4444444444444444,
             "#bd3786"
            ],
            [
             0.5555555555555556,
             "#d8576b"
            ],
            [
             0.6666666666666666,
             "#ed7953"
            ],
            [
             0.7777777777777778,
             "#fb9f3a"
            ],
            [
             0.8888888888888888,
             "#fdca26"
            ],
            [
             1,
             "#f0f921"
            ]
           ],
           "sequentialminus": [
            [
             0,
             "#0d0887"
            ],
            [
             0.1111111111111111,
             "#46039f"
            ],
            [
             0.2222222222222222,
             "#7201a8"
            ],
            [
             0.3333333333333333,
             "#9c179e"
            ],
            [
             0.4444444444444444,
             "#bd3786"
            ],
            [
             0.5555555555555556,
             "#d8576b"
            ],
            [
             0.6666666666666666,
             "#ed7953"
            ],
            [
             0.7777777777777778,
             "#fb9f3a"
            ],
            [
             0.8888888888888888,
             "#fdca26"
            ],
            [
             1,
             "#f0f921"
            ]
           ]
          },
          "colorway": [
           "#636efa",
           "#EF553B",
           "#00cc96",
           "#ab63fa",
           "#FFA15A",
           "#19d3f3",
           "#FF6692",
           "#B6E880",
           "#FF97FF",
           "#FECB52"
          ],
          "font": {
           "color": "#2a3f5f"
          },
          "geo": {
           "bgcolor": "white",
           "lakecolor": "white",
           "landcolor": "white",
           "showlakes": true,
           "showland": true,
           "subunitcolor": "#C8D4E3"
          },
          "hoverlabel": {
           "align": "left"
          },
          "hovermode": "closest",
          "mapbox": {
           "style": "light"
          },
          "paper_bgcolor": "white",
          "plot_bgcolor": "white",
          "polar": {
           "angularaxis": {
            "gridcolor": "#EBF0F8",
            "linecolor": "#EBF0F8",
            "ticks": ""
           },
           "bgcolor": "white",
           "radialaxis": {
            "gridcolor": "#EBF0F8",
            "linecolor": "#EBF0F8",
            "ticks": ""
           }
          },
          "scene": {
           "xaxis": {
            "backgroundcolor": "white",
            "gridcolor": "#DFE8F3",
            "gridwidth": 2,
            "linecolor": "#EBF0F8",
            "showbackground": true,
            "ticks": "",
            "zerolinecolor": "#EBF0F8"
           },
           "yaxis": {
            "backgroundcolor": "white",
            "gridcolor": "#DFE8F3",
            "gridwidth": 2,
            "linecolor": "#EBF0F8",
            "showbackground": true,
            "ticks": "",
            "zerolinecolor": "#EBF0F8"
           },
           "zaxis": {
            "backgroundcolor": "white",
            "gridcolor": "#DFE8F3",
            "gridwidth": 2,
            "linecolor": "#EBF0F8",
            "showbackground": true,
            "ticks": "",
            "zerolinecolor": "#EBF0F8"
           }
          },
          "shapedefaults": {
           "line": {
            "color": "#2a3f5f"
           }
          },
          "ternary": {
           "aaxis": {
            "gridcolor": "#DFE8F3",
            "linecolor": "#A2B1C6",
            "ticks": ""
           },
           "baxis": {
            "gridcolor": "#DFE8F3",
            "linecolor": "#A2B1C6",
            "ticks": ""
           },
           "bgcolor": "white",
           "caxis": {
            "gridcolor": "#DFE8F3",
            "linecolor": "#A2B1C6",
            "ticks": ""
           }
          },
          "title": {
           "x": 0.05
          },
          "xaxis": {
           "automargin": true,
           "gridcolor": "#EBF0F8",
           "linecolor": "#EBF0F8",
           "ticks": "",
           "title": {
            "standoff": 15
           },
           "zerolinecolor": "#EBF0F8",
           "zerolinewidth": 2
          },
          "yaxis": {
           "automargin": true,
           "gridcolor": "#EBF0F8",
           "linecolor": "#EBF0F8",
           "ticks": "",
           "title": {
            "standoff": 15
           },
           "zerolinecolor": "#EBF0F8",
           "zerolinewidth": 2
          }
         }
        }
       }
      },
      "text/html": [
       "<div>                            <div id=\"cc6330db-2373-4332-8ad9-c7e00a23e9df\" class=\"plotly-graph-div\" style=\"height:525px; width:100%;\"></div>            <script type=\"text/javascript\">                require([\"plotly\"], function(Plotly) {                    window.PLOTLYENV=window.PLOTLYENV || {};                                    if (document.getElementById(\"cc6330db-2373-4332-8ad9-c7e00a23e9df\")) {                    Plotly.newPlot(                        \"cc6330db-2373-4332-8ad9-c7e00a23e9df\",                        [{\"mode\":\"lines\",\"name\":\"Train\",\"x\":[0,1,2,3,4,5,6,7,8,9,10,11,12,13,14,15,16,17,18,19,20,21,22,23,24,25,26,27,28,29,30,31,32,33,34,35,36,37,38,39,40,41,42,43,44,45,46,47,48,49,50,51,52,53,54,55,56,57,58,59,60,61,62,63,64,65,66,67,68,69,70,71,72,73,74,75,76,77,78,79,80,81,82,83,84,85,86,87,88,89,90,91,92,93,94,95,96,97,98,99,100,101,102,103,104,105,106,107,108,109,110,111,112,113,114,115,116,117,118,119,120,121,122,123,124,125,126,127,128,129,130,131,132,133,134,135,136,137,138,139,140,141,142,143,144,145,146,147,148,149,150,151,152,153,154,155,156,157,158,159,160,161,162,163,164,165,166,167,168,169,170,171,172,173,174,175,176,177,178,179,180,181,182,183,184,185,186,187,188,189,190,191,192,193,194,195,196,197,198,199],\"y\":[0.9909678168699776,0.9027588266721912,0.8605400768803878,0.8284184475180129,0.8046848706796136,0.7839460121074193,0.7572963930351634,0.7494486624925909,0.723766394484211,0.7140925203410673,0.6987783908843994,0.6997294677814967,0.6894023049045617,0.678446416283997,0.6793232472010062,0.6925602450337208,0.6425556099750627,0.6421438287681257,0.6344720129395874,0.6350086083714391,0.6348018436364724,0.6189347245323826,0.6171873216058167,0.6364562100088093,0.6135460856095166,0.5996345050737891,0.6123313496650105,0.6125140765183409,0.6206630770589264,0.6200287816390185,0.595472363099246,0.6016664135623986,0.5964059229467956,0.5802267114041557,0.5808994119435968,0.5877567680788712,0.5749185030728998,0.5810807846801381,0.5991195373132195,0.5664638520126611,0.5813503886612368,0.5768482248548051,0.5910288527817793,0.5639692922713051,0.5650724155802123,0.5621982296587715,0.5656544272328766,0.5641458949572603,0.5712418980161909,0.5764558084414039,0.5723195453764687,0.5750299394130707,0.5620387284688546,0.5706479994344039,0.5473831132264204,0.5626418611533205,0.535169006653235,0.5688544667102922,0.5350849347215303,0.5445851326828272,0.5485835600067193,0.5369718146156257,0.5429596850569819,0.5368066971570673,0.5385987305305373,0.5477638853267884,0.5401048509167953,0.5575136542320251,0.5433119354953229,0.5292905619446661,0.5553947498261089,0.5387392354683137,0.5589581413168303,0.5296191526970393,0.5624553389112714,0.5274710701385015,0.5289022553134972,0.5256074721544561,0.5278148877788598,0.5419056575063249,0.5464843087632891,0.5106875363370063,0.5481820286999286,0.5058152772171397,0.523681811883416,0.5304010468469539,0.5164103105034626,0.5209565523644568,0.5101613364589046,0.5198377274291616,0.5098316039837582,0.5050102619218154,0.5186158607543354,0.5039671021448054,0.5073186965055869,0.5099902190792729,0.4978922869957669,0.4919541050011004,0.5113773811870898,0.5110127262666192,0.5075769558758803,0.505596012296811,0.521600926006344,0.5119582003271076,0.4960961471980726,0.4963013722862995,0.5136127748959501,0.4925606066072491,0.5058282752272109,0.4895163913008193,0.5057021690086579,0.4945359649792523,0.5007807255630762,0.4976221600048978,0.484387435543705,0.4902235542384671,0.4908531429901929,0.4900407946445572,0.4909628642276978,0.4841628129213629,0.5037572530793472,0.4887759290950399,0.4970387753466485,0.4991830520226922,0.4921771019277438,0.4874159521620038,0.4865607543730399,0.4888583908618336,0.4759555727663174,0.4924113809222906,0.4676209683989135,0.4745986146826139,0.4815373017754353,0.4986175160172959,0.4823022711444908,0.5016533879327102,0.4750763425524805,0.4744246123542248,0.4688295138553834,0.4893100467366232,0.5012314307018065,0.4798060957814606,0.4845452178531969,0.4887012327221078,0.4640061238282163,0.4774732694659435,0.4880278278404558,0.4684493323446999,0.4756856812557704,0.4846343557599564,0.4485100444773553,0.4642958777471327,0.4798577142433381,0.4714327580492261,0.4683547343166781,0.4818879420488653,0.468871298390375,0.4651504024653367,0.496786141059768,0.4784900881874729,0.4831384441382448,0.4702271886274848,0.4648588702712261,0.4588251491667519,0.4530593030889269,0.4584422900643147,0.4660885913271299,0.4540176106170869,0.4875241652340956,0.4857984936573136,0.4651220054693625,0.4642593180629569,0.4614083540271705,0.4565672016059848,0.469335697486367,0.4698243829565988,0.4739372293714066,0.4647082896299765,0.44900993771956,0.4472117717836944,0.4459826249471852,0.4577777960770566,0.4795183816426236,0.4711888235219767,0.4842678824780692,0.4556944836193407,0.447923246823566,0.4554926967117148,0.4832303637350109,0.4445942224751056,0.4889708127773983,0.4575618866463782,0.4486963790906986,0.4715840627609844,0.4489279536294265,0.4505186156487801,0.4619281541713526,0.4445926144089497,0.4414382581139954,0.4401345360027233],\"type\":\"scatter\"},{\"mode\":\"lines\",\"name\":\"Test\",\"x\":[0,1,2,3,4,5,6,7,8,9,10,11,12,13,14,15,16,17,18,19,20,21,22,23,24,25,26,27,28,29,30,31,32,33,34,35,36,37,38,39,40,41,42,43,44,45,46,47,48,49,50,51,52,53,54,55,56,57,58,59,60,61,62,63,64,65,66,67,68,69,70,71,72,73,74,75,76,77,78,79,80,81,82,83,84,85,86,87,88,89,90,91,92,93,94,95,96,97,98,99,100,101,102,103,104,105,106,107,108,109,110,111,112,113,114,115,116,117,118,119,120,121,122,123,124,125,126,127,128,129,130,131,132,133,134,135,136,137,138,139,140,141,142,143,144,145,146,147,148,149,150,151,152,153,154,155,156,157,158,159,160,161,162,163,164,165,166,167,168,169,170,171,172,173,174,175,176,177,178,179,180,181,182,183,184,185,186,187,188,189,190,191,192,193,194,195,196,197,198,199],\"y\":[4.7500762939453125,4.221206347147624,4.0466963450113935,4.044256528218587,3.9377594788869215,3.96709934870402,3.940754652023315,3.9848033587137857,3.930889288584391,3.909950574239095,3.9273601373036704,3.9254422187805176,3.920830170313517,3.942605018615722,3.9566900730133057,3.933678229649862,3.95957358678182,3.9039268493652335,3.9169957637786874,3.9663780530293775,3.965798536936442,4.012823422749837,3.990515152613322,4.0009082953135175,3.967738231023153,3.9626564184824624,4.031543890635173,3.979968706766764,4.048171599706014,4.023857593536377,3.973342498143514,4.071294784545898,3.9524713357289634,4.042054891586304,4.00008757909139,4.018721501032512,4.047605673472087,4.017415682474772,4.111408074696858,4.023149887720744,4.071714480717977,4.065451463063558,4.0049534638722735,3.990056037902832,3.988490660985311,4.063981533050537,4.066497325897217,4.061280091603597,4.018806139628093,4.076251586278279,4.107618729273479,4.099699258804321,4.102103551228841,4.0556113719940186,4.083306392033895,4.0369486808776855,4.088131904602051,4.078309933344523,4.111874421437581,4.036831935246785,4.094050884246826,4.044049342473348,4.073425928751628,4.095225652058919,4.080645243326823,4.069488048553467,4.059743563334147,4.098006804784139,4.0689694086710615,4.043663501739502,4.081496636072795,4.05461859703064,4.136944532394409,4.040770371754964,4.063921769460042,4.172358989715576,4.071783224741618,4.103194713592529,4.061765591303508,4.136207183202108,4.127998352050781,4.074327786763509,4.100417534510295,4.003220081329346,4.07009744644165,4.185859600702922,4.075090328852336,4.161413510640462,4.140118360519409,4.1207858721415205,4.144396464029948,4.12924059232076,4.067631403605144,4.097692330678304,4.17484172185262,4.035382191340129,4.110253254572551,4.1228500207265215,4.1146416664123535,4.145182212193807,4.173494180043538,4.077502409617106,4.21146575609843,4.077148914337158,4.1920755704243975,4.16461181640625,4.134218295415242,4.0691295464833575,4.126542091369629,4.113067626953125,4.065662225087483,4.148576259613037,4.185821533203125,4.073904832204183,4.083563089370728,4.113421281178792,4.135988235473633,4.143119812011719,4.165169795354207,4.173301855723064,4.107002019882202,4.156843662261963,4.113836208979289,4.199933369954427,4.181718031565349,4.112428665161133,4.201080799102783,4.198186794916789,4.15037186940511,4.141021728515625,4.135079065958659,4.088110049565633,4.229585329691569,4.170217355092366,4.13029678662618,4.130433559417725,4.138041893641154,4.176169395446777,4.138171037038167,4.100665171941121,4.190047105153401,4.1747260093688965,4.1125844319661455,4.165306329727173,4.0653731028238935,4.139373381932576,4.10950247446696,4.154987494150798,4.095321496327718,4.091458717981975,4.153602123260498,4.194077173868815,4.181960026423137,4.228191216786702,4.144361972808838,4.13470196723938,4.1933324337005615,4.139021714528401,4.059001207351685,4.118239084879558,4.160660584767659,4.143826802571614,4.20005480448405,4.173492749532064,4.156146764755249,4.127933661142985,4.138577461242676,4.154588381449382,4.1839704513549805,4.186352411905925,4.126827398935954,4.236183802286784,4.152074734369914,4.116098880767822,4.193038781483968,4.176417827606201,4.20692761739095,4.19438902537028,4.186828136444092,4.182265599568685,4.225788275400798,4.225274721781413,4.081517219543457,4.197548866271973,4.139262517293294,4.149228970209758,4.1300285657246905,4.220142761866252,4.122073729832967,4.130896647771199,4.2136227289835615,4.265238205591838,4.183050632476807,4.134245077768962,4.209487915039063,4.236339728037517,4.206366856892903,4.14003308614095,4.20955244700114,4.152894973754883],\"type\":\"scatter\"}],                        {\"template\":{\"data\":{\"histogram2dcontour\":[{\"type\":\"histogram2dcontour\",\"colorbar\":{\"outlinewidth\":0,\"ticks\":\"\"},\"colorscale\":[[0.0,\"#0d0887\"],[0.1111111111111111,\"#46039f\"],[0.2222222222222222,\"#7201a8\"],[0.3333333333333333,\"#9c179e\"],[0.4444444444444444,\"#bd3786\"],[0.5555555555555556,\"#d8576b\"],[0.6666666666666666,\"#ed7953\"],[0.7777777777777778,\"#fb9f3a\"],[0.8888888888888888,\"#fdca26\"],[1.0,\"#f0f921\"]]}],\"choropleth\":[{\"type\":\"choropleth\",\"colorbar\":{\"outlinewidth\":0,\"ticks\":\"\"}}],\"histogram2d\":[{\"type\":\"histogram2d\",\"colorbar\":{\"outlinewidth\":0,\"ticks\":\"\"},\"colorscale\":[[0.0,\"#0d0887\"],[0.1111111111111111,\"#46039f\"],[0.2222222222222222,\"#7201a8\"],[0.3333333333333333,\"#9c179e\"],[0.4444444444444444,\"#bd3786\"],[0.5555555555555556,\"#d8576b\"],[0.6666666666666666,\"#ed7953\"],[0.7777777777777778,\"#fb9f3a\"],[0.8888888888888888,\"#fdca26\"],[1.0,\"#f0f921\"]]}],\"heatmap\":[{\"type\":\"heatmap\",\"colorbar\":{\"outlinewidth\":0,\"ticks\":\"\"},\"colorscale\":[[0.0,\"#0d0887\"],[0.1111111111111111,\"#46039f\"],[0.2222222222222222,\"#7201a8\"],[0.3333333333333333,\"#9c179e\"],[0.4444444444444444,\"#bd3786\"],[0.5555555555555556,\"#d8576b\"],[0.6666666666666666,\"#ed7953\"],[0.7777777777777778,\"#fb9f3a\"],[0.8888888888888888,\"#fdca26\"],[1.0,\"#f0f921\"]]}],\"heatmapgl\":[{\"type\":\"heatmapgl\",\"colorbar\":{\"outlinewidth\":0,\"ticks\":\"\"},\"colorscale\":[[0.0,\"#0d0887\"],[0.1111111111111111,\"#46039f\"],[0.2222222222222222,\"#7201a8\"],[0.3333333333333333,\"#9c179e\"],[0.4444444444444444,\"#bd3786\"],[0.5555555555555556,\"#d8576b\"],[0.6666666666666666,\"#ed7953\"],[0.7777777777777778,\"#fb9f3a\"],[0.8888888888888888,\"#fdca26\"],[1.0,\"#f0f921\"]]}],\"contourcarpet\":[{\"type\":\"contourcarpet\",\"colorbar\":{\"outlinewidth\":0,\"ticks\":\"\"}}],\"contour\":[{\"type\":\"contour\",\"colorbar\":{\"outlinewidth\":0,\"ticks\":\"\"},\"colorscale\":[[0.0,\"#0d0887\"],[0.1111111111111111,\"#46039f\"],[0.2222222222222222,\"#7201a8\"],[0.3333333333333333,\"#9c179e\"],[0.4444444444444444,\"#bd3786\"],[0.5555555555555556,\"#d8576b\"],[0.6666666666666666,\"#ed7953\"],[0.7777777777777778,\"#fb9f3a\"],[0.8888888888888888,\"#fdca26\"],[1.0,\"#f0f921\"]]}],\"surface\":[{\"type\":\"surface\",\"colorbar\":{\"outlinewidth\":0,\"ticks\":\"\"},\"colorscale\":[[0.0,\"#0d0887\"],[0.1111111111111111,\"#46039f\"],[0.2222222222222222,\"#7201a8\"],[0.3333333333333333,\"#9c179e\"],[0.4444444444444444,\"#bd3786\"],[0.5555555555555556,\"#d8576b\"],[0.6666666666666666,\"#ed7953\"],[0.7777777777777778,\"#fb9f3a\"],[0.8888888888888888,\"#fdca26\"],[1.0,\"#f0f921\"]]}],\"mesh3d\":[{\"type\":\"mesh3d\",\"colorbar\":{\"outlinewidth\":0,\"ticks\":\"\"}}],\"scatter\":[{\"fillpattern\":{\"fillmode\":\"overlay\",\"size\":10,\"solidity\":0.2},\"type\":\"scatter\"}],\"parcoords\":[{\"type\":\"parcoords\",\"line\":{\"colorbar\":{\"outlinewidth\":0,\"ticks\":\"\"}}}],\"scatterpolargl\":[{\"type\":\"scatterpolargl\",\"marker\":{\"colorbar\":{\"outlinewidth\":0,\"ticks\":\"\"}}}],\"bar\":[{\"error_x\":{\"color\":\"#2a3f5f\"},\"error_y\":{\"color\":\"#2a3f5f\"},\"marker\":{\"line\":{\"color\":\"white\",\"width\":0.5},\"pattern\":{\"fillmode\":\"overlay\",\"size\":10,\"solidity\":0.2}},\"type\":\"bar\"}],\"scattergeo\":[{\"type\":\"scattergeo\",\"marker\":{\"colorbar\":{\"outlinewidth\":0,\"ticks\":\"\"}}}],\"scatterpolar\":[{\"type\":\"scatterpolar\",\"marker\":{\"colorbar\":{\"outlinewidth\":0,\"ticks\":\"\"}}}],\"histogram\":[{\"marker\":{\"pattern\":{\"fillmode\":\"overlay\",\"size\":10,\"solidity\":0.2}},\"type\":\"histogram\"}],\"scattergl\":[{\"type\":\"scattergl\",\"marker\":{\"colorbar\":{\"outlinewidth\":0,\"ticks\":\"\"}}}],\"scatter3d\":[{\"type\":\"scatter3d\",\"line\":{\"colorbar\":{\"outlinewidth\":0,\"ticks\":\"\"}},\"marker\":{\"colorbar\":{\"outlinewidth\":0,\"ticks\":\"\"}}}],\"scattermapbox\":[{\"type\":\"scattermapbox\",\"marker\":{\"colorbar\":{\"outlinewidth\":0,\"ticks\":\"\"}}}],\"scatterternary\":[{\"type\":\"scatterternary\",\"marker\":{\"colorbar\":{\"outlinewidth\":0,\"ticks\":\"\"}}}],\"scattercarpet\":[{\"type\":\"scattercarpet\",\"marker\":{\"colorbar\":{\"outlinewidth\":0,\"ticks\":\"\"}}}],\"carpet\":[{\"aaxis\":{\"endlinecolor\":\"#2a3f5f\",\"gridcolor\":\"#C8D4E3\",\"linecolor\":\"#C8D4E3\",\"minorgridcolor\":\"#C8D4E3\",\"startlinecolor\":\"#2a3f5f\"},\"baxis\":{\"endlinecolor\":\"#2a3f5f\",\"gridcolor\":\"#C8D4E3\",\"linecolor\":\"#C8D4E3\",\"minorgridcolor\":\"#C8D4E3\",\"startlinecolor\":\"#2a3f5f\"},\"type\":\"carpet\"}],\"table\":[{\"cells\":{\"fill\":{\"color\":\"#EBF0F8\"},\"line\":{\"color\":\"white\"}},\"header\":{\"fill\":{\"color\":\"#C8D4E3\"},\"line\":{\"color\":\"white\"}},\"type\":\"table\"}],\"barpolar\":[{\"marker\":{\"line\":{\"color\":\"white\",\"width\":0.5},\"pattern\":{\"fillmode\":\"overlay\",\"size\":10,\"solidity\":0.2}},\"type\":\"barpolar\"}],\"pie\":[{\"automargin\":true,\"type\":\"pie\"}]},\"layout\":{\"autotypenumbers\":\"strict\",\"colorway\":[\"#636efa\",\"#EF553B\",\"#00cc96\",\"#ab63fa\",\"#FFA15A\",\"#19d3f3\",\"#FF6692\",\"#B6E880\",\"#FF97FF\",\"#FECB52\"],\"font\":{\"color\":\"#2a3f5f\"},\"hovermode\":\"closest\",\"hoverlabel\":{\"align\":\"left\"},\"paper_bgcolor\":\"white\",\"plot_bgcolor\":\"white\",\"polar\":{\"bgcolor\":\"white\",\"angularaxis\":{\"gridcolor\":\"#EBF0F8\",\"linecolor\":\"#EBF0F8\",\"ticks\":\"\"},\"radialaxis\":{\"gridcolor\":\"#EBF0F8\",\"linecolor\":\"#EBF0F8\",\"ticks\":\"\"}},\"ternary\":{\"bgcolor\":\"white\",\"aaxis\":{\"gridcolor\":\"#DFE8F3\",\"linecolor\":\"#A2B1C6\",\"ticks\":\"\"},\"baxis\":{\"gridcolor\":\"#DFE8F3\",\"linecolor\":\"#A2B1C6\",\"ticks\":\"\"},\"caxis\":{\"gridcolor\":\"#DFE8F3\",\"linecolor\":\"#A2B1C6\",\"ticks\":\"\"}},\"coloraxis\":{\"colorbar\":{\"outlinewidth\":0,\"ticks\":\"\"}},\"colorscale\":{\"sequential\":[[0.0,\"#0d0887\"],[0.1111111111111111,\"#46039f\"],[0.2222222222222222,\"#7201a8\"],[0.3333333333333333,\"#9c179e\"],[0.4444444444444444,\"#bd3786\"],[0.5555555555555556,\"#d8576b\"],[0.6666666666666666,\"#ed7953\"],[0.7777777777777778,\"#fb9f3a\"],[0.8888888888888888,\"#fdca26\"],[1.0,\"#f0f921\"]],\"sequentialminus\":[[0.0,\"#0d0887\"],[0.1111111111111111,\"#46039f\"],[0.2222222222222222,\"#7201a8\"],[0.3333333333333333,\"#9c179e\"],[0.4444444444444444,\"#bd3786\"],[0.5555555555555556,\"#d8576b\"],[0.6666666666666666,\"#ed7953\"],[0.7777777777777778,\"#fb9f3a\"],[0.8888888888888888,\"#fdca26\"],[1.0,\"#f0f921\"]],\"diverging\":[[0,\"#8e0152\"],[0.1,\"#c51b7d\"],[0.2,\"#de77ae\"],[0.3,\"#f1b6da\"],[0.4,\"#fde0ef\"],[0.5,\"#f7f7f7\"],[0.6,\"#e6f5d0\"],[0.7,\"#b8e186\"],[0.8,\"#7fbc41\"],[0.9,\"#4d9221\"],[1,\"#276419\"]]},\"xaxis\":{\"gridcolor\":\"#EBF0F8\",\"linecolor\":\"#EBF0F8\",\"ticks\":\"\",\"title\":{\"standoff\":15},\"zerolinecolor\":\"#EBF0F8\",\"automargin\":true,\"zerolinewidth\":2},\"yaxis\":{\"gridcolor\":\"#EBF0F8\",\"linecolor\":\"#EBF0F8\",\"ticks\":\"\",\"title\":{\"standoff\":15},\"zerolinecolor\":\"#EBF0F8\",\"automargin\":true,\"zerolinewidth\":2},\"scene\":{\"xaxis\":{\"backgroundcolor\":\"white\",\"gridcolor\":\"#DFE8F3\",\"linecolor\":\"#EBF0F8\",\"showbackground\":true,\"ticks\":\"\",\"zerolinecolor\":\"#EBF0F8\",\"gridwidth\":2},\"yaxis\":{\"backgroundcolor\":\"white\",\"gridcolor\":\"#DFE8F3\",\"linecolor\":\"#EBF0F8\",\"showbackground\":true,\"ticks\":\"\",\"zerolinecolor\":\"#EBF0F8\",\"gridwidth\":2},\"zaxis\":{\"backgroundcolor\":\"white\",\"gridcolor\":\"#DFE8F3\",\"linecolor\":\"#EBF0F8\",\"showbackground\":true,\"ticks\":\"\",\"zerolinecolor\":\"#EBF0F8\",\"gridwidth\":2}},\"shapedefaults\":{\"line\":{\"color\":\"#2a3f5f\"}},\"annotationdefaults\":{\"arrowcolor\":\"#2a3f5f\",\"arrowhead\":0,\"arrowwidth\":1},\"geo\":{\"bgcolor\":\"white\",\"landcolor\":\"white\",\"subunitcolor\":\"#C8D4E3\",\"showland\":true,\"showlakes\":true,\"lakecolor\":\"white\"},\"title\":{\"x\":0.05},\"mapbox\":{\"style\":\"light\"}}}},                        {\"responsive\": true}                    ).then(function(){\n",
       "                            \n",
       "var gd = document.getElementById('cc6330db-2373-4332-8ad9-c7e00a23e9df');\n",
       "var x = new MutationObserver(function (mutations, observer) {{\n",
       "        var display = window.getComputedStyle(gd).display;\n",
       "        if (!display || display === 'none') {{\n",
       "            console.log([gd, 'removed!']);\n",
       "            Plotly.purge(gd);\n",
       "            observer.disconnect();\n",
       "        }}\n",
       "}});\n",
       "\n",
       "// Listen for the removal of the full notebook cells\n",
       "var notebookContainer = gd.closest('#notebook-container');\n",
       "if (notebookContainer) {{\n",
       "    x.observe(notebookContainer, {childList: true});\n",
       "}}\n",
       "\n",
       "// Listen for the clearing of the current output cell\n",
       "var outputEl = gd.closest('.output');\n",
       "if (outputEl) {{\n",
       "    x.observe(outputEl, {childList: true});\n",
       "}}\n",
       "\n",
       "                        })                };                });            </script>        </div>"
      ]
     },
     "metadata": {},
     "output_type": "display_data"
    }
   ],
   "source": [
    "fig = go.Figure()\n",
    "fig.add_trace(go.Scatter(x=loss_df.Epoch, y=loss_df.TrainMSE,\n",
    "                    mode='lines', name='Train'))\n",
    "fig.add_trace(go.Scatter(x=loss_df.Epoch, y=loss_df.TestMSE,\n",
    "                    mode='lines', name='Test'))\n",
    "fig.show()"
   ]
  },
  {
   "cell_type": "code",
   "execution_count": null,
   "id": "4040c2d3",
   "metadata": {},
   "outputs": [
    {
     "data": {
      "application/vnd.plotly.v1+json": {
       "config": {
        "plotlyServerURL": "https://plot.ly"
       },
       "data": [
        {
         "mode": "lines",
         "name": "Train",
         "type": "scatter",
         "x": [
          0,
          1,
          2,
          3,
          4,
          5,
          6,
          7,
          8,
          9,
          10,
          11,
          12,
          13,
          14,
          15,
          16,
          17,
          18,
          19,
          20,
          21,
          22,
          23,
          24,
          25,
          26,
          27,
          28,
          29,
          30,
          31,
          32,
          33,
          34,
          35,
          36,
          37,
          38,
          39,
          40,
          41,
          42,
          43,
          44,
          45,
          46,
          47,
          48,
          49,
          50,
          51,
          52,
          53,
          54,
          55,
          56,
          57,
          58,
          59,
          60,
          61,
          62,
          63,
          64,
          65,
          66,
          67,
          68,
          69,
          70,
          71,
          72,
          73,
          74,
          75,
          76,
          77,
          78,
          79,
          80,
          81,
          82,
          83,
          84,
          85,
          86,
          87,
          88,
          89,
          90,
          91,
          92,
          93,
          94,
          95,
          96,
          97,
          98,
          99,
          100,
          101,
          102,
          103,
          104,
          105,
          106,
          107,
          108,
          109,
          110,
          111,
          112,
          113,
          114,
          115,
          116,
          117,
          118,
          119,
          120,
          121,
          122,
          123,
          124,
          125,
          126,
          127,
          128,
          129,
          130,
          131,
          132,
          133,
          134,
          135,
          136,
          137,
          138,
          139,
          140,
          141,
          142,
          143,
          144,
          145,
          146,
          147,
          148,
          149,
          150,
          151,
          152,
          153,
          154,
          155,
          156,
          157,
          158,
          159,
          160,
          161,
          162,
          163,
          164,
          165,
          166,
          167,
          168,
          169,
          170,
          171,
          172,
          173,
          174,
          175,
          176,
          177,
          178,
          179,
          180,
          181,
          182,
          183,
          184,
          185,
          186,
          187,
          188,
          189,
          190,
          191,
          192,
          193,
          194,
          195,
          196,
          197,
          198,
          199
         ],
         "y": [
          824.3869986894983,
          818.9115835550282,
          816.290930251435,
          814.2970376203073,
          812.8238183313812,
          811.536490816995,
          809.8822634273728,
          809.3951296047579,
          807.8009488004511,
          807.2004603834138,
          806.2498632162741,
          806.3088996118244,
          805.667859466305,
          804.9877922959395,
          805.0422200052082,
          805.8638829457506,
          802.759934754303,
          802.734374173148,
          802.2581599414438,
          802.2914681421393,
          802.2786335914141,
          801.293710582,
          801.1852436739367,
          802.381325421949,
          800.9592204688461,
          800.0956840148075,
          800.883817909991,
          800.8951603522518,
          801.4009949705903,
          801.3616222180614,
          799.8373265037632,
          800.2218110962472,
          799.8952755598259,
          798.8909799710688,
          798.9327366526311,
          799.3583947571093,
          798.5614824428836,
          798.9439950405166,
          800.063718313084,
          798.0366751157835,
          798.9607302249361,
          798.6812664674628,
          799.5615035566025,
          797.8818297861744,
          797.9503041905093,
          797.7718942454658,
          797.9864315217972,
          797.8927920817104,
          798.3332637666938,
          798.6569079211952,
          798.4001567971304,
          798.5683996541807,
          797.7619934946774,
          798.2963985755634,
          796.8522724183624,
          797.7994318761986,
          796.0941036213396,
          798.1850682429098,
          796.088885006704,
          796.6785927857082,
          796.926788002933,
          796.2060096978029,
          796.5776960345847,
          796.1957603271942,
          796.3069975903413,
          796.8759081647468,
          796.4004873167145,
          797.4811076132568,
          796.5995613498649,
          795.7292096910013,
          797.3495804160103,
          796.3157191827894,
          797.5707715627924,
          795.749606373636,
          797.7878538419785,
          795.6162679948071,
          795.7051062521075,
          795.50058848659,
          795.6376098592508,
          796.5122691615406,
          796.7964807405604,
          794.5744601838284,
          796.9018636659779,
          794.2720234224035,
          795.3810565730258,
          795.7981410530649,
          794.9296911439824,
          795.2118909677739,
          794.5417972685195,
          795.1424419130936,
          794.5213297154878,
          794.2220535392701,
          795.066596726921,
          794.1573012638172,
          794.3653454829663,
          794.5311754635526,
          793.7802179899743,
          793.411615974557,
          794.6172810677781,
          794.5946457664792,
          794.3813764709818,
          794.2584129450527,
          795.251889307888,
          794.6533343759785,
          793.6687258278957,
          793.6814648078062,
          794.7560391299388,
          793.4492634758598,
          794.2728302506066,
          793.2602992611687,
          794.2650024328743,
          793.5718803100601,
          793.9595126424919,
          793.7634503406597,
          792.9419285155842,
          793.3041951343972,
          793.3432757289257,
          793.2928506598236,
          793.3500864782956,
          792.9279854684735,
          794.144275258799,
          793.214336395491,
          793.7272377825085,
          793.8603399179958,
          793.4254581095179,
          793.1299182623169,
          793.076833390739,
          793.2194550620227,
          792.4185357303413,
          793.4400005586441,
          791.9011800867637,
          792.3343049868344,
          792.765011564885,
          793.8252352830136,
          792.8124956688447,
          794.0136815966456,
          792.3639590890178,
          792.3235041038387,
          791.9761983821576,
          793.2474907917918,
          793.9874893570224,
          792.6575500524128,
          792.9517225699476,
          793.20969975188,
          791.6767950821653,
          792.5127440356403,
          793.1678993495359,
          791.9525992955704,
          792.401782698046,
          792.9572556459145,
          790.7149037011121,
          791.6947810378978,
          792.6607541760146,
          792.1377901045628,
          791.9467272923521,
          792.7867769320611,
          791.9787920823549,
          791.7478241298132,
          793.7115559614745,
          792.575861237236,
          792.8643996103224,
          792.0629565411963,
          791.7297277908319,
          791.3551953562294,
          790.9972907842945,
          791.3314300629281,
          791.8060605236473,
          791.0567760083221,
          793.136635395019,
          793.0295174215851,
          791.746061437131,
          791.6925116609601,
          791.5155431728914,
          791.2150373040927,
          792.0076188247642,
          792.0379531003716,
          792.2932506778055,
          791.7203807671306,
          790.7459336790979,
          790.63431574812,
          790.5580186589456,
          791.2901827883994,
          792.6396907123767,
          792.1226483055316,
          792.9345074730862,
          791.1608648976126,
          790.6784792873735,
          791.1483393366071,
          792.870105354716,
          790.4718360613292,
          793.2264334511477,
          791.2767805970608,
          790.7264700886162,
          792.1471820736447,
          790.7408446634897,
          790.8395821603714,
          791.5478088361755,
          790.4717362435017,
          790.2759352241478,
          790.1950090083143
         ]
        },
        {
         "mode": "lines",
         "name": "Test",
         "type": "scatter",
         "x": [
          0,
          1,
          2,
          3,
          4,
          5,
          6,
          7,
          8,
          9,
          10,
          11,
          12,
          13,
          14,
          15,
          16,
          17,
          18,
          19,
          20,
          21,
          22,
          23,
          24,
          25,
          26,
          27,
          28,
          29,
          30,
          31,
          32,
          33,
          34,
          35,
          36,
          37,
          38,
          39,
          40,
          41,
          42,
          43,
          44,
          45,
          46,
          47,
          48,
          49,
          50,
          51,
          52,
          53,
          54,
          55,
          56,
          57,
          58,
          59,
          60,
          61,
          62,
          63,
          64,
          65,
          66,
          67,
          68,
          69,
          70,
          71,
          72,
          73,
          74,
          75,
          76,
          77,
          78,
          79,
          80,
          81,
          82,
          83,
          84,
          85,
          86,
          87,
          88,
          89,
          90,
          91,
          92,
          93,
          94,
          95,
          96,
          97,
          98,
          99,
          100,
          101,
          102,
          103,
          104,
          105,
          106,
          107,
          108,
          109,
          110,
          111,
          112,
          113,
          114,
          115,
          116,
          117,
          118,
          119,
          120,
          121,
          122,
          123,
          124,
          125,
          126,
          127,
          128,
          129,
          130,
          131,
          132,
          133,
          134,
          135,
          136,
          137,
          138,
          139,
          140,
          141,
          142,
          143,
          144,
          145,
          146,
          147,
          148,
          149,
          150,
          151,
          152,
          153,
          154,
          155,
          156,
          157,
          158,
          159,
          160,
          161,
          162,
          163,
          164,
          165,
          166,
          167,
          168,
          169,
          170,
          171,
          172,
          173,
          174,
          175,
          176,
          177,
          178,
          179,
          180,
          181,
          182,
          183,
          184,
          185,
          186,
          187,
          188,
          189,
          190,
          191,
          192,
          193,
          194,
          195,
          196,
          197,
          198,
          199
         ],
         "y": [
          1057.7269269818596,
          1024.898271939223,
          1014.0658760046291,
          1013.9144287455377,
          1007.3038150838291,
          1009.1250349717307,
          1007.4897350936217,
          1010.2239796952892,
          1006.8773603213972,
          1005.5776271177235,
          1006.6582945743462,
          1006.539243215921,
          1006.2529585648838,
          1007.6045932868929,
          1008.4788978203133,
          1007.0504788446314,
          1008.657886774763,
          1005.2037151812387,
          1006.0149446444723,
          1009.080261834157,
          1009.0442894102712,
          1011.9632750023527,
          1010.5785290750334,
          1011.2236647999496,
          1009.1646924478166,
          1008.8492480329849,
          1013.12531452864,
          1009.9238773317857,
          1014.1574497984568,
          1012.6482013980124,
          1009.5125672952628,
          1015.5927800969396,
          1008.2170272567432,
          1013.777766093466,
          1011.1727203098962,
          1012.329387651651,
          1014.1223209407373,
          1012.2483313026567,
          1018.0827407630063,
          1012.6042718266049,
          1015.6188319853845,
          1015.2300663779837,
          1011.4747613956415,
          1010.5500303513928,
          1010.452862381936,
          1015.1388231042329,
          1015.2949864408384,
          1014.9711359631568,
          1012.3346414409323,
          1015.9004646896686,
          1017.8475239304094,
          1017.355936980297,
          1017.5051791278308,
          1014.6192603428402,
          1016.3383791258098,
          1013.4608072060433,
          1016.6379141787336,
          1016.0282328984786,
          1018.1116884019752,
          1013.4535604300302,
          1017.005324242662,
          1013.9015680613537,
          1015.7250670578449,
          1017.0782458512576,
          1016.1731930844198,
          1015.4806301950445,
          1014.8757587218777,
          1017.2508809272153,
          1015.4484365529327,
          1013.8776176886212,
          1016.2260417647666,
          1014.5576356144829,
          1019.6678706533316,
          1013.6980318247788,
          1015.1351133863554,
          1021.8661596844222,
          1015.6230991475707,
          1017.5729110779065,
          1015.0012724877754,
          1019.6221010223919,
          1019.1125525260142,
          1015.7810482792183,
          1017.4005226587226,
          1011.3671647777901,
          1015.5184574778689,
          1022.7041859395573,
          1015.8283817141038,
          1021.1867386679529,
          1019.8648803516726,
          1018.6648507490901,
          1020.1304359674427,
          1019.1896623666283,
          1015.3653822840708,
          1017.2313605101396,
          1022.0202708366701,
          1013.3635701726901,
          1018.011057371415,
          1018.7929790767896,
          1018.2834601792248,
          1020.1792098778869,
          1021.9366245915511,
          1015.9781073089141,
          1024.2936421896943,
          1015.9561647223201,
          1023.0900311307568,
          1021.3852677720204,
          1019.4986443739874,
          1015.4583768209154,
          1019.022157751565,
          1018.1857544980013,
          1015.2431490532641,
          1020.3898892946299,
          1022.7018229676646,
          1015.7547941322189,
          1016.354313153395,
          1018.2077069508663,
          1019.6085102341575,
          1020.0511900791678,
          1021.4199033161923,
          1021.924686403701,
          1017.809242799121,
          1020.903073511853,
          1018.2334628511828,
          1023.5777899677402,
          1022.4471054505337,
          1018.1460920887799,
          1023.6490145777324,
          1023.4693744493999,
          1020.5013485575586,
          1019.9209553026203,
          1019.5520751643203,
          1016.6365575664779,
          1025.418382278653,
          1021.7332215496341,
          1019.2552237370949,
          1019.2637136632479,
          1019.7359873879744,
          1022.1026837979202,
          1019.7440037331216,
          1017.4158943088636,
          1022.9641177808855,
          1022.0130881914181,
          1018.1557610343115,
          1021.4283784429388,
          1015.2252023064051,
          1019.8186371397273,
          1017.96445404058,
          1020.7878551996923,
          1017.0841952126409,
          1016.8444201628646,
          1020.7018607820871,
          1023.2142770808373,
          1022.462126848056,
          1025.3318452161457,
          1020.1282949866466,
          1019.52866743649,
          1023.1680486682984,
          1019.7968080152491,
          1014.829678303403,
          1018.5067634896491,
          1021.14000214246,
          1020.0950752523559,
          1023.5853277987464,
          1021.9365357951126,
          1020.8598148468702,
          1019.1085369537373,
          1019.7692317879423,
          1020.7630809933354,
          1022.5869203761742,
          1022.7347763126395,
          1019.0398677079213,
          1025.8279706508952,
          1020.6070508513876,
          1018.3739141512997,
          1023.1498207327172,
          1022.118104779416,
          1024.011945354649,
          1023.2336347044424,
          1022.7643060615947,
          1022.4810947539584,
          1025.182686931915,
          1025.1508090104737,
          1016.2273194468546,
          1023.4297761709397,
          1019.8117554157393,
          1020.4304051362885,
          1019.2385744048659,
          1024.832251787157,
          1018.744792209467,
          1019.2924590436623,
          1024.4275324196292,
          1027.6314707161696,
          1022.5298242661834,
          1019.5003068406427,
          1024.1708712471209,
          1025.8376494626978,
          1023.9771371507355,
          1019.8595870973077,
          1024.1748769531268,
          1020.657965742628
         ]
        }
       ],
       "layout": {
        "template": {
         "data": {
          "bar": [
           {
            "error_x": {
             "color": "#2a3f5f"
            },
            "error_y": {
             "color": "#2a3f5f"
            },
            "marker": {
             "line": {
              "color": "white",
              "width": 0.5
             },
             "pattern": {
              "fillmode": "overlay",
              "size": 10,
              "solidity": 0.2
             }
            },
            "type": "bar"
           }
          ],
          "barpolar": [
           {
            "marker": {
             "line": {
              "color": "white",
              "width": 0.5
             },
             "pattern": {
              "fillmode": "overlay",
              "size": 10,
              "solidity": 0.2
             }
            },
            "type": "barpolar"
           }
          ],
          "carpet": [
           {
            "aaxis": {
             "endlinecolor": "#2a3f5f",
             "gridcolor": "#C8D4E3",
             "linecolor": "#C8D4E3",
             "minorgridcolor": "#C8D4E3",
             "startlinecolor": "#2a3f5f"
            },
            "baxis": {
             "endlinecolor": "#2a3f5f",
             "gridcolor": "#C8D4E3",
             "linecolor": "#C8D4E3",
             "minorgridcolor": "#C8D4E3",
             "startlinecolor": "#2a3f5f"
            },
            "type": "carpet"
           }
          ],
          "choropleth": [
           {
            "colorbar": {
             "outlinewidth": 0,
             "ticks": ""
            },
            "type": "choropleth"
           }
          ],
          "contour": [
           {
            "colorbar": {
             "outlinewidth": 0,
             "ticks": ""
            },
            "colorscale": [
             [
              0,
              "#0d0887"
             ],
             [
              0.1111111111111111,
              "#46039f"
             ],
             [
              0.2222222222222222,
              "#7201a8"
             ],
             [
              0.3333333333333333,
              "#9c179e"
             ],
             [
              0.4444444444444444,
              "#bd3786"
             ],
             [
              0.5555555555555556,
              "#d8576b"
             ],
             [
              0.6666666666666666,
              "#ed7953"
             ],
             [
              0.7777777777777778,
              "#fb9f3a"
             ],
             [
              0.8888888888888888,
              "#fdca26"
             ],
             [
              1,
              "#f0f921"
             ]
            ],
            "type": "contour"
           }
          ],
          "contourcarpet": [
           {
            "colorbar": {
             "outlinewidth": 0,
             "ticks": ""
            },
            "type": "contourcarpet"
           }
          ],
          "heatmap": [
           {
            "colorbar": {
             "outlinewidth": 0,
             "ticks": ""
            },
            "colorscale": [
             [
              0,
              "#0d0887"
             ],
             [
              0.1111111111111111,
              "#46039f"
             ],
             [
              0.2222222222222222,
              "#7201a8"
             ],
             [
              0.3333333333333333,
              "#9c179e"
             ],
             [
              0.4444444444444444,
              "#bd3786"
             ],
             [
              0.5555555555555556,
              "#d8576b"
             ],
             [
              0.6666666666666666,
              "#ed7953"
             ],
             [
              0.7777777777777778,
              "#fb9f3a"
             ],
             [
              0.8888888888888888,
              "#fdca26"
             ],
             [
              1,
              "#f0f921"
             ]
            ],
            "type": "heatmap"
           }
          ],
          "heatmapgl": [
           {
            "colorbar": {
             "outlinewidth": 0,
             "ticks": ""
            },
            "colorscale": [
             [
              0,
              "#0d0887"
             ],
             [
              0.1111111111111111,
              "#46039f"
             ],
             [
              0.2222222222222222,
              "#7201a8"
             ],
             [
              0.3333333333333333,
              "#9c179e"
             ],
             [
              0.4444444444444444,
              "#bd3786"
             ],
             [
              0.5555555555555556,
              "#d8576b"
             ],
             [
              0.6666666666666666,
              "#ed7953"
             ],
             [
              0.7777777777777778,
              "#fb9f3a"
             ],
             [
              0.8888888888888888,
              "#fdca26"
             ],
             [
              1,
              "#f0f921"
             ]
            ],
            "type": "heatmapgl"
           }
          ],
          "histogram": [
           {
            "marker": {
             "pattern": {
              "fillmode": "overlay",
              "size": 10,
              "solidity": 0.2
             }
            },
            "type": "histogram"
           }
          ],
          "histogram2d": [
           {
            "colorbar": {
             "outlinewidth": 0,
             "ticks": ""
            },
            "colorscale": [
             [
              0,
              "#0d0887"
             ],
             [
              0.1111111111111111,
              "#46039f"
             ],
             [
              0.2222222222222222,
              "#7201a8"
             ],
             [
              0.3333333333333333,
              "#9c179e"
             ],
             [
              0.4444444444444444,
              "#bd3786"
             ],
             [
              0.5555555555555556,
              "#d8576b"
             ],
             [
              0.6666666666666666,
              "#ed7953"
             ],
             [
              0.7777777777777778,
              "#fb9f3a"
             ],
             [
              0.8888888888888888,
              "#fdca26"
             ],
             [
              1,
              "#f0f921"
             ]
            ],
            "type": "histogram2d"
           }
          ],
          "histogram2dcontour": [
           {
            "colorbar": {
             "outlinewidth": 0,
             "ticks": ""
            },
            "colorscale": [
             [
              0,
              "#0d0887"
             ],
             [
              0.1111111111111111,
              "#46039f"
             ],
             [
              0.2222222222222222,
              "#7201a8"
             ],
             [
              0.3333333333333333,
              "#9c179e"
             ],
             [
              0.4444444444444444,
              "#bd3786"
             ],
             [
              0.5555555555555556,
              "#d8576b"
             ],
             [
              0.6666666666666666,
              "#ed7953"
             ],
             [
              0.7777777777777778,
              "#fb9f3a"
             ],
             [
              0.8888888888888888,
              "#fdca26"
             ],
             [
              1,
              "#f0f921"
             ]
            ],
            "type": "histogram2dcontour"
           }
          ],
          "mesh3d": [
           {
            "colorbar": {
             "outlinewidth": 0,
             "ticks": ""
            },
            "type": "mesh3d"
           }
          ],
          "parcoords": [
           {
            "line": {
             "colorbar": {
              "outlinewidth": 0,
              "ticks": ""
             }
            },
            "type": "parcoords"
           }
          ],
          "pie": [
           {
            "automargin": true,
            "type": "pie"
           }
          ],
          "scatter": [
           {
            "fillpattern": {
             "fillmode": "overlay",
             "size": 10,
             "solidity": 0.2
            },
            "type": "scatter"
           }
          ],
          "scatter3d": [
           {
            "line": {
             "colorbar": {
              "outlinewidth": 0,
              "ticks": ""
             }
            },
            "marker": {
             "colorbar": {
              "outlinewidth": 0,
              "ticks": ""
             }
            },
            "type": "scatter3d"
           }
          ],
          "scattercarpet": [
           {
            "marker": {
             "colorbar": {
              "outlinewidth": 0,
              "ticks": ""
             }
            },
            "type": "scattercarpet"
           }
          ],
          "scattergeo": [
           {
            "marker": {
             "colorbar": {
              "outlinewidth": 0,
              "ticks": ""
             }
            },
            "type": "scattergeo"
           }
          ],
          "scattergl": [
           {
            "marker": {
             "colorbar": {
              "outlinewidth": 0,
              "ticks": ""
             }
            },
            "type": "scattergl"
           }
          ],
          "scattermapbox": [
           {
            "marker": {
             "colorbar": {
              "outlinewidth": 0,
              "ticks": ""
             }
            },
            "type": "scattermapbox"
           }
          ],
          "scatterpolar": [
           {
            "marker": {
             "colorbar": {
              "outlinewidth": 0,
              "ticks": ""
             }
            },
            "type": "scatterpolar"
           }
          ],
          "scatterpolargl": [
           {
            "marker": {
             "colorbar": {
              "outlinewidth": 0,
              "ticks": ""
             }
            },
            "type": "scatterpolargl"
           }
          ],
          "scatterternary": [
           {
            "marker": {
             "colorbar": {
              "outlinewidth": 0,
              "ticks": ""
             }
            },
            "type": "scatterternary"
           }
          ],
          "surface": [
           {
            "colorbar": {
             "outlinewidth": 0,
             "ticks": ""
            },
            "colorscale": [
             [
              0,
              "#0d0887"
             ],
             [
              0.1111111111111111,
              "#46039f"
             ],
             [
              0.2222222222222222,
              "#7201a8"
             ],
             [
              0.3333333333333333,
              "#9c179e"
             ],
             [
              0.4444444444444444,
              "#bd3786"
             ],
             [
              0.5555555555555556,
              "#d8576b"
             ],
             [
              0.6666666666666666,
              "#ed7953"
             ],
             [
              0.7777777777777778,
              "#fb9f3a"
             ],
             [
              0.8888888888888888,
              "#fdca26"
             ],
             [
              1,
              "#f0f921"
             ]
            ],
            "type": "surface"
           }
          ],
          "table": [
           {
            "cells": {
             "fill": {
              "color": "#EBF0F8"
             },
             "line": {
              "color": "white"
             }
            },
            "header": {
             "fill": {
              "color": "#C8D4E3"
             },
             "line": {
              "color": "white"
             }
            },
            "type": "table"
           }
          ]
         },
         "layout": {
          "annotationdefaults": {
           "arrowcolor": "#2a3f5f",
           "arrowhead": 0,
           "arrowwidth": 1
          },
          "autotypenumbers": "strict",
          "coloraxis": {
           "colorbar": {
            "outlinewidth": 0,
            "ticks": ""
           }
          },
          "colorscale": {
           "diverging": [
            [
             0,
             "#8e0152"
            ],
            [
             0.1,
             "#c51b7d"
            ],
            [
             0.2,
             "#de77ae"
            ],
            [
             0.3,
             "#f1b6da"
            ],
            [
             0.4,
             "#fde0ef"
            ],
            [
             0.5,
             "#f7f7f7"
            ],
            [
             0.6,
             "#e6f5d0"
            ],
            [
             0.7,
             "#b8e186"
            ],
            [
             0.8,
             "#7fbc41"
            ],
            [
             0.9,
             "#4d9221"
            ],
            [
             1,
             "#276419"
            ]
           ],
           "sequential": [
            [
             0,
             "#0d0887"
            ],
            [
             0.1111111111111111,
             "#46039f"
            ],
            [
             0.2222222222222222,
             "#7201a8"
            ],
            [
             0.3333333333333333,
             "#9c179e"
            ],
            [
             0.4444444444444444,
             "#bd3786"
            ],
            [
             0.5555555555555556,
             "#d8576b"
            ],
            [
             0.6666666666666666,
             "#ed7953"
            ],
            [
             0.7777777777777778,
             "#fb9f3a"
            ],
            [
             0.8888888888888888,
             "#fdca26"
            ],
            [
             1,
             "#f0f921"
            ]
           ],
           "sequentialminus": [
            [
             0,
             "#0d0887"
            ],
            [
             0.1111111111111111,
             "#46039f"
            ],
            [
             0.2222222222222222,
             "#7201a8"
            ],
            [
             0.3333333333333333,
             "#9c179e"
            ],
            [
             0.4444444444444444,
             "#bd3786"
            ],
            [
             0.5555555555555556,
             "#d8576b"
            ],
            [
             0.6666666666666666,
             "#ed7953"
            ],
            [
             0.7777777777777778,
             "#fb9f3a"
            ],
            [
             0.8888888888888888,
             "#fdca26"
            ],
            [
             1,
             "#f0f921"
            ]
           ]
          },
          "colorway": [
           "#636efa",
           "#EF553B",
           "#00cc96",
           "#ab63fa",
           "#FFA15A",
           "#19d3f3",
           "#FF6692",
           "#B6E880",
           "#FF97FF",
           "#FECB52"
          ],
          "font": {
           "color": "#2a3f5f"
          },
          "geo": {
           "bgcolor": "white",
           "lakecolor": "white",
           "landcolor": "white",
           "showlakes": true,
           "showland": true,
           "subunitcolor": "#C8D4E3"
          },
          "hoverlabel": {
           "align": "left"
          },
          "hovermode": "closest",
          "mapbox": {
           "style": "light"
          },
          "paper_bgcolor": "white",
          "plot_bgcolor": "white",
          "polar": {
           "angularaxis": {
            "gridcolor": "#EBF0F8",
            "linecolor": "#EBF0F8",
            "ticks": ""
           },
           "bgcolor": "white",
           "radialaxis": {
            "gridcolor": "#EBF0F8",
            "linecolor": "#EBF0F8",
            "ticks": ""
           }
          },
          "scene": {
           "xaxis": {
            "backgroundcolor": "white",
            "gridcolor": "#DFE8F3",
            "gridwidth": 2,
            "linecolor": "#EBF0F8",
            "showbackground": true,
            "ticks": "",
            "zerolinecolor": "#EBF0F8"
           },
           "yaxis": {
            "backgroundcolor": "white",
            "gridcolor": "#DFE8F3",
            "gridwidth": 2,
            "linecolor": "#EBF0F8",
            "showbackground": true,
            "ticks": "",
            "zerolinecolor": "#EBF0F8"
           },
           "zaxis": {
            "backgroundcolor": "white",
            "gridcolor": "#DFE8F3",
            "gridwidth": 2,
            "linecolor": "#EBF0F8",
            "showbackground": true,
            "ticks": "",
            "zerolinecolor": "#EBF0F8"
           }
          },
          "shapedefaults": {
           "line": {
            "color": "#2a3f5f"
           }
          },
          "ternary": {
           "aaxis": {
            "gridcolor": "#DFE8F3",
            "linecolor": "#A2B1C6",
            "ticks": ""
           },
           "baxis": {
            "gridcolor": "#DFE8F3",
            "linecolor": "#A2B1C6",
            "ticks": ""
           },
           "bgcolor": "white",
           "caxis": {
            "gridcolor": "#DFE8F3",
            "linecolor": "#A2B1C6",
            "ticks": ""
           }
          },
          "title": {
           "x": 0.05
          },
          "xaxis": {
           "automargin": true,
           "gridcolor": "#EBF0F8",
           "linecolor": "#EBF0F8",
           "ticks": "",
           "title": {
            "standoff": 15
           },
           "zerolinecolor": "#EBF0F8",
           "zerolinewidth": 2
          },
          "yaxis": {
           "automargin": true,
           "gridcolor": "#EBF0F8",
           "linecolor": "#EBF0F8",
           "ticks": "",
           "title": {
            "standoff": 15
           },
           "zerolinecolor": "#EBF0F8",
           "zerolinewidth": 2
          }
         }
        }
       }
      },
      "text/html": [
       "<div>                            <div id=\"9ff6e358-a911-4282-b792-23750a11f522\" class=\"plotly-graph-div\" style=\"height:525px; width:100%;\"></div>            <script type=\"text/javascript\">                require([\"plotly\"], function(Plotly) {                    window.PLOTLYENV=window.PLOTLYENV || {};                                    if (document.getElementById(\"9ff6e358-a911-4282-b792-23750a11f522\")) {                    Plotly.newPlot(                        \"9ff6e358-a911-4282-b792-23750a11f522\",                        [{\"mode\":\"lines\",\"name\":\"Train\",\"x\":[0,1,2,3,4,5,6,7,8,9,10,11,12,13,14,15,16,17,18,19,20,21,22,23,24,25,26,27,28,29,30,31,32,33,34,35,36,37,38,39,40,41,42,43,44,45,46,47,48,49,50,51,52,53,54,55,56,57,58,59,60,61,62,63,64,65,66,67,68,69,70,71,72,73,74,75,76,77,78,79,80,81,82,83,84,85,86,87,88,89,90,91,92,93,94,95,96,97,98,99,100,101,102,103,104,105,106,107,108,109,110,111,112,113,114,115,116,117,118,119,120,121,122,123,124,125,126,127,128,129,130,131,132,133,134,135,136,137,138,139,140,141,142,143,144,145,146,147,148,149,150,151,152,153,154,155,156,157,158,159,160,161,162,163,164,165,166,167,168,169,170,171,172,173,174,175,176,177,178,179,180,181,182,183,184,185,186,187,188,189,190,191,192,193,194,195,196,197,198,199],\"y\":[824.3869986894983,818.9115835550282,816.290930251435,814.2970376203073,812.8238183313812,811.536490816995,809.8822634273728,809.3951296047579,807.8009488004511,807.2004603834138,806.2498632162741,806.3088996118244,805.667859466305,804.9877922959395,805.0422200052082,805.8638829457506,802.759934754303,802.734374173148,802.2581599414438,802.2914681421393,802.2786335914141,801.293710582,801.1852436739367,802.381325421949,800.9592204688461,800.0956840148075,800.883817909991,800.8951603522518,801.4009949705903,801.3616222180614,799.8373265037632,800.2218110962472,799.8952755598259,798.8909799710688,798.9327366526311,799.3583947571093,798.5614824428836,798.9439950405166,800.063718313084,798.0366751157835,798.9607302249361,798.6812664674628,799.5615035566025,797.8818297861744,797.9503041905093,797.7718942454658,797.9864315217972,797.8927920817104,798.3332637666938,798.6569079211952,798.4001567971304,798.5683996541807,797.7619934946774,798.2963985755634,796.8522724183624,797.7994318761986,796.0941036213396,798.1850682429098,796.088885006704,796.6785927857082,796.926788002933,796.2060096978029,796.5776960345847,796.1957603271942,796.3069975903413,796.8759081647468,796.4004873167145,797.4811076132568,796.5995613498649,795.7292096910013,797.3495804160103,796.3157191827894,797.5707715627924,795.749606373636,797.7878538419785,795.6162679948071,795.7051062521075,795.50058848659,795.6376098592508,796.5122691615406,796.7964807405604,794.5744601838284,796.9018636659779,794.2720234224035,795.3810565730258,795.7981410530649,794.9296911439824,795.2118909677739,794.5417972685195,795.1424419130936,794.5213297154878,794.2220535392701,795.066596726921,794.1573012638172,794.3653454829663,794.5311754635526,793.7802179899743,793.411615974557,794.6172810677781,794.5946457664792,794.3813764709818,794.2584129450527,795.251889307888,794.6533343759785,793.6687258278957,793.6814648078062,794.7560391299388,793.4492634758598,794.2728302506066,793.2602992611687,794.2650024328743,793.5718803100601,793.9595126424919,793.7634503406597,792.9419285155842,793.3041951343972,793.3432757289257,793.2928506598236,793.3500864782956,792.9279854684735,794.144275258799,793.214336395491,793.7272377825085,793.8603399179958,793.4254581095179,793.1299182623169,793.076833390739,793.2194550620227,792.4185357303413,793.4400005586441,791.9011800867637,792.3343049868344,792.765011564885,793.8252352830136,792.8124956688447,794.0136815966456,792.3639590890178,792.3235041038387,791.9761983821576,793.2474907917918,793.9874893570224,792.6575500524128,792.9517225699476,793.20969975188,791.6767950821653,792.5127440356403,793.1678993495359,791.9525992955704,792.401782698046,792.9572556459145,790.7149037011121,791.6947810378978,792.6607541760146,792.1377901045628,791.9467272923521,792.7867769320611,791.9787920823549,791.7478241298132,793.7115559614745,792.575861237236,792.8643996103224,792.0629565411963,791.7297277908319,791.3551953562294,790.9972907842945,791.3314300629281,791.8060605236473,791.0567760083221,793.136635395019,793.0295174215851,791.746061437131,791.6925116609601,791.5155431728914,791.2150373040927,792.0076188247642,792.0379531003716,792.2932506778055,791.7203807671306,790.7459336790979,790.63431574812,790.5580186589456,791.2901827883994,792.6396907123767,792.1226483055316,792.9345074730862,791.1608648976126,790.6784792873735,791.1483393366071,792.870105354716,790.4718360613292,793.2264334511477,791.2767805970608,790.7264700886162,792.1471820736447,790.7408446634897,790.8395821603714,791.5478088361755,790.4717362435017,790.2759352241478,790.1950090083143],\"type\":\"scatter\"},{\"mode\":\"lines\",\"name\":\"Test\",\"x\":[0,1,2,3,4,5,6,7,8,9,10,11,12,13,14,15,16,17,18,19,20,21,22,23,24,25,26,27,28,29,30,31,32,33,34,35,36,37,38,39,40,41,42,43,44,45,46,47,48,49,50,51,52,53,54,55,56,57,58,59,60,61,62,63,64,65,66,67,68,69,70,71,72,73,74,75,76,77,78,79,80,81,82,83,84,85,86,87,88,89,90,91,92,93,94,95,96,97,98,99,100,101,102,103,104,105,106,107,108,109,110,111,112,113,114,115,116,117,118,119,120,121,122,123,124,125,126,127,128,129,130,131,132,133,134,135,136,137,138,139,140,141,142,143,144,145,146,147,148,149,150,151,152,153,154,155,156,157,158,159,160,161,162,163,164,165,166,167,168,169,170,171,172,173,174,175,176,177,178,179,180,181,182,183,184,185,186,187,188,189,190,191,192,193,194,195,196,197,198,199],\"y\":[1057.7269269818596,1024.898271939223,1014.0658760046291,1013.9144287455377,1007.3038150838291,1009.1250349717307,1007.4897350936217,1010.2239796952892,1006.8773603213972,1005.5776271177235,1006.6582945743462,1006.539243215921,1006.2529585648838,1007.6045932868929,1008.4788978203133,1007.0504788446314,1008.657886774763,1005.2037151812387,1006.0149446444723,1009.080261834157,1009.0442894102712,1011.9632750023527,1010.5785290750334,1011.2236647999496,1009.1646924478166,1008.8492480329849,1013.12531452864,1009.9238773317857,1014.1574497984568,1012.6482013980124,1009.5125672952628,1015.5927800969396,1008.2170272567432,1013.777766093466,1011.1727203098962,1012.329387651651,1014.1223209407373,1012.2483313026567,1018.0827407630063,1012.6042718266049,1015.6188319853845,1015.2300663779837,1011.4747613956415,1010.5500303513928,1010.452862381936,1015.1388231042329,1015.2949864408384,1014.9711359631568,1012.3346414409323,1015.9004646896686,1017.8475239304094,1017.355936980297,1017.5051791278308,1014.6192603428402,1016.3383791258098,1013.4608072060433,1016.6379141787336,1016.0282328984786,1018.1116884019752,1013.4535604300302,1017.005324242662,1013.9015680613537,1015.7250670578449,1017.0782458512576,1016.1731930844198,1015.4806301950445,1014.8757587218777,1017.2508809272153,1015.4484365529327,1013.8776176886212,1016.2260417647666,1014.5576356144829,1019.6678706533316,1013.6980318247788,1015.1351133863554,1021.8661596844222,1015.6230991475707,1017.5729110779065,1015.0012724877754,1019.6221010223919,1019.1125525260142,1015.7810482792183,1017.4005226587226,1011.3671647777901,1015.5184574778689,1022.7041859395573,1015.8283817141038,1021.1867386679529,1019.8648803516726,1018.6648507490901,1020.1304359674427,1019.1896623666283,1015.3653822840708,1017.2313605101396,1022.0202708366701,1013.3635701726901,1018.011057371415,1018.7929790767896,1018.2834601792248,1020.1792098778869,1021.9366245915511,1015.9781073089141,1024.2936421896943,1015.9561647223201,1023.0900311307568,1021.3852677720204,1019.4986443739874,1015.4583768209154,1019.022157751565,1018.1857544980013,1015.2431490532641,1020.3898892946299,1022.7018229676646,1015.7547941322189,1016.354313153395,1018.2077069508663,1019.6085102341575,1020.0511900791678,1021.4199033161923,1021.924686403701,1017.809242799121,1020.903073511853,1018.2334628511828,1023.5777899677402,1022.4471054505337,1018.1460920887799,1023.6490145777324,1023.4693744493999,1020.5013485575586,1019.9209553026203,1019.5520751643203,1016.6365575664779,1025.418382278653,1021.7332215496341,1019.2552237370949,1019.2637136632479,1019.7359873879744,1022.1026837979202,1019.7440037331216,1017.4158943088636,1022.9641177808855,1022.0130881914181,1018.1557610343115,1021.4283784429388,1015.2252023064051,1019.8186371397273,1017.96445404058,1020.7878551996923,1017.0841952126409,1016.8444201628646,1020.7018607820871,1023.2142770808373,1022.462126848056,1025.3318452161457,1020.1282949866466,1019.52866743649,1023.1680486682984,1019.7968080152491,1014.829678303403,1018.5067634896491,1021.14000214246,1020.0950752523559,1023.5853277987464,1021.9365357951126,1020.8598148468702,1019.1085369537373,1019.7692317879423,1020.7630809933354,1022.5869203761742,1022.7347763126395,1019.0398677079213,1025.8279706508952,1020.6070508513876,1018.3739141512997,1023.1498207327172,1022.118104779416,1024.011945354649,1023.2336347044424,1022.7643060615947,1022.4810947539584,1025.182686931915,1025.1508090104737,1016.2273194468546,1023.4297761709397,1019.8117554157393,1020.4304051362885,1019.2385744048659,1024.832251787157,1018.744792209467,1019.2924590436623,1024.4275324196292,1027.6314707161696,1022.5298242661834,1019.5003068406427,1024.1708712471209,1025.8376494626978,1023.9771371507355,1019.8595870973077,1024.1748769531268,1020.657965742628],\"type\":\"scatter\"}],                        {\"template\":{\"data\":{\"histogram2dcontour\":[{\"type\":\"histogram2dcontour\",\"colorbar\":{\"outlinewidth\":0,\"ticks\":\"\"},\"colorscale\":[[0.0,\"#0d0887\"],[0.1111111111111111,\"#46039f\"],[0.2222222222222222,\"#7201a8\"],[0.3333333333333333,\"#9c179e\"],[0.4444444444444444,\"#bd3786\"],[0.5555555555555556,\"#d8576b\"],[0.6666666666666666,\"#ed7953\"],[0.7777777777777778,\"#fb9f3a\"],[0.8888888888888888,\"#fdca26\"],[1.0,\"#f0f921\"]]}],\"choropleth\":[{\"type\":\"choropleth\",\"colorbar\":{\"outlinewidth\":0,\"ticks\":\"\"}}],\"histogram2d\":[{\"type\":\"histogram2d\",\"colorbar\":{\"outlinewidth\":0,\"ticks\":\"\"},\"colorscale\":[[0.0,\"#0d0887\"],[0.1111111111111111,\"#46039f\"],[0.2222222222222222,\"#7201a8\"],[0.3333333333333333,\"#9c179e\"],[0.4444444444444444,\"#bd3786\"],[0.5555555555555556,\"#d8576b\"],[0.6666666666666666,\"#ed7953\"],[0.7777777777777778,\"#fb9f3a\"],[0.8888888888888888,\"#fdca26\"],[1.0,\"#f0f921\"]]}],\"heatmap\":[{\"type\":\"heatmap\",\"colorbar\":{\"outlinewidth\":0,\"ticks\":\"\"},\"colorscale\":[[0.0,\"#0d0887\"],[0.1111111111111111,\"#46039f\"],[0.2222222222222222,\"#7201a8\"],[0.3333333333333333,\"#9c179e\"],[0.4444444444444444,\"#bd3786\"],[0.5555555555555556,\"#d8576b\"],[0.6666666666666666,\"#ed7953\"],[0.7777777777777778,\"#fb9f3a\"],[0.8888888888888888,\"#fdca26\"],[1.0,\"#f0f921\"]]}],\"heatmapgl\":[{\"type\":\"heatmapgl\",\"colorbar\":{\"outlinewidth\":0,\"ticks\":\"\"},\"colorscale\":[[0.0,\"#0d0887\"],[0.1111111111111111,\"#46039f\"],[0.2222222222222222,\"#7201a8\"],[0.3333333333333333,\"#9c179e\"],[0.4444444444444444,\"#bd3786\"],[0.5555555555555556,\"#d8576b\"],[0.6666666666666666,\"#ed7953\"],[0.7777777777777778,\"#fb9f3a\"],[0.8888888888888888,\"#fdca26\"],[1.0,\"#f0f921\"]]}],\"contourcarpet\":[{\"type\":\"contourcarpet\",\"colorbar\":{\"outlinewidth\":0,\"ticks\":\"\"}}],\"contour\":[{\"type\":\"contour\",\"colorbar\":{\"outlinewidth\":0,\"ticks\":\"\"},\"colorscale\":[[0.0,\"#0d0887\"],[0.1111111111111111,\"#46039f\"],[0.2222222222222222,\"#7201a8\"],[0.3333333333333333,\"#9c179e\"],[0.4444444444444444,\"#bd3786\"],[0.5555555555555556,\"#d8576b\"],[0.6666666666666666,\"#ed7953\"],[0.7777777777777778,\"#fb9f3a\"],[0.8888888888888888,\"#fdca26\"],[1.0,\"#f0f921\"]]}],\"surface\":[{\"type\":\"surface\",\"colorbar\":{\"outlinewidth\":0,\"ticks\":\"\"},\"colorscale\":[[0.0,\"#0d0887\"],[0.1111111111111111,\"#46039f\"],[0.2222222222222222,\"#7201a8\"],[0.3333333333333333,\"#9c179e\"],[0.4444444444444444,\"#bd3786\"],[0.5555555555555556,\"#d8576b\"],[0.6666666666666666,\"#ed7953\"],[0.7777777777777778,\"#fb9f3a\"],[0.8888888888888888,\"#fdca26\"],[1.0,\"#f0f921\"]]}],\"mesh3d\":[{\"type\":\"mesh3d\",\"colorbar\":{\"outlinewidth\":0,\"ticks\":\"\"}}],\"scatter\":[{\"fillpattern\":{\"fillmode\":\"overlay\",\"size\":10,\"solidity\":0.2},\"type\":\"scatter\"}],\"parcoords\":[{\"type\":\"parcoords\",\"line\":{\"colorbar\":{\"outlinewidth\":0,\"ticks\":\"\"}}}],\"scatterpolargl\":[{\"type\":\"scatterpolargl\",\"marker\":{\"colorbar\":{\"outlinewidth\":0,\"ticks\":\"\"}}}],\"bar\":[{\"error_x\":{\"color\":\"#2a3f5f\"},\"error_y\":{\"color\":\"#2a3f5f\"},\"marker\":{\"line\":{\"color\":\"white\",\"width\":0.5},\"pattern\":{\"fillmode\":\"overlay\",\"size\":10,\"solidity\":0.2}},\"type\":\"bar\"}],\"scattergeo\":[{\"type\":\"scattergeo\",\"marker\":{\"colorbar\":{\"outlinewidth\":0,\"ticks\":\"\"}}}],\"scatterpolar\":[{\"type\":\"scatterpolar\",\"marker\":{\"colorbar\":{\"outlinewidth\":0,\"ticks\":\"\"}}}],\"histogram\":[{\"marker\":{\"pattern\":{\"fillmode\":\"overlay\",\"size\":10,\"solidity\":0.2}},\"type\":\"histogram\"}],\"scattergl\":[{\"type\":\"scattergl\",\"marker\":{\"colorbar\":{\"outlinewidth\":0,\"ticks\":\"\"}}}],\"scatter3d\":[{\"type\":\"scatter3d\",\"line\":{\"colorbar\":{\"outlinewidth\":0,\"ticks\":\"\"}},\"marker\":{\"colorbar\":{\"outlinewidth\":0,\"ticks\":\"\"}}}],\"scattermapbox\":[{\"type\":\"scattermapbox\",\"marker\":{\"colorbar\":{\"outlinewidth\":0,\"ticks\":\"\"}}}],\"scatterternary\":[{\"type\":\"scatterternary\",\"marker\":{\"colorbar\":{\"outlinewidth\":0,\"ticks\":\"\"}}}],\"scattercarpet\":[{\"type\":\"scattercarpet\",\"marker\":{\"colorbar\":{\"outlinewidth\":0,\"ticks\":\"\"}}}],\"carpet\":[{\"aaxis\":{\"endlinecolor\":\"#2a3f5f\",\"gridcolor\":\"#C8D4E3\",\"linecolor\":\"#C8D4E3\",\"minorgridcolor\":\"#C8D4E3\",\"startlinecolor\":\"#2a3f5f\"},\"baxis\":{\"endlinecolor\":\"#2a3f5f\",\"gridcolor\":\"#C8D4E3\",\"linecolor\":\"#C8D4E3\",\"minorgridcolor\":\"#C8D4E3\",\"startlinecolor\":\"#2a3f5f\"},\"type\":\"carpet\"}],\"table\":[{\"cells\":{\"fill\":{\"color\":\"#EBF0F8\"},\"line\":{\"color\":\"white\"}},\"header\":{\"fill\":{\"color\":\"#C8D4E3\"},\"line\":{\"color\":\"white\"}},\"type\":\"table\"}],\"barpolar\":[{\"marker\":{\"line\":{\"color\":\"white\",\"width\":0.5},\"pattern\":{\"fillmode\":\"overlay\",\"size\":10,\"solidity\":0.2}},\"type\":\"barpolar\"}],\"pie\":[{\"automargin\":true,\"type\":\"pie\"}]},\"layout\":{\"autotypenumbers\":\"strict\",\"colorway\":[\"#636efa\",\"#EF553B\",\"#00cc96\",\"#ab63fa\",\"#FFA15A\",\"#19d3f3\",\"#FF6692\",\"#B6E880\",\"#FF97FF\",\"#FECB52\"],\"font\":{\"color\":\"#2a3f5f\"},\"hovermode\":\"closest\",\"hoverlabel\":{\"align\":\"left\"},\"paper_bgcolor\":\"white\",\"plot_bgcolor\":\"white\",\"polar\":{\"bgcolor\":\"white\",\"angularaxis\":{\"gridcolor\":\"#EBF0F8\",\"linecolor\":\"#EBF0F8\",\"ticks\":\"\"},\"radialaxis\":{\"gridcolor\":\"#EBF0F8\",\"linecolor\":\"#EBF0F8\",\"ticks\":\"\"}},\"ternary\":{\"bgcolor\":\"white\",\"aaxis\":{\"gridcolor\":\"#DFE8F3\",\"linecolor\":\"#A2B1C6\",\"ticks\":\"\"},\"baxis\":{\"gridcolor\":\"#DFE8F3\",\"linecolor\":\"#A2B1C6\",\"ticks\":\"\"},\"caxis\":{\"gridcolor\":\"#DFE8F3\",\"linecolor\":\"#A2B1C6\",\"ticks\":\"\"}},\"coloraxis\":{\"colorbar\":{\"outlinewidth\":0,\"ticks\":\"\"}},\"colorscale\":{\"sequential\":[[0.0,\"#0d0887\"],[0.1111111111111111,\"#46039f\"],[0.2222222222222222,\"#7201a8\"],[0.3333333333333333,\"#9c179e\"],[0.4444444444444444,\"#bd3786\"],[0.5555555555555556,\"#d8576b\"],[0.6666666666666666,\"#ed7953\"],[0.7777777777777778,\"#fb9f3a\"],[0.8888888888888888,\"#fdca26\"],[1.0,\"#f0f921\"]],\"sequentialminus\":[[0.0,\"#0d0887\"],[0.1111111111111111,\"#46039f\"],[0.2222222222222222,\"#7201a8\"],[0.3333333333333333,\"#9c179e\"],[0.4444444444444444,\"#bd3786\"],[0.5555555555555556,\"#d8576b\"],[0.6666666666666666,\"#ed7953\"],[0.7777777777777778,\"#fb9f3a\"],[0.8888888888888888,\"#fdca26\"],[1.0,\"#f0f921\"]],\"diverging\":[[0,\"#8e0152\"],[0.1,\"#c51b7d\"],[0.2,\"#de77ae\"],[0.3,\"#f1b6da\"],[0.4,\"#fde0ef\"],[0.5,\"#f7f7f7\"],[0.6,\"#e6f5d0\"],[0.7,\"#b8e186\"],[0.8,\"#7fbc41\"],[0.9,\"#4d9221\"],[1,\"#276419\"]]},\"xaxis\":{\"gridcolor\":\"#EBF0F8\",\"linecolor\":\"#EBF0F8\",\"ticks\":\"\",\"title\":{\"standoff\":15},\"zerolinecolor\":\"#EBF0F8\",\"automargin\":true,\"zerolinewidth\":2},\"yaxis\":{\"gridcolor\":\"#EBF0F8\",\"linecolor\":\"#EBF0F8\",\"ticks\":\"\",\"title\":{\"standoff\":15},\"zerolinecolor\":\"#EBF0F8\",\"automargin\":true,\"zerolinewidth\":2},\"scene\":{\"xaxis\":{\"backgroundcolor\":\"white\",\"gridcolor\":\"#DFE8F3\",\"linecolor\":\"#EBF0F8\",\"showbackground\":true,\"ticks\":\"\",\"zerolinecolor\":\"#EBF0F8\",\"gridwidth\":2},\"yaxis\":{\"backgroundcolor\":\"white\",\"gridcolor\":\"#DFE8F3\",\"linecolor\":\"#EBF0F8\",\"showbackground\":true,\"ticks\":\"\",\"zerolinecolor\":\"#EBF0F8\",\"gridwidth\":2},\"zaxis\":{\"backgroundcolor\":\"white\",\"gridcolor\":\"#DFE8F3\",\"linecolor\":\"#EBF0F8\",\"showbackground\":true,\"ticks\":\"\",\"zerolinecolor\":\"#EBF0F8\",\"gridwidth\":2}},\"shapedefaults\":{\"line\":{\"color\":\"#2a3f5f\"}},\"annotationdefaults\":{\"arrowcolor\":\"#2a3f5f\",\"arrowhead\":0,\"arrowwidth\":1},\"geo\":{\"bgcolor\":\"white\",\"landcolor\":\"white\",\"subunitcolor\":\"#C8D4E3\",\"showland\":true,\"showlakes\":true,\"lakecolor\":\"white\"},\"title\":{\"x\":0.05},\"mapbox\":{\"style\":\"light\"}}}},                        {\"responsive\": true}                    ).then(function(){\n",
       "                            \n",
       "var gd = document.getElementById('9ff6e358-a911-4282-b792-23750a11f522');\n",
       "var x = new MutationObserver(function (mutations, observer) {{\n",
       "        var display = window.getComputedStyle(gd).display;\n",
       "        if (!display || display === 'none') {{\n",
       "            console.log([gd, 'removed!']);\n",
       "            Plotly.purge(gd);\n",
       "            observer.disconnect();\n",
       "        }}\n",
       "}});\n",
       "\n",
       "// Listen for the removal of the full notebook cells\n",
       "var notebookContainer = gd.closest('#notebook-container');\n",
       "if (notebookContainer) {{\n",
       "    x.observe(notebookContainer, {childList: true});\n",
       "}}\n",
       "\n",
       "// Listen for the clearing of the current output cell\n",
       "var outputEl = gd.closest('.output');\n",
       "if (outputEl) {{\n",
       "    x.observe(outputEl, {childList: true});\n",
       "}}\n",
       "\n",
       "                        })                };                });            </script>        </div>"
      ]
     },
     "metadata": {},
     "output_type": "display_data"
    }
   ],
   "source": [
    "fig = go.Figure()\n",
    "fig.add_trace(go.Scatter(x=loss_df.Epoch, \n",
    "                         y= reverse_cs(loss_df.TrainMSE, \n",
    "                                       scale_dict['y1']),\n",
    "                         mode='lines', name='Train'))\n",
    "fig.add_trace(go.Scatter(x=loss_df.Epoch, \n",
    "                         y= reverse_cs(loss_df.TestMSE, \n",
    "                                       scale_dict['y1']),\n",
    "                         mode='lines', name='Test'))\n",
    "fig.show()"
   ]
  },
  {
   "cell_type": "code",
   "execution_count": null,
   "id": "9738ce69",
   "metadata": {},
   "outputs": [],
   "source": [
    "# run on cpu -----\n",
    "device = 'cpu'\n",
    "\n",
    "training_dataloader = DataLoader(\n",
    "    CustomDataset(\n",
    "        y1 = y1_train,\n",
    "        y2 = y2_train,\n",
    "        y3 = y3_train,\n",
    "        idx_original = idx_original_train\n",
    "    ), \n",
    "    batch_size = 64, \n",
    "    shuffle = True)\n",
    "\n",
    "testing_dataloader = DataLoader(\n",
    "    CustomDataset(\n",
    "        y1 = y1_test,\n",
    "        y2 = y2_test,\n",
    "        y3 = y3_test,\n",
    "        idx_original = idx_original_train\n",
    "    ), \n",
    "    batch_size = 64, \n",
    "    shuffle = True)"
   ]
  },
  {
   "cell_type": "code",
   "execution_count": null,
   "id": "8fb59710",
   "metadata": {},
   "outputs": [],
   "source": [
    "# If the model had to be trained from scratch, loading it in will not overwrite it. GPU will run out of memory.\n",
    "# Option 1\n",
    "    # Remove and reload the model\n",
    "    # del model\n",
    "    # torch.cuda.empty_cache()\n",
    "# Option 2\n",
    "    # Only load model if it's not in the scope already\n",
    "    # model = NeuralNetwork()\n",
    "    # model.load_state_dict(torch.load('../models/'+nb_name+'/model.pt'))\n",
    "\n",
    "model_exists = 'model' in locals() or 'model' in globals()\n",
    "\n",
    "if not model_exists:\n",
    "    model = NeuralNetwork()\n",
    "    model.load_state_dict(torch.load('../models/'+nb_name+'/model.pt'))\n",
    "    model.to(device)"
   ]
  },
  {
   "cell_type": "code",
   "execution_count": null,
   "id": "4f06db4d",
   "metadata": {},
   "outputs": [],
   "source": []
  },
  {
   "cell_type": "code",
   "execution_count": null,
   "id": "542fa003",
   "metadata": {},
   "outputs": [],
   "source": [
    "# xs_i, y1_i, y2_i, y3_i = next(iter(training_dataloader))"
   ]
  },
  {
   "cell_type": "code",
   "execution_count": null,
   "id": "436f9497",
   "metadata": {},
   "outputs": [],
   "source": [
    "# del xs_i, y1_i, y2_i, y3_i "
   ]
  },
  {
   "cell_type": "code",
   "execution_count": null,
   "id": "18123657",
   "metadata": {},
   "outputs": [],
   "source": [
    "# del model"
   ]
  },
  {
   "cell_type": "code",
   "execution_count": null,
   "id": "6d99a278",
   "metadata": {},
   "outputs": [],
   "source": [
    "torch.cuda.empty_cache()"
   ]
  },
  {
   "cell_type": "code",
   "execution_count": null,
   "id": "4d895b85",
   "metadata": {},
   "outputs": [],
   "source": [
    "def yhat_loop(dataloader, model):\n",
    "    size = len(dataloader.dataset)\n",
    "    num_batches = len(dataloader)\n",
    "    \n",
    "    y_true = np.array([])\n",
    "    y_pred = np.array([])\n",
    "    \n",
    "    with torch.no_grad():\n",
    "        for xs_i, y1_i, y2_i, y3_i in dataloader:\n",
    "            yhat_i = model(xs_i)\n",
    "            y_i = y1_i # <-----------------------\n",
    "#             pdb.set_trace()\n",
    "            y_true = np.append(y_true, np.array(yhat_i.cpu()))\n",
    "            y_pred = np.append(y_pred, np.array(y_i.cpu()))\n",
    "    \n",
    "    out = np.concatenate([y_true[:, None], y_pred[:, None]], axis = 1) \n",
    "    out = pd.DataFrame(out, columns = ['y_true', 'y_pred'])\n",
    "    return(out)"
   ]
  },
  {
   "cell_type": "code",
   "execution_count": null,
   "id": "4c22a608",
   "metadata": {},
   "outputs": [],
   "source": [
    "out = yhat_loop(testing_dataloader, model)"
   ]
  },
  {
   "cell_type": "code",
   "execution_count": null,
   "id": "39ac8268",
   "metadata": {},
   "outputs": [
    {
     "data": {
      "application/vnd.plotly.v1+json": {
       "config": {
        "plotlyServerURL": "https://plot.ly"
       },
       "data": [
        {
         "hovertemplate": "x=%{x}<br>y=%{y}<extra></extra>",
         "legendgroup": "",
         "marker": {
          "color": "#636efa",
          "symbol": "circle"
         },
         "mode": "markers",
         "name": "",
         "orientation": "v",
         "showlegend": false,
         "type": "scatter",
         "x": [
          768.8789154641083,
          774.8067030125859,
          766.7468463770704,
          681.8663353870201,
          730.6992929962435,
          754.5931723862566,
          790.6487988432888,
          785.9813768441082,
          728.8310233287464,
          832.036600562598,
          740.4535669721199,
          802.0874376627114,
          714.9780204445642,
          756.7965810870076,
          703.1021183628832,
          734.3992001004821,
          740.0276141562225,
          824.0640160267757,
          761.7375728888588,
          796.851444667759,
          789.2337535978804,
          745.3119420125618,
          767.0779849457747,
          779.5199374993207,
          734.4567734913302,
          766.3579309256794,
          757.2205702066649,
          755.0850602576329,
          810.2967350044637,
          784.9007204870404,
          815.6255202777062,
          864.963104347387,
          768.0328537479259,
          746.9420078339315,
          827.7345019110396,
          723.8326163047032,
          727.3884622869407,
          817.344937515372,
          751.4656055016139,
          772.5414059690507,
          799.7362707632418,
          708.0862328601708,
          707.8615815704778,
          720.2266595323075,
          735.9546843131686,
          766.698365371545,
          851.553006999163,
          724.7435493690275,
          718.1176183216681,
          716.0169313759562,
          818.5443776082652,
          707.2947828036255,
          788.4764679710693,
          720.6059683190023,
          757.2315541411216,
          677.174745957146,
          729.8197568726515,
          828.634246624106,
          722.9974747005372,
          769.0807997169409,
          812.4628797247972,
          756.0723453096341,
          777.5082921073327,
          744.6493207889537,
          796.3910758322182,
          770.8388952033007,
          737.8717587232065,
          728.6622656972723,
          781.5844176972117,
          738.6389525526198,
          748.8395470274872,
          719.8822403462617,
          789.8840839144518,
          759.5088229794924,
          727.2353698271685,
          756.6611970419867,
          695.9876404101483,
          691.7591614058554,
          773.3192572210164,
          824.4228942328996,
          690.197883225553,
          804.7691493047025,
          800.7756848744523,
          829.9006614307796,
          821.5874019587374,
          786.5022900513371,
          756.0734145667483,
          730.9314512848459,
          744.0711079798954,
          844.4565732227128,
          753.6922529703052,
          808.5248094727989,
          729.6122765942642,
          697.1588876338003,
          775.1452949323515,
          742.901368445773,
          747.694504927801,
          744.5171546898675,
          773.2662512969764,
          812.1409334374091,
          783.7735495955762,
          871.869957727522,
          786.5525118370433,
          800.3663850906355,
          777.2410518257979,
          764.5481226134161,
          776.1566771178656,
          764.8458959203334,
          685.3683781271965,
          793.8820510641071,
          794.4070600070645,
          729.8947195660501,
          699.1624460751393,
          821.1569464234348,
          722.7001953238093,
          703.0897645583692,
          777.0373453960491,
          837.9179216747499,
          803.890615840896,
          710.7167274563735,
          810.5469004708348,
          762.5832479705484,
          710.4552256446802,
          712.2028727501034,
          704.5667231205601,
          776.8733383740378,
          749.2035282539393,
          752.9423318981167,
          824.7822904182483,
          787.990296370425,
          695.563171234745,
          799.4716462767926,
          732.4032559537491,
          781.5658222430377,
          788.0472740851645,
          826.0395702913054,
          712.7918225285237,
          738.0129469104351,
          801.8685988398922,
          713.130999024843,
          760.0763885405901,
          807.9102900199264,
          719.9596930397914,
          782.2393802279945,
          728.0262501065663,
          799.546357380282,
          841.3412907703664,
          751.7529877752945,
          731.4706084603464,
          754.0965376052693,
          763.8928317208033,
          763.4646728683855,
          689.8648077845327,
          728.7049249862949,
          761.4208822406778,
          765.4811104931666,
          730.4828368778589,
          775.6210163021333,
          785.8912780577875,
          779.6857426492128,
          712.0115053254623,
          724.4992444676011,
          799.7829850896251,
          751.5604188238441,
          783.3148271940004,
          723.3521276761264,
          806.9094801603778,
          715.6399312966639,
          789.1479540391265,
          778.0584267425496,
          755.1579778580559,
          831.2986503602822,
          694.521411417616,
          769.8656566379234,
          727.7739831244827,
          779.270867189025,
          777.5883642957998,
          723.0029837795792,
          773.657529103618,
          742.0445697602286,
          783.9998251201243,
          789.1487236082606,
          723.0997422987914,
          792.845755927801,
          829.4914504434014,
          716.262953008528,
          693.0854842097407,
          756.7497983133696,
          729.0186465035619,
          758.1966687573339,
          796.7472901451854,
          750.7963615436303,
          710.3080899459944,
          813.4769054542841
         ],
         "xaxis": "x",
         "y": [
          715.7822016904872,
          772.8449001715145,
          791.7365996138086,
          827.3056965095536,
          677.0018000936534,
          775.1270999871138,
          741.9647991096674,
          689.1148996618249,
          760.233099917715,
          685.2316020130087,
          680.6770994848573,
          689.9978988465205,
          680.585098974811,
          659.4171971763717,
          783.5163007633046,
          695.4982018405354,
          689.6391020371319,
          777.1748004330067,
          643.577599670466,
          727.7597016972818,
          731.2026985056707,
          730.0522000498277,
          715.0415986945696,
          737.6318991934853,
          760.5062000704723,
          768.8484000130211,
          732.5332002919455,
          783.0469005899924,
          745.5686007185022,
          687.8226006933126,
          813.4978984122992,
          666.6266984179155,
          605.8718051733233,
          756.479500104482,
          748.1481002600132,
          708.3303009710944,
          726.0802983547399,
          759.5858999068433,
          705.9430013208361,
          813.3635013026943,
          744.3776998831166,
          728.0814999906056,
          726.1077993517307,
          817.0029010337607,
          689.511701346915,
          683.6184001152612,
          737.4446996516788,
          715.4143994422886,
          722.554698659385,
          778.9552994458065,
          708.014600033218,
          773.4320000241315,
          646.7414981729213,
          697.8594989337035,
          825.4649019400862,
          691.3883030802298,
          789.9055005054759,
          679.385703280137,
          744.6394995328643,
          725.7759004635212,
          819.9847002398491,
          745.8129000701513,
          725.6181017925055,
          707.8232992059058,
          667.7736968141387,
          735.0134994121839,
          723.546499380272,
          703.9758013212337,
          767.0857000613371,
          693.8871976546423,
          715.5226016025197,
          637.9919041013738,
          727.6093989256208,
          739.3357992535135,
          730.5284005503925,
          677.2490019788877,
          772.8043997459043,
          728.5258003706195,
          753.6011996222701,
          688.4044985545709,
          704.3243014436014,
          717.3028998983699,
          648.4148966563058,
          772.2137998336676,
          711.0207997606509,
          696.1316978322975,
          707.5325981653342,
          711.6807015933282,
          710.5039008924149,
          700.3866973729056,
          741.9337000069893,
          743.6002001170536,
          810.5327004403691,
          697.2064973242723,
          668.2636015650539,
          776.1038996596623,
          679.2490011629814,
          711.7716994435892,
          728.246898156821,
          690.0848971571949,
          750.3332002450895,
          763.9629999846217,
          767.6593999763984,
          721.2387983374751,
          792.4065002954525,
          765.3766000911166,
          663.7724996940309,
          772.7365999652159,
          800.2635995131564,
          647.8512020649514,
          749.4704004002394,
          723.8999018060183,
          717.6593990999107,
          664.1893989730473,
          797.6049009481575,
          753.5821999593079,
          778.8765999022854,
          786.3168997369662,
          794.3660989499293,
          587.7806999708198,
          698.3839011009975,
          707.872100248595,
          743.7167990905056,
          761.4369000544857,
          789.135999818586,
          801.71529918843,
          748.5981002614268,
          699.9678963701634,
          671.5127964464446,
          657.3434969482772,
          736.8782005728066,
          727.565999666277,
          718.0906982013795,
          773.7844996860857,
          775.5043997543862,
          679.9435965041725,
          737.495400568168,
          707.0250007240369,
          728.8241009063908,
          710.3970010799493,
          743.8546000635882,
          724.5229013187728,
          621.9243069400713,
          774.4239996120423,
          740.1622998542526,
          788.2977003910739,
          741.8837002123795,
          715.9578003475817,
          767.0440998548369,
          757.0825999653711,
          721.5258994224336,
          745.6238006545449,
          755.5742999602218,
          795.152298917045,
          686.2653997494806,
          765.2014000930328,
          706.7513005015971,
          628.5325970949712,
          777.7820996254692,
          737.1275002739018,
          782.296000907054,
          720.2915993277041,
          729.5922011994476,
          808.4829012536525,
          798.6294009575422,
          722.1501013869602,
          770.7160999033708,
          823.2737018246736,
          744.8548993436152,
          753.1787995888777,
          778.316900225703,
          678.058699703556,
          732.5710997218763,
          695.2416023322207,
          697.7042013623739,
          707.3053014817426,
          754.8818995559961,
          777.0443001921063,
          723.9504010805949,
          715.6735999462827,
          740.5803997351153,
          740.546200156791,
          735.9087007074777,
          714.3454013176329,
          676.2985988976255,
          709.8233982859928,
          706.53939890054,
          715.0581999287278,
          819.0832017971211,
          874.5730989100177,
          723.3532006330922,
          727.1273008615952,
          664.8241973125748,
          712.7932987693146
         ],
         "yaxis": "y"
        }
       ],
       "layout": {
        "legend": {
         "tracegroupgap": 0
        },
        "margin": {
         "t": 60
        },
        "template": {
         "data": {
          "bar": [
           {
            "error_x": {
             "color": "#2a3f5f"
            },
            "error_y": {
             "color": "#2a3f5f"
            },
            "marker": {
             "line": {
              "color": "white",
              "width": 0.5
             },
             "pattern": {
              "fillmode": "overlay",
              "size": 10,
              "solidity": 0.2
             }
            },
            "type": "bar"
           }
          ],
          "barpolar": [
           {
            "marker": {
             "line": {
              "color": "white",
              "width": 0.5
             },
             "pattern": {
              "fillmode": "overlay",
              "size": 10,
              "solidity": 0.2
             }
            },
            "type": "barpolar"
           }
          ],
          "carpet": [
           {
            "aaxis": {
             "endlinecolor": "#2a3f5f",
             "gridcolor": "#C8D4E3",
             "linecolor": "#C8D4E3",
             "minorgridcolor": "#C8D4E3",
             "startlinecolor": "#2a3f5f"
            },
            "baxis": {
             "endlinecolor": "#2a3f5f",
             "gridcolor": "#C8D4E3",
             "linecolor": "#C8D4E3",
             "minorgridcolor": "#C8D4E3",
             "startlinecolor": "#2a3f5f"
            },
            "type": "carpet"
           }
          ],
          "choropleth": [
           {
            "colorbar": {
             "outlinewidth": 0,
             "ticks": ""
            },
            "type": "choropleth"
           }
          ],
          "contour": [
           {
            "colorbar": {
             "outlinewidth": 0,
             "ticks": ""
            },
            "colorscale": [
             [
              0,
              "#0d0887"
             ],
             [
              0.1111111111111111,
              "#46039f"
             ],
             [
              0.2222222222222222,
              "#7201a8"
             ],
             [
              0.3333333333333333,
              "#9c179e"
             ],
             [
              0.4444444444444444,
              "#bd3786"
             ],
             [
              0.5555555555555556,
              "#d8576b"
             ],
             [
              0.6666666666666666,
              "#ed7953"
             ],
             [
              0.7777777777777778,
              "#fb9f3a"
             ],
             [
              0.8888888888888888,
              "#fdca26"
             ],
             [
              1,
              "#f0f921"
             ]
            ],
            "type": "contour"
           }
          ],
          "contourcarpet": [
           {
            "colorbar": {
             "outlinewidth": 0,
             "ticks": ""
            },
            "type": "contourcarpet"
           }
          ],
          "heatmap": [
           {
            "colorbar": {
             "outlinewidth": 0,
             "ticks": ""
            },
            "colorscale": [
             [
              0,
              "#0d0887"
             ],
             [
              0.1111111111111111,
              "#46039f"
             ],
             [
              0.2222222222222222,
              "#7201a8"
             ],
             [
              0.3333333333333333,
              "#9c179e"
             ],
             [
              0.4444444444444444,
              "#bd3786"
             ],
             [
              0.5555555555555556,
              "#d8576b"
             ],
             [
              0.6666666666666666,
              "#ed7953"
             ],
             [
              0.7777777777777778,
              "#fb9f3a"
             ],
             [
              0.8888888888888888,
              "#fdca26"
             ],
             [
              1,
              "#f0f921"
             ]
            ],
            "type": "heatmap"
           }
          ],
          "heatmapgl": [
           {
            "colorbar": {
             "outlinewidth": 0,
             "ticks": ""
            },
            "colorscale": [
             [
              0,
              "#0d0887"
             ],
             [
              0.1111111111111111,
              "#46039f"
             ],
             [
              0.2222222222222222,
              "#7201a8"
             ],
             [
              0.3333333333333333,
              "#9c179e"
             ],
             [
              0.4444444444444444,
              "#bd3786"
             ],
             [
              0.5555555555555556,
              "#d8576b"
             ],
             [
              0.6666666666666666,
              "#ed7953"
             ],
             [
              0.7777777777777778,
              "#fb9f3a"
             ],
             [
              0.8888888888888888,
              "#fdca26"
             ],
             [
              1,
              "#f0f921"
             ]
            ],
            "type": "heatmapgl"
           }
          ],
          "histogram": [
           {
            "marker": {
             "pattern": {
              "fillmode": "overlay",
              "size": 10,
              "solidity": 0.2
             }
            },
            "type": "histogram"
           }
          ],
          "histogram2d": [
           {
            "colorbar": {
             "outlinewidth": 0,
             "ticks": ""
            },
            "colorscale": [
             [
              0,
              "#0d0887"
             ],
             [
              0.1111111111111111,
              "#46039f"
             ],
             [
              0.2222222222222222,
              "#7201a8"
             ],
             [
              0.3333333333333333,
              "#9c179e"
             ],
             [
              0.4444444444444444,
              "#bd3786"
             ],
             [
              0.5555555555555556,
              "#d8576b"
             ],
             [
              0.6666666666666666,
              "#ed7953"
             ],
             [
              0.7777777777777778,
              "#fb9f3a"
             ],
             [
              0.8888888888888888,
              "#fdca26"
             ],
             [
              1,
              "#f0f921"
             ]
            ],
            "type": "histogram2d"
           }
          ],
          "histogram2dcontour": [
           {
            "colorbar": {
             "outlinewidth": 0,
             "ticks": ""
            },
            "colorscale": [
             [
              0,
              "#0d0887"
             ],
             [
              0.1111111111111111,
              "#46039f"
             ],
             [
              0.2222222222222222,
              "#7201a8"
             ],
             [
              0.3333333333333333,
              "#9c179e"
             ],
             [
              0.4444444444444444,
              "#bd3786"
             ],
             [
              0.5555555555555556,
              "#d8576b"
             ],
             [
              0.6666666666666666,
              "#ed7953"
             ],
             [
              0.7777777777777778,
              "#fb9f3a"
             ],
             [
              0.8888888888888888,
              "#fdca26"
             ],
             [
              1,
              "#f0f921"
             ]
            ],
            "type": "histogram2dcontour"
           }
          ],
          "mesh3d": [
           {
            "colorbar": {
             "outlinewidth": 0,
             "ticks": ""
            },
            "type": "mesh3d"
           }
          ],
          "parcoords": [
           {
            "line": {
             "colorbar": {
              "outlinewidth": 0,
              "ticks": ""
             }
            },
            "type": "parcoords"
           }
          ],
          "pie": [
           {
            "automargin": true,
            "type": "pie"
           }
          ],
          "scatter": [
           {
            "fillpattern": {
             "fillmode": "overlay",
             "size": 10,
             "solidity": 0.2
            },
            "type": "scatter"
           }
          ],
          "scatter3d": [
           {
            "line": {
             "colorbar": {
              "outlinewidth": 0,
              "ticks": ""
             }
            },
            "marker": {
             "colorbar": {
              "outlinewidth": 0,
              "ticks": ""
             }
            },
            "type": "scatter3d"
           }
          ],
          "scattercarpet": [
           {
            "marker": {
             "colorbar": {
              "outlinewidth": 0,
              "ticks": ""
             }
            },
            "type": "scattercarpet"
           }
          ],
          "scattergeo": [
           {
            "marker": {
             "colorbar": {
              "outlinewidth": 0,
              "ticks": ""
             }
            },
            "type": "scattergeo"
           }
          ],
          "scattergl": [
           {
            "marker": {
             "colorbar": {
              "outlinewidth": 0,
              "ticks": ""
             }
            },
            "type": "scattergl"
           }
          ],
          "scattermapbox": [
           {
            "marker": {
             "colorbar": {
              "outlinewidth": 0,
              "ticks": ""
             }
            },
            "type": "scattermapbox"
           }
          ],
          "scatterpolar": [
           {
            "marker": {
             "colorbar": {
              "outlinewidth": 0,
              "ticks": ""
             }
            },
            "type": "scatterpolar"
           }
          ],
          "scatterpolargl": [
           {
            "marker": {
             "colorbar": {
              "outlinewidth": 0,
              "ticks": ""
             }
            },
            "type": "scatterpolargl"
           }
          ],
          "scatterternary": [
           {
            "marker": {
             "colorbar": {
              "outlinewidth": 0,
              "ticks": ""
             }
            },
            "type": "scatterternary"
           }
          ],
          "surface": [
           {
            "colorbar": {
             "outlinewidth": 0,
             "ticks": ""
            },
            "colorscale": [
             [
              0,
              "#0d0887"
             ],
             [
              0.1111111111111111,
              "#46039f"
             ],
             [
              0.2222222222222222,
              "#7201a8"
             ],
             [
              0.3333333333333333,
              "#9c179e"
             ],
             [
              0.4444444444444444,
              "#bd3786"
             ],
             [
              0.5555555555555556,
              "#d8576b"
             ],
             [
              0.6666666666666666,
              "#ed7953"
             ],
             [
              0.7777777777777778,
              "#fb9f3a"
             ],
             [
              0.8888888888888888,
              "#fdca26"
             ],
             [
              1,
              "#f0f921"
             ]
            ],
            "type": "surface"
           }
          ],
          "table": [
           {
            "cells": {
             "fill": {
              "color": "#EBF0F8"
             },
             "line": {
              "color": "white"
             }
            },
            "header": {
             "fill": {
              "color": "#C8D4E3"
             },
             "line": {
              "color": "white"
             }
            },
            "type": "table"
           }
          ]
         },
         "layout": {
          "annotationdefaults": {
           "arrowcolor": "#2a3f5f",
           "arrowhead": 0,
           "arrowwidth": 1
          },
          "autotypenumbers": "strict",
          "coloraxis": {
           "colorbar": {
            "outlinewidth": 0,
            "ticks": ""
           }
          },
          "colorscale": {
           "diverging": [
            [
             0,
             "#8e0152"
            ],
            [
             0.1,
             "#c51b7d"
            ],
            [
             0.2,
             "#de77ae"
            ],
            [
             0.3,
             "#f1b6da"
            ],
            [
             0.4,
             "#fde0ef"
            ],
            [
             0.5,
             "#f7f7f7"
            ],
            [
             0.6,
             "#e6f5d0"
            ],
            [
             0.7,
             "#b8e186"
            ],
            [
             0.8,
             "#7fbc41"
            ],
            [
             0.9,
             "#4d9221"
            ],
            [
             1,
             "#276419"
            ]
           ],
           "sequential": [
            [
             0,
             "#0d0887"
            ],
            [
             0.1111111111111111,
             "#46039f"
            ],
            [
             0.2222222222222222,
             "#7201a8"
            ],
            [
             0.3333333333333333,
             "#9c179e"
            ],
            [
             0.4444444444444444,
             "#bd3786"
            ],
            [
             0.5555555555555556,
             "#d8576b"
            ],
            [
             0.6666666666666666,
             "#ed7953"
            ],
            [
             0.7777777777777778,
             "#fb9f3a"
            ],
            [
             0.8888888888888888,
             "#fdca26"
            ],
            [
             1,
             "#f0f921"
            ]
           ],
           "sequentialminus": [
            [
             0,
             "#0d0887"
            ],
            [
             0.1111111111111111,
             "#46039f"
            ],
            [
             0.2222222222222222,
             "#7201a8"
            ],
            [
             0.3333333333333333,
             "#9c179e"
            ],
            [
             0.4444444444444444,
             "#bd3786"
            ],
            [
             0.5555555555555556,
             "#d8576b"
            ],
            [
             0.6666666666666666,
             "#ed7953"
            ],
            [
             0.7777777777777778,
             "#fb9f3a"
            ],
            [
             0.8888888888888888,
             "#fdca26"
            ],
            [
             1,
             "#f0f921"
            ]
           ]
          },
          "colorway": [
           "#636efa",
           "#EF553B",
           "#00cc96",
           "#ab63fa",
           "#FFA15A",
           "#19d3f3",
           "#FF6692",
           "#B6E880",
           "#FF97FF",
           "#FECB52"
          ],
          "font": {
           "color": "#2a3f5f"
          },
          "geo": {
           "bgcolor": "white",
           "lakecolor": "white",
           "landcolor": "white",
           "showlakes": true,
           "showland": true,
           "subunitcolor": "#C8D4E3"
          },
          "hoverlabel": {
           "align": "left"
          },
          "hovermode": "closest",
          "mapbox": {
           "style": "light"
          },
          "paper_bgcolor": "white",
          "plot_bgcolor": "white",
          "polar": {
           "angularaxis": {
            "gridcolor": "#EBF0F8",
            "linecolor": "#EBF0F8",
            "ticks": ""
           },
           "bgcolor": "white",
           "radialaxis": {
            "gridcolor": "#EBF0F8",
            "linecolor": "#EBF0F8",
            "ticks": ""
           }
          },
          "scene": {
           "xaxis": {
            "backgroundcolor": "white",
            "gridcolor": "#DFE8F3",
            "gridwidth": 2,
            "linecolor": "#EBF0F8",
            "showbackground": true,
            "ticks": "",
            "zerolinecolor": "#EBF0F8"
           },
           "yaxis": {
            "backgroundcolor": "white",
            "gridcolor": "#DFE8F3",
            "gridwidth": 2,
            "linecolor": "#EBF0F8",
            "showbackground": true,
            "ticks": "",
            "zerolinecolor": "#EBF0F8"
           },
           "zaxis": {
            "backgroundcolor": "white",
            "gridcolor": "#DFE8F3",
            "gridwidth": 2,
            "linecolor": "#EBF0F8",
            "showbackground": true,
            "ticks": "",
            "zerolinecolor": "#EBF0F8"
           }
          },
          "shapedefaults": {
           "line": {
            "color": "#2a3f5f"
           }
          },
          "ternary": {
           "aaxis": {
            "gridcolor": "#DFE8F3",
            "linecolor": "#A2B1C6",
            "ticks": ""
           },
           "baxis": {
            "gridcolor": "#DFE8F3",
            "linecolor": "#A2B1C6",
            "ticks": ""
           },
           "bgcolor": "white",
           "caxis": {
            "gridcolor": "#DFE8F3",
            "linecolor": "#A2B1C6",
            "ticks": ""
           }
          },
          "title": {
           "x": 0.05
          },
          "xaxis": {
           "automargin": true,
           "gridcolor": "#EBF0F8",
           "linecolor": "#EBF0F8",
           "ticks": "",
           "title": {
            "standoff": 15
           },
           "zerolinecolor": "#EBF0F8",
           "zerolinewidth": 2
          },
          "yaxis": {
           "automargin": true,
           "gridcolor": "#EBF0F8",
           "linecolor": "#EBF0F8",
           "ticks": "",
           "title": {
            "standoff": 15
           },
           "zerolinecolor": "#EBF0F8",
           "zerolinewidth": 2
          }
         }
        },
        "xaxis": {
         "anchor": "y",
         "domain": [
          0,
          1
         ],
         "title": {
          "text": "x"
         }
        },
        "yaxis": {
         "anchor": "x",
         "domain": [
          0,
          1
         ],
         "title": {
          "text": "y"
         }
        }
       }
      },
      "text/html": [
       "<div>                            <div id=\"5f2efb66-1e99-4f23-890c-edf96f862a5d\" class=\"plotly-graph-div\" style=\"height:525px; width:100%;\"></div>            <script type=\"text/javascript\">                require([\"plotly\"], function(Plotly) {                    window.PLOTLYENV=window.PLOTLYENV || {};                                    if (document.getElementById(\"5f2efb66-1e99-4f23-890c-edf96f862a5d\")) {                    Plotly.newPlot(                        \"5f2efb66-1e99-4f23-890c-edf96f862a5d\",                        [{\"hovertemplate\":\"x=%{x}<br>y=%{y}<extra></extra>\",\"legendgroup\":\"\",\"marker\":{\"color\":\"#636efa\",\"symbol\":\"circle\"},\"mode\":\"markers\",\"name\":\"\",\"orientation\":\"v\",\"showlegend\":false,\"x\":[768.8789154641083,774.8067030125859,766.7468463770704,681.8663353870201,730.6992929962435,754.5931723862566,790.6487988432888,785.9813768441082,728.8310233287464,832.036600562598,740.4535669721199,802.0874376627114,714.9780204445642,756.7965810870076,703.1021183628832,734.3992001004821,740.0276141562225,824.0640160267757,761.7375728888588,796.851444667759,789.2337535978804,745.3119420125618,767.0779849457747,779.5199374993207,734.4567734913302,766.3579309256794,757.2205702066649,755.0850602576329,810.2967350044637,784.9007204870404,815.6255202777062,864.963104347387,768.0328537479259,746.9420078339315,827.7345019110396,723.8326163047032,727.3884622869407,817.344937515372,751.4656055016139,772.5414059690507,799.7362707632418,708.0862328601708,707.8615815704778,720.2266595323075,735.9546843131686,766.698365371545,851.553006999163,724.7435493690275,718.1176183216681,716.0169313759562,818.5443776082652,707.2947828036255,788.4764679710693,720.6059683190023,757.2315541411216,677.174745957146,729.8197568726515,828.634246624106,722.9974747005372,769.0807997169409,812.4628797247972,756.0723453096341,777.5082921073327,744.6493207889537,796.3910758322182,770.8388952033007,737.8717587232065,728.6622656972723,781.5844176972117,738.6389525526198,748.8395470274872,719.8822403462617,789.8840839144518,759.5088229794924,727.2353698271685,756.6611970419867,695.9876404101483,691.7591614058554,773.3192572210164,824.4228942328996,690.197883225553,804.7691493047025,800.7756848744523,829.9006614307796,821.5874019587374,786.5022900513371,756.0734145667483,730.9314512848459,744.0711079798954,844.4565732227128,753.6922529703052,808.5248094727989,729.6122765942642,697.1588876338003,775.1452949323515,742.901368445773,747.694504927801,744.5171546898675,773.2662512969764,812.1409334374091,783.7735495955762,871.869957727522,786.5525118370433,800.3663850906355,777.2410518257979,764.5481226134161,776.1566771178656,764.8458959203334,685.3683781271965,793.8820510641071,794.4070600070645,729.8947195660501,699.1624460751393,821.1569464234348,722.7001953238093,703.0897645583692,777.0373453960491,837.9179216747499,803.890615840896,710.7167274563735,810.5469004708348,762.5832479705484,710.4552256446802,712.2028727501034,704.5667231205601,776.8733383740378,749.2035282539393,752.9423318981167,824.7822904182483,787.990296370425,695.563171234745,799.4716462767926,732.4032559537491,781.5658222430377,788.0472740851645,826.0395702913054,712.7918225285237,738.0129469104351,801.8685988398922,713.130999024843,760.0763885405901,807.9102900199264,719.9596930397914,782.2393802279945,728.0262501065663,799.546357380282,841.3412907703664,751.7529877752945,731.4706084603464,754.0965376052693,763.8928317208033,763.4646728683855,689.8648077845327,728.7049249862949,761.4208822406778,765.4811104931666,730.4828368778589,775.6210163021333,785.8912780577875,779.6857426492128,712.0115053254623,724.4992444676011,799.7829850896251,751.5604188238441,783.3148271940004,723.3521276761264,806.9094801603778,715.6399312966639,789.1479540391265,778.0584267425496,755.1579778580559,831.2986503602822,694.521411417616,769.8656566379234,727.7739831244827,779.270867189025,777.5883642957998,723.0029837795792,773.657529103618,742.0445697602286,783.9998251201243,789.1487236082606,723.0997422987914,792.845755927801,829.4914504434014,716.262953008528,693.0854842097407,756.7497983133696,729.0186465035619,758.1966687573339,796.7472901451854,750.7963615436303,710.3080899459944,813.4769054542841],\"xaxis\":\"x\",\"y\":[715.7822016904872,772.8449001715145,791.7365996138086,827.3056965095536,677.0018000936534,775.1270999871138,741.9647991096674,689.1148996618249,760.233099917715,685.2316020130087,680.6770994848573,689.9978988465205,680.585098974811,659.4171971763717,783.5163007633046,695.4982018405354,689.6391020371319,777.1748004330067,643.577599670466,727.7597016972818,731.2026985056707,730.0522000498277,715.0415986945696,737.6318991934853,760.5062000704723,768.8484000130211,732.5332002919455,783.0469005899924,745.5686007185022,687.8226006933126,813.4978984122992,666.6266984179155,605.8718051733233,756.479500104482,748.1481002600132,708.3303009710944,726.0802983547399,759.5858999068433,705.9430013208361,813.3635013026943,744.3776998831166,728.0814999906056,726.1077993517307,817.0029010337607,689.511701346915,683.6184001152612,737.4446996516788,715.4143994422886,722.554698659385,778.9552994458065,708.014600033218,773.4320000241315,646.7414981729213,697.8594989337035,825.4649019400862,691.3883030802298,789.9055005054759,679.385703280137,744.6394995328643,725.7759004635212,819.9847002398491,745.8129000701513,725.6181017925055,707.8232992059058,667.7736968141387,735.0134994121839,723.546499380272,703.9758013212337,767.0857000613371,693.8871976546423,715.5226016025197,637.9919041013738,727.6093989256208,739.3357992535135,730.5284005503925,677.2490019788877,772.8043997459043,728.5258003706195,753.6011996222701,688.4044985545709,704.3243014436014,717.3028998983699,648.4148966563058,772.2137998336676,711.0207997606509,696.1316978322975,707.5325981653342,711.6807015933282,710.5039008924149,700.3866973729056,741.9337000069893,743.6002001170536,810.5327004403691,697.2064973242723,668.2636015650539,776.1038996596623,679.2490011629814,711.7716994435892,728.246898156821,690.0848971571949,750.3332002450895,763.9629999846217,767.6593999763984,721.2387983374751,792.4065002954525,765.3766000911166,663.7724996940309,772.7365999652159,800.2635995131564,647.8512020649514,749.4704004002394,723.8999018060183,717.6593990999107,664.1893989730473,797.6049009481575,753.5821999593079,778.8765999022854,786.3168997369662,794.3660989499293,587.7806999708198,698.3839011009975,707.872100248595,743.7167990905056,761.4369000544857,789.135999818586,801.71529918843,748.5981002614268,699.9678963701634,671.5127964464446,657.3434969482772,736.8782005728066,727.565999666277,718.0906982013795,773.7844996860857,775.5043997543862,679.9435965041725,737.495400568168,707.0250007240369,728.8241009063908,710.3970010799493,743.8546000635882,724.5229013187728,621.9243069400713,774.4239996120423,740.1622998542526,788.2977003910739,741.8837002123795,715.9578003475817,767.0440998548369,757.0825999653711,721.5258994224336,745.6238006545449,755.5742999602218,795.152298917045,686.2653997494806,765.2014000930328,706.7513005015971,628.5325970949712,777.7820996254692,737.1275002739018,782.296000907054,720.2915993277041,729.5922011994476,808.4829012536525,798.6294009575422,722.1501013869602,770.7160999033708,823.2737018246736,744.8548993436152,753.1787995888777,778.316900225703,678.058699703556,732.5710997218763,695.2416023322207,697.7042013623739,707.3053014817426,754.8818995559961,777.0443001921063,723.9504010805949,715.6735999462827,740.5803997351153,740.546200156791,735.9087007074777,714.3454013176329,676.2985988976255,709.8233982859928,706.53939890054,715.0581999287278,819.0832017971211,874.5730989100177,723.3532006330922,727.1273008615952,664.8241973125748,712.7932987693146],\"yaxis\":\"y\",\"type\":\"scatter\"}],                        {\"template\":{\"data\":{\"histogram2dcontour\":[{\"type\":\"histogram2dcontour\",\"colorbar\":{\"outlinewidth\":0,\"ticks\":\"\"},\"colorscale\":[[0.0,\"#0d0887\"],[0.1111111111111111,\"#46039f\"],[0.2222222222222222,\"#7201a8\"],[0.3333333333333333,\"#9c179e\"],[0.4444444444444444,\"#bd3786\"],[0.5555555555555556,\"#d8576b\"],[0.6666666666666666,\"#ed7953\"],[0.7777777777777778,\"#fb9f3a\"],[0.8888888888888888,\"#fdca26\"],[1.0,\"#f0f921\"]]}],\"choropleth\":[{\"type\":\"choropleth\",\"colorbar\":{\"outlinewidth\":0,\"ticks\":\"\"}}],\"histogram2d\":[{\"type\":\"histogram2d\",\"colorbar\":{\"outlinewidth\":0,\"ticks\":\"\"},\"colorscale\":[[0.0,\"#0d0887\"],[0.1111111111111111,\"#46039f\"],[0.2222222222222222,\"#7201a8\"],[0.3333333333333333,\"#9c179e\"],[0.4444444444444444,\"#bd3786\"],[0.5555555555555556,\"#d8576b\"],[0.6666666666666666,\"#ed7953\"],[0.7777777777777778,\"#fb9f3a\"],[0.8888888888888888,\"#fdca26\"],[1.0,\"#f0f921\"]]}],\"heatmap\":[{\"type\":\"heatmap\",\"colorbar\":{\"outlinewidth\":0,\"ticks\":\"\"},\"colorscale\":[[0.0,\"#0d0887\"],[0.1111111111111111,\"#46039f\"],[0.2222222222222222,\"#7201a8\"],[0.3333333333333333,\"#9c179e\"],[0.4444444444444444,\"#bd3786\"],[0.5555555555555556,\"#d8576b\"],[0.6666666666666666,\"#ed7953\"],[0.7777777777777778,\"#fb9f3a\"],[0.8888888888888888,\"#fdca26\"],[1.0,\"#f0f921\"]]}],\"heatmapgl\":[{\"type\":\"heatmapgl\",\"colorbar\":{\"outlinewidth\":0,\"ticks\":\"\"},\"colorscale\":[[0.0,\"#0d0887\"],[0.1111111111111111,\"#46039f\"],[0.2222222222222222,\"#7201a8\"],[0.3333333333333333,\"#9c179e\"],[0.4444444444444444,\"#bd3786\"],[0.5555555555555556,\"#d8576b\"],[0.6666666666666666,\"#ed7953\"],[0.7777777777777778,\"#fb9f3a\"],[0.8888888888888888,\"#fdca26\"],[1.0,\"#f0f921\"]]}],\"contourcarpet\":[{\"type\":\"contourcarpet\",\"colorbar\":{\"outlinewidth\":0,\"ticks\":\"\"}}],\"contour\":[{\"type\":\"contour\",\"colorbar\":{\"outlinewidth\":0,\"ticks\":\"\"},\"colorscale\":[[0.0,\"#0d0887\"],[0.1111111111111111,\"#46039f\"],[0.2222222222222222,\"#7201a8\"],[0.3333333333333333,\"#9c179e\"],[0.4444444444444444,\"#bd3786\"],[0.5555555555555556,\"#d8576b\"],[0.6666666666666666,\"#ed7953\"],[0.7777777777777778,\"#fb9f3a\"],[0.8888888888888888,\"#fdca26\"],[1.0,\"#f0f921\"]]}],\"surface\":[{\"type\":\"surface\",\"colorbar\":{\"outlinewidth\":0,\"ticks\":\"\"},\"colorscale\":[[0.0,\"#0d0887\"],[0.1111111111111111,\"#46039f\"],[0.2222222222222222,\"#7201a8\"],[0.3333333333333333,\"#9c179e\"],[0.4444444444444444,\"#bd3786\"],[0.5555555555555556,\"#d8576b\"],[0.6666666666666666,\"#ed7953\"],[0.7777777777777778,\"#fb9f3a\"],[0.8888888888888888,\"#fdca26\"],[1.0,\"#f0f921\"]]}],\"mesh3d\":[{\"type\":\"mesh3d\",\"colorbar\":{\"outlinewidth\":0,\"ticks\":\"\"}}],\"scatter\":[{\"fillpattern\":{\"fillmode\":\"overlay\",\"size\":10,\"solidity\":0.2},\"type\":\"scatter\"}],\"parcoords\":[{\"type\":\"parcoords\",\"line\":{\"colorbar\":{\"outlinewidth\":0,\"ticks\":\"\"}}}],\"scatterpolargl\":[{\"type\":\"scatterpolargl\",\"marker\":{\"colorbar\":{\"outlinewidth\":0,\"ticks\":\"\"}}}],\"bar\":[{\"error_x\":{\"color\":\"#2a3f5f\"},\"error_y\":{\"color\":\"#2a3f5f\"},\"marker\":{\"line\":{\"color\":\"white\",\"width\":0.5},\"pattern\":{\"fillmode\":\"overlay\",\"size\":10,\"solidity\":0.2}},\"type\":\"bar\"}],\"scattergeo\":[{\"type\":\"scattergeo\",\"marker\":{\"colorbar\":{\"outlinewidth\":0,\"ticks\":\"\"}}}],\"scatterpolar\":[{\"type\":\"scatterpolar\",\"marker\":{\"colorbar\":{\"outlinewidth\":0,\"ticks\":\"\"}}}],\"histogram\":[{\"marker\":{\"pattern\":{\"fillmode\":\"overlay\",\"size\":10,\"solidity\":0.2}},\"type\":\"histogram\"}],\"scattergl\":[{\"type\":\"scattergl\",\"marker\":{\"colorbar\":{\"outlinewidth\":0,\"ticks\":\"\"}}}],\"scatter3d\":[{\"type\":\"scatter3d\",\"line\":{\"colorbar\":{\"outlinewidth\":0,\"ticks\":\"\"}},\"marker\":{\"colorbar\":{\"outlinewidth\":0,\"ticks\":\"\"}}}],\"scattermapbox\":[{\"type\":\"scattermapbox\",\"marker\":{\"colorbar\":{\"outlinewidth\":0,\"ticks\":\"\"}}}],\"scatterternary\":[{\"type\":\"scatterternary\",\"marker\":{\"colorbar\":{\"outlinewidth\":0,\"ticks\":\"\"}}}],\"scattercarpet\":[{\"type\":\"scattercarpet\",\"marker\":{\"colorbar\":{\"outlinewidth\":0,\"ticks\":\"\"}}}],\"carpet\":[{\"aaxis\":{\"endlinecolor\":\"#2a3f5f\",\"gridcolor\":\"#C8D4E3\",\"linecolor\":\"#C8D4E3\",\"minorgridcolor\":\"#C8D4E3\",\"startlinecolor\":\"#2a3f5f\"},\"baxis\":{\"endlinecolor\":\"#2a3f5f\",\"gridcolor\":\"#C8D4E3\",\"linecolor\":\"#C8D4E3\",\"minorgridcolor\":\"#C8D4E3\",\"startlinecolor\":\"#2a3f5f\"},\"type\":\"carpet\"}],\"table\":[{\"cells\":{\"fill\":{\"color\":\"#EBF0F8\"},\"line\":{\"color\":\"white\"}},\"header\":{\"fill\":{\"color\":\"#C8D4E3\"},\"line\":{\"color\":\"white\"}},\"type\":\"table\"}],\"barpolar\":[{\"marker\":{\"line\":{\"color\":\"white\",\"width\":0.5},\"pattern\":{\"fillmode\":\"overlay\",\"size\":10,\"solidity\":0.2}},\"type\":\"barpolar\"}],\"pie\":[{\"automargin\":true,\"type\":\"pie\"}]},\"layout\":{\"autotypenumbers\":\"strict\",\"colorway\":[\"#636efa\",\"#EF553B\",\"#00cc96\",\"#ab63fa\",\"#FFA15A\",\"#19d3f3\",\"#FF6692\",\"#B6E880\",\"#FF97FF\",\"#FECB52\"],\"font\":{\"color\":\"#2a3f5f\"},\"hovermode\":\"closest\",\"hoverlabel\":{\"align\":\"left\"},\"paper_bgcolor\":\"white\",\"plot_bgcolor\":\"white\",\"polar\":{\"bgcolor\":\"white\",\"angularaxis\":{\"gridcolor\":\"#EBF0F8\",\"linecolor\":\"#EBF0F8\",\"ticks\":\"\"},\"radialaxis\":{\"gridcolor\":\"#EBF0F8\",\"linecolor\":\"#EBF0F8\",\"ticks\":\"\"}},\"ternary\":{\"bgcolor\":\"white\",\"aaxis\":{\"gridcolor\":\"#DFE8F3\",\"linecolor\":\"#A2B1C6\",\"ticks\":\"\"},\"baxis\":{\"gridcolor\":\"#DFE8F3\",\"linecolor\":\"#A2B1C6\",\"ticks\":\"\"},\"caxis\":{\"gridcolor\":\"#DFE8F3\",\"linecolor\":\"#A2B1C6\",\"ticks\":\"\"}},\"coloraxis\":{\"colorbar\":{\"outlinewidth\":0,\"ticks\":\"\"}},\"colorscale\":{\"sequential\":[[0.0,\"#0d0887\"],[0.1111111111111111,\"#46039f\"],[0.2222222222222222,\"#7201a8\"],[0.3333333333333333,\"#9c179e\"],[0.4444444444444444,\"#bd3786\"],[0.5555555555555556,\"#d8576b\"],[0.6666666666666666,\"#ed7953\"],[0.7777777777777778,\"#fb9f3a\"],[0.8888888888888888,\"#fdca26\"],[1.0,\"#f0f921\"]],\"sequentialminus\":[[0.0,\"#0d0887\"],[0.1111111111111111,\"#46039f\"],[0.2222222222222222,\"#7201a8\"],[0.3333333333333333,\"#9c179e\"],[0.4444444444444444,\"#bd3786\"],[0.5555555555555556,\"#d8576b\"],[0.6666666666666666,\"#ed7953\"],[0.7777777777777778,\"#fb9f3a\"],[0.8888888888888888,\"#fdca26\"],[1.0,\"#f0f921\"]],\"diverging\":[[0,\"#8e0152\"],[0.1,\"#c51b7d\"],[0.2,\"#de77ae\"],[0.3,\"#f1b6da\"],[0.4,\"#fde0ef\"],[0.5,\"#f7f7f7\"],[0.6,\"#e6f5d0\"],[0.7,\"#b8e186\"],[0.8,\"#7fbc41\"],[0.9,\"#4d9221\"],[1,\"#276419\"]]},\"xaxis\":{\"gridcolor\":\"#EBF0F8\",\"linecolor\":\"#EBF0F8\",\"ticks\":\"\",\"title\":{\"standoff\":15},\"zerolinecolor\":\"#EBF0F8\",\"automargin\":true,\"zerolinewidth\":2},\"yaxis\":{\"gridcolor\":\"#EBF0F8\",\"linecolor\":\"#EBF0F8\",\"ticks\":\"\",\"title\":{\"standoff\":15},\"zerolinecolor\":\"#EBF0F8\",\"automargin\":true,\"zerolinewidth\":2},\"scene\":{\"xaxis\":{\"backgroundcolor\":\"white\",\"gridcolor\":\"#DFE8F3\",\"linecolor\":\"#EBF0F8\",\"showbackground\":true,\"ticks\":\"\",\"zerolinecolor\":\"#EBF0F8\",\"gridwidth\":2},\"yaxis\":{\"backgroundcolor\":\"white\",\"gridcolor\":\"#DFE8F3\",\"linecolor\":\"#EBF0F8\",\"showbackground\":true,\"ticks\":\"\",\"zerolinecolor\":\"#EBF0F8\",\"gridwidth\":2},\"zaxis\":{\"backgroundcolor\":\"white\",\"gridcolor\":\"#DFE8F3\",\"linecolor\":\"#EBF0F8\",\"showbackground\":true,\"ticks\":\"\",\"zerolinecolor\":\"#EBF0F8\",\"gridwidth\":2}},\"shapedefaults\":{\"line\":{\"color\":\"#2a3f5f\"}},\"annotationdefaults\":{\"arrowcolor\":\"#2a3f5f\",\"arrowhead\":0,\"arrowwidth\":1},\"geo\":{\"bgcolor\":\"white\",\"landcolor\":\"white\",\"subunitcolor\":\"#C8D4E3\",\"showland\":true,\"showlakes\":true,\"lakecolor\":\"white\"},\"title\":{\"x\":0.05},\"mapbox\":{\"style\":\"light\"}}},\"xaxis\":{\"anchor\":\"y\",\"domain\":[0.0,1.0],\"title\":{\"text\":\"x\"}},\"yaxis\":{\"anchor\":\"x\",\"domain\":[0.0,1.0],\"title\":{\"text\":\"y\"}},\"legend\":{\"tracegroupgap\":0},\"margin\":{\"t\":60}},                        {\"responsive\": true}                    ).then(function(){\n",
       "                            \n",
       "var gd = document.getElementById('5f2efb66-1e99-4f23-890c-edf96f862a5d');\n",
       "var x = new MutationObserver(function (mutations, observer) {{\n",
       "        var display = window.getComputedStyle(gd).display;\n",
       "        if (!display || display === 'none') {{\n",
       "            console.log([gd, 'removed!']);\n",
       "            Plotly.purge(gd);\n",
       "            observer.disconnect();\n",
       "        }}\n",
       "}});\n",
       "\n",
       "// Listen for the removal of the full notebook cells\n",
       "var notebookContainer = gd.closest('#notebook-container');\n",
       "if (notebookContainer) {{\n",
       "    x.observe(notebookContainer, {childList: true});\n",
       "}}\n",
       "\n",
       "// Listen for the clearing of the current output cell\n",
       "var outputEl = gd.closest('.output');\n",
       "if (outputEl) {{\n",
       "    x.observe(outputEl, {childList: true});\n",
       "}}\n",
       "\n",
       "                        })                };                });            </script>        </div>"
      ]
     },
     "metadata": {},
     "output_type": "display_data"
    }
   ],
   "source": [
    "# reverse_cs(out.y_true, scale_dict['y1'])\n",
    "px.scatter(out, x = 'y_true', y = 'y_pred')"
   ]
  },
  {
   "cell_type": "code",
   "execution_count": null,
   "id": "368972b3",
   "metadata": {},
   "outputs": [
    {
     "data": {
      "application/vnd.plotly.v1+json": {
       "config": {
        "plotlyServerURL": "https://plot.ly"
       },
       "data": [
        {
         "alignmentgroup": "True",
         "bingroup": "x",
         "hovertemplate": "x=%{x}<br>count=%{y}<extra></extra>",
         "legendgroup": "",
         "marker": {
          "color": "#636efa",
          "pattern": {
           "shape": ""
          }
         },
         "name": "",
         "nbinsx": 50,
         "offsetgroup": "",
         "orientation": "v",
         "showlegend": false,
         "type": "histogram",
         "x": [
          0.8553885668516159,
          0.03160466253757477,
          -0.4025851637125015,
          -2.343029499053955,
          0.8650671243667603,
          -0.3308017700910568,
          0.7842997014522552,
          1.5605198740959167,
          -0.5058877542614937,
          2.3650299310684204,
          0.9629994630813599,
          1.8057635426521301,
          0.5540702939033508,
          1.5687828063964844,
          -1.2954732477664948,
          0.626695454120636,
          0.8117594122886658,
          0.7553857117891312,
          1.903558298945427,
          1.1130686402320862,
          0.9348808526992798,
          0.2458345890045166,
          0.8383066803216934,
          0.6748166978359222,
          -0.41965651139616966,
          -0.04012148082256317,
          0.397713765501976,
          -0.45046551525592804,
          1.0427708625793457,
          1.5639294385910034,
          0.03427600860595703,
          3.1952013969421387,
          2.6124160438776016,
          -0.15364909172058105,
          1.28213769197464,
          0.24974244832992554,
          0.021074533462524414,
          0.9304986484348774,
          0.7333695888519287,
          -0.6576443463563919,
          0.8918271064758301,
          -0.3221239447593689,
          -0.2939467430114746,
          -1.5590661764144897,
          0.7481968998908997,
          1.338419035077095,
          1.8382859230041504,
          0.15029269456863403,
          -0.07148140668869019,
          -1.0139377117156982,
          1.7806357741355896,
          -1.065471202135086,
          2.283351719379425,
          0.3664458394050598,
          -1.0992398858070374,
          -0.22898054122924805,
          -0.9679819047451019,
          2.4043954610824585,
          -0.34865322709083557,
          0.6976423412561417,
          -0.12117660045623779,
          0.16527976095676422,
          0.8359514623880386,
          0.593267560005188,
          2.0720272064208984,
          0.5771474689245224,
          0.23078006505966187,
          0.39769917726516724,
          0.23357447981834412,
          0.7209511995315552,
          0.5367363095283508,
          1.3192541003227234,
          1.003245770931244,
          0.32498760521411896,
          -0.05305075645446777,
          1.2793312221765518,
          -1.2375187277793884,
          -0.592310905456543,
          0.31765809655189514,
          2.191257655620575,
          -0.22757673263549805,
          1.4090821146965027,
          2.4545337557792664,
          0.92933589220047,
          1.781229019165039,
          1.4558711051940918,
          0.7819930166006088,
          0.3101297616958618,
          0.540768027305603,
          2.3209670782089233,
          0.18943040072917938,
          1.0459360778331757,
          -1.3036288022994995,
          -0.0007669925689697266,
          1.721865102648735,
          -0.5348930954933167,
          1.1026577204465866,
          0.5275295972824097,
          0.7252622097730637,
          1.9663239121437073,
          0.538724347949028,
          1.7383821215480566,
          0.3043682128190994,
          1.2747461795806885,
          -0.2443155199289322,
          -0.013346780091524124,
          1.8105101734399796,
          -0.12711931765079498,
          -1.8509631156921387,
          2.3525583744049072,
          0.7239300161600113,
          0.09657657146453857,
          -0.29798609018325806,
          2.5287486910820007,
          -1.2067155241966248,
          -0.8134336173534393,
          -0.029630407691001892,
          0.8312929570674896,
          0.15344005823135376,
          1.98050057888031,
          1.8069469928741455,
          0.8813971132040024,
          -0.5358442664146423,
          -0.7931606508791447,
          -1.3624118566513062,
          -0.40020422637462616,
          0.009753450751304626,
          0.8534186631441116,
          2.469173014163971,
          2.104721188545227,
          -0.6655855178833008,
          1.1584006547927856,
          0.23057544231414795,
          0.12535718083381653,
          0.2020658254623413,
          2.3536075353622437,
          -0.3979748785495758,
          0.49921610951423645,
          1.1767475605010986,
          0.04404473304748535,
          0.261333167552948,
          1.3433716297149658,
          1.579351007938385,
          0.1259058564901352,
          -0.19551187753677368,
          0.18121597170829773,
          1.6022627353668213,
          0.5766608119010925,
          -0.5730892866849899,
          -0.04810549318790436,
          0.6825316846370697,
          0.28741662204265594,
          -1.0585805475711823,
          -1.0704678297042847,
          1.210755541920662,
          0.0045061372220516205,
          0.3823152780532837,
          2.369595840573311,
          0.1306389421224594,
          0.6856136918067932,
          -1.1322838962078094,
          0.06778520345687866,
          1.130774199962616,
          -0.9170217365026474,
          -0.2467179298400879,
          0.019364655017852783,
          0.5830757021903992,
          -1.7339810729026794,
          0.7135615348815918,
          0.400811031460762,
          -0.373090460896492,
          2.4686970710754395,
          -0.612980842590332,
          1.2021942287683487,
          0.4844244718551636,
          1.159365952014923,
          0.3658013641834259,
          -0.8706061244010925,
          0.8007823079824448,
          0.42483657598495483,
          0.6994873583316803,
          0.782987117767334,
          -0.20635244250297546,
          1.2646414637565613,
          2.4679383039474487,
          0.10374128818511963,
          -0.21674269437789917,
          0.6716520488262177,
          -1.4509408473968506,
          -1.8748254030942917,
          1.1823794841766357,
          0.38130879402160645,
          0.7327459454536438,
          1.6220138669013977
         ],
         "xaxis": "x",
         "yaxis": "y"
        }
       ],
       "layout": {
        "barmode": "relative",
        "legend": {
         "tracegroupgap": 0
        },
        "margin": {
         "t": 60
        },
        "template": {
         "data": {
          "bar": [
           {
            "error_x": {
             "color": "#2a3f5f"
            },
            "error_y": {
             "color": "#2a3f5f"
            },
            "marker": {
             "line": {
              "color": "white",
              "width": 0.5
             },
             "pattern": {
              "fillmode": "overlay",
              "size": 10,
              "solidity": 0.2
             }
            },
            "type": "bar"
           }
          ],
          "barpolar": [
           {
            "marker": {
             "line": {
              "color": "white",
              "width": 0.5
             },
             "pattern": {
              "fillmode": "overlay",
              "size": 10,
              "solidity": 0.2
             }
            },
            "type": "barpolar"
           }
          ],
          "carpet": [
           {
            "aaxis": {
             "endlinecolor": "#2a3f5f",
             "gridcolor": "#C8D4E3",
             "linecolor": "#C8D4E3",
             "minorgridcolor": "#C8D4E3",
             "startlinecolor": "#2a3f5f"
            },
            "baxis": {
             "endlinecolor": "#2a3f5f",
             "gridcolor": "#C8D4E3",
             "linecolor": "#C8D4E3",
             "minorgridcolor": "#C8D4E3",
             "startlinecolor": "#2a3f5f"
            },
            "type": "carpet"
           }
          ],
          "choropleth": [
           {
            "colorbar": {
             "outlinewidth": 0,
             "ticks": ""
            },
            "type": "choropleth"
           }
          ],
          "contour": [
           {
            "colorbar": {
             "outlinewidth": 0,
             "ticks": ""
            },
            "colorscale": [
             [
              0,
              "#0d0887"
             ],
             [
              0.1111111111111111,
              "#46039f"
             ],
             [
              0.2222222222222222,
              "#7201a8"
             ],
             [
              0.3333333333333333,
              "#9c179e"
             ],
             [
              0.4444444444444444,
              "#bd3786"
             ],
             [
              0.5555555555555556,
              "#d8576b"
             ],
             [
              0.6666666666666666,
              "#ed7953"
             ],
             [
              0.7777777777777778,
              "#fb9f3a"
             ],
             [
              0.8888888888888888,
              "#fdca26"
             ],
             [
              1,
              "#f0f921"
             ]
            ],
            "type": "contour"
           }
          ],
          "contourcarpet": [
           {
            "colorbar": {
             "outlinewidth": 0,
             "ticks": ""
            },
            "type": "contourcarpet"
           }
          ],
          "heatmap": [
           {
            "colorbar": {
             "outlinewidth": 0,
             "ticks": ""
            },
            "colorscale": [
             [
              0,
              "#0d0887"
             ],
             [
              0.1111111111111111,
              "#46039f"
             ],
             [
              0.2222222222222222,
              "#7201a8"
             ],
             [
              0.3333333333333333,
              "#9c179e"
             ],
             [
              0.4444444444444444,
              "#bd3786"
             ],
             [
              0.5555555555555556,
              "#d8576b"
             ],
             [
              0.6666666666666666,
              "#ed7953"
             ],
             [
              0.7777777777777778,
              "#fb9f3a"
             ],
             [
              0.8888888888888888,
              "#fdca26"
             ],
             [
              1,
              "#f0f921"
             ]
            ],
            "type": "heatmap"
           }
          ],
          "heatmapgl": [
           {
            "colorbar": {
             "outlinewidth": 0,
             "ticks": ""
            },
            "colorscale": [
             [
              0,
              "#0d0887"
             ],
             [
              0.1111111111111111,
              "#46039f"
             ],
             [
              0.2222222222222222,
              "#7201a8"
             ],
             [
              0.3333333333333333,
              "#9c179e"
             ],
             [
              0.4444444444444444,
              "#bd3786"
             ],
             [
              0.5555555555555556,
              "#d8576b"
             ],
             [
              0.6666666666666666,
              "#ed7953"
             ],
             [
              0.7777777777777778,
              "#fb9f3a"
             ],
             [
              0.8888888888888888,
              "#fdca26"
             ],
             [
              1,
              "#f0f921"
             ]
            ],
            "type": "heatmapgl"
           }
          ],
          "histogram": [
           {
            "marker": {
             "pattern": {
              "fillmode": "overlay",
              "size": 10,
              "solidity": 0.2
             }
            },
            "type": "histogram"
           }
          ],
          "histogram2d": [
           {
            "colorbar": {
             "outlinewidth": 0,
             "ticks": ""
            },
            "colorscale": [
             [
              0,
              "#0d0887"
             ],
             [
              0.1111111111111111,
              "#46039f"
             ],
             [
              0.2222222222222222,
              "#7201a8"
             ],
             [
              0.3333333333333333,
              "#9c179e"
             ],
             [
              0.4444444444444444,
              "#bd3786"
             ],
             [
              0.5555555555555556,
              "#d8576b"
             ],
             [
              0.6666666666666666,
              "#ed7953"
             ],
             [
              0.7777777777777778,
              "#fb9f3a"
             ],
             [
              0.8888888888888888,
              "#fdca26"
             ],
             [
              1,
              "#f0f921"
             ]
            ],
            "type": "histogram2d"
           }
          ],
          "histogram2dcontour": [
           {
            "colorbar": {
             "outlinewidth": 0,
             "ticks": ""
            },
            "colorscale": [
             [
              0,
              "#0d0887"
             ],
             [
              0.1111111111111111,
              "#46039f"
             ],
             [
              0.2222222222222222,
              "#7201a8"
             ],
             [
              0.3333333333333333,
              "#9c179e"
             ],
             [
              0.4444444444444444,
              "#bd3786"
             ],
             [
              0.5555555555555556,
              "#d8576b"
             ],
             [
              0.6666666666666666,
              "#ed7953"
             ],
             [
              0.7777777777777778,
              "#fb9f3a"
             ],
             [
              0.8888888888888888,
              "#fdca26"
             ],
             [
              1,
              "#f0f921"
             ]
            ],
            "type": "histogram2dcontour"
           }
          ],
          "mesh3d": [
           {
            "colorbar": {
             "outlinewidth": 0,
             "ticks": ""
            },
            "type": "mesh3d"
           }
          ],
          "parcoords": [
           {
            "line": {
             "colorbar": {
              "outlinewidth": 0,
              "ticks": ""
             }
            },
            "type": "parcoords"
           }
          ],
          "pie": [
           {
            "automargin": true,
            "type": "pie"
           }
          ],
          "scatter": [
           {
            "fillpattern": {
             "fillmode": "overlay",
             "size": 10,
             "solidity": 0.2
            },
            "type": "scatter"
           }
          ],
          "scatter3d": [
           {
            "line": {
             "colorbar": {
              "outlinewidth": 0,
              "ticks": ""
             }
            },
            "marker": {
             "colorbar": {
              "outlinewidth": 0,
              "ticks": ""
             }
            },
            "type": "scatter3d"
           }
          ],
          "scattercarpet": [
           {
            "marker": {
             "colorbar": {
              "outlinewidth": 0,
              "ticks": ""
             }
            },
            "type": "scattercarpet"
           }
          ],
          "scattergeo": [
           {
            "marker": {
             "colorbar": {
              "outlinewidth": 0,
              "ticks": ""
             }
            },
            "type": "scattergeo"
           }
          ],
          "scattergl": [
           {
            "marker": {
             "colorbar": {
              "outlinewidth": 0,
              "ticks": ""
             }
            },
            "type": "scattergl"
           }
          ],
          "scattermapbox": [
           {
            "marker": {
             "colorbar": {
              "outlinewidth": 0,
              "ticks": ""
             }
            },
            "type": "scattermapbox"
           }
          ],
          "scatterpolar": [
           {
            "marker": {
             "colorbar": {
              "outlinewidth": 0,
              "ticks": ""
             }
            },
            "type": "scatterpolar"
           }
          ],
          "scatterpolargl": [
           {
            "marker": {
             "colorbar": {
              "outlinewidth": 0,
              "ticks": ""
             }
            },
            "type": "scatterpolargl"
           }
          ],
          "scatterternary": [
           {
            "marker": {
             "colorbar": {
              "outlinewidth": 0,
              "ticks": ""
             }
            },
            "type": "scatterternary"
           }
          ],
          "surface": [
           {
            "colorbar": {
             "outlinewidth": 0,
             "ticks": ""
            },
            "colorscale": [
             [
              0,
              "#0d0887"
             ],
             [
              0.1111111111111111,
              "#46039f"
             ],
             [
              0.2222222222222222,
              "#7201a8"
             ],
             [
              0.3333333333333333,
              "#9c179e"
             ],
             [
              0.4444444444444444,
              "#bd3786"
             ],
             [
              0.5555555555555556,
              "#d8576b"
             ],
             [
              0.6666666666666666,
              "#ed7953"
             ],
             [
              0.7777777777777778,
              "#fb9f3a"
             ],
             [
              0.8888888888888888,
              "#fdca26"
             ],
             [
              1,
              "#f0f921"
             ]
            ],
            "type": "surface"
           }
          ],
          "table": [
           {
            "cells": {
             "fill": {
              "color": "#EBF0F8"
             },
             "line": {
              "color": "white"
             }
            },
            "header": {
             "fill": {
              "color": "#C8D4E3"
             },
             "line": {
              "color": "white"
             }
            },
            "type": "table"
           }
          ]
         },
         "layout": {
          "annotationdefaults": {
           "arrowcolor": "#2a3f5f",
           "arrowhead": 0,
           "arrowwidth": 1
          },
          "autotypenumbers": "strict",
          "coloraxis": {
           "colorbar": {
            "outlinewidth": 0,
            "ticks": ""
           }
          },
          "colorscale": {
           "diverging": [
            [
             0,
             "#8e0152"
            ],
            [
             0.1,
             "#c51b7d"
            ],
            [
             0.2,
             "#de77ae"
            ],
            [
             0.3,
             "#f1b6da"
            ],
            [
             0.4,
             "#fde0ef"
            ],
            [
             0.5,
             "#f7f7f7"
            ],
            [
             0.6,
             "#e6f5d0"
            ],
            [
             0.7,
             "#b8e186"
            ],
            [
             0.8,
             "#7fbc41"
            ],
            [
             0.9,
             "#4d9221"
            ],
            [
             1,
             "#276419"
            ]
           ],
           "sequential": [
            [
             0,
             "#0d0887"
            ],
            [
             0.1111111111111111,
             "#46039f"
            ],
            [
             0.2222222222222222,
             "#7201a8"
            ],
            [
             0.3333333333333333,
             "#9c179e"
            ],
            [
             0.4444444444444444,
             "#bd3786"
            ],
            [
             0.5555555555555556,
             "#d8576b"
            ],
            [
             0.6666666666666666,
             "#ed7953"
            ],
            [
             0.7777777777777778,
             "#fb9f3a"
            ],
            [
             0.8888888888888888,
             "#fdca26"
            ],
            [
             1,
             "#f0f921"
            ]
           ],
           "sequentialminus": [
            [
             0,
             "#0d0887"
            ],
            [
             0.1111111111111111,
             "#46039f"
            ],
            [
             0.2222222222222222,
             "#7201a8"
            ],
            [
             0.3333333333333333,
             "#9c179e"
            ],
            [
             0.4444444444444444,
             "#bd3786"
            ],
            [
             0.5555555555555556,
             "#d8576b"
            ],
            [
             0.6666666666666666,
             "#ed7953"
            ],
            [
             0.7777777777777778,
             "#fb9f3a"
            ],
            [
             0.8888888888888888,
             "#fdca26"
            ],
            [
             1,
             "#f0f921"
            ]
           ]
          },
          "colorway": [
           "#636efa",
           "#EF553B",
           "#00cc96",
           "#ab63fa",
           "#FFA15A",
           "#19d3f3",
           "#FF6692",
           "#B6E880",
           "#FF97FF",
           "#FECB52"
          ],
          "font": {
           "color": "#2a3f5f"
          },
          "geo": {
           "bgcolor": "white",
           "lakecolor": "white",
           "landcolor": "white",
           "showlakes": true,
           "showland": true,
           "subunitcolor": "#C8D4E3"
          },
          "hoverlabel": {
           "align": "left"
          },
          "hovermode": "closest",
          "mapbox": {
           "style": "light"
          },
          "paper_bgcolor": "white",
          "plot_bgcolor": "white",
          "polar": {
           "angularaxis": {
            "gridcolor": "#EBF0F8",
            "linecolor": "#EBF0F8",
            "ticks": ""
           },
           "bgcolor": "white",
           "radialaxis": {
            "gridcolor": "#EBF0F8",
            "linecolor": "#EBF0F8",
            "ticks": ""
           }
          },
          "scene": {
           "xaxis": {
            "backgroundcolor": "white",
            "gridcolor": "#DFE8F3",
            "gridwidth": 2,
            "linecolor": "#EBF0F8",
            "showbackground": true,
            "ticks": "",
            "zerolinecolor": "#EBF0F8"
           },
           "yaxis": {
            "backgroundcolor": "white",
            "gridcolor": "#DFE8F3",
            "gridwidth": 2,
            "linecolor": "#EBF0F8",
            "showbackground": true,
            "ticks": "",
            "zerolinecolor": "#EBF0F8"
           },
           "zaxis": {
            "backgroundcolor": "white",
            "gridcolor": "#DFE8F3",
            "gridwidth": 2,
            "linecolor": "#EBF0F8",
            "showbackground": true,
            "ticks": "",
            "zerolinecolor": "#EBF0F8"
           }
          },
          "shapedefaults": {
           "line": {
            "color": "#2a3f5f"
           }
          },
          "ternary": {
           "aaxis": {
            "gridcolor": "#DFE8F3",
            "linecolor": "#A2B1C6",
            "ticks": ""
           },
           "baxis": {
            "gridcolor": "#DFE8F3",
            "linecolor": "#A2B1C6",
            "ticks": ""
           },
           "bgcolor": "white",
           "caxis": {
            "gridcolor": "#DFE8F3",
            "linecolor": "#A2B1C6",
            "ticks": ""
           }
          },
          "title": {
           "x": 0.05
          },
          "xaxis": {
           "automargin": true,
           "gridcolor": "#EBF0F8",
           "linecolor": "#EBF0F8",
           "ticks": "",
           "title": {
            "standoff": 15
           },
           "zerolinecolor": "#EBF0F8",
           "zerolinewidth": 2
          },
          "yaxis": {
           "automargin": true,
           "gridcolor": "#EBF0F8",
           "linecolor": "#EBF0F8",
           "ticks": "",
           "title": {
            "standoff": 15
           },
           "zerolinecolor": "#EBF0F8",
           "zerolinewidth": 2
          }
         }
        },
        "xaxis": {
         "anchor": "y",
         "domain": [
          0,
          1
         ],
         "title": {
          "text": "x"
         }
        },
        "yaxis": {
         "anchor": "x",
         "domain": [
          0,
          1
         ],
         "title": {
          "text": "count"
         }
        }
       }
      },
      "text/html": [
       "<div>                            <div id=\"a7045b74-bf0e-48f4-842e-8a6a39e0e804\" class=\"plotly-graph-div\" style=\"height:525px; width:100%;\"></div>            <script type=\"text/javascript\">                require([\"plotly\"], function(Plotly) {                    window.PLOTLYENV=window.PLOTLYENV || {};                                    if (document.getElementById(\"a7045b74-bf0e-48f4-842e-8a6a39e0e804\")) {                    Plotly.newPlot(                        \"a7045b74-bf0e-48f4-842e-8a6a39e0e804\",                        [{\"alignmentgroup\":\"True\",\"bingroup\":\"x\",\"hovertemplate\":\"x=%{x}<br>count=%{y}<extra></extra>\",\"legendgroup\":\"\",\"marker\":{\"color\":\"#636efa\",\"pattern\":{\"shape\":\"\"}},\"name\":\"\",\"nbinsx\":50,\"offsetgroup\":\"\",\"orientation\":\"v\",\"showlegend\":false,\"x\":[0.8553885668516159,0.03160466253757477,-0.4025851637125015,-2.343029499053955,0.8650671243667603,-0.3308017700910568,0.7842997014522552,1.5605198740959167,-0.5058877542614937,2.3650299310684204,0.9629994630813599,1.8057635426521301,0.5540702939033508,1.5687828063964844,-1.2954732477664948,0.626695454120636,0.8117594122886658,0.7553857117891312,1.903558298945427,1.1130686402320862,0.9348808526992798,0.2458345890045166,0.8383066803216934,0.6748166978359222,-0.41965651139616966,-0.04012148082256317,0.397713765501976,-0.45046551525592804,1.0427708625793457,1.5639294385910034,0.03427600860595703,3.1952013969421387,2.6124160438776016,-0.15364909172058105,1.28213769197464,0.24974244832992554,0.021074533462524414,0.9304986484348774,0.7333695888519287,-0.6576443463563919,0.8918271064758301,-0.3221239447593689,-0.2939467430114746,-1.5590661764144897,0.7481968998908997,1.338419035077095,1.8382859230041504,0.15029269456863403,-0.07148140668869019,-1.0139377117156982,1.7806357741355896,-1.065471202135086,2.283351719379425,0.3664458394050598,-1.0992398858070374,-0.22898054122924805,-0.9679819047451019,2.4043954610824585,-0.34865322709083557,0.6976423412561417,-0.12117660045623779,0.16527976095676422,0.8359514623880386,0.593267560005188,2.0720272064208984,0.5771474689245224,0.23078006505966187,0.39769917726516724,0.23357447981834412,0.7209511995315552,0.5367363095283508,1.3192541003227234,1.003245770931244,0.32498760521411896,-0.05305075645446777,1.2793312221765518,-1.2375187277793884,-0.592310905456543,0.31765809655189514,2.191257655620575,-0.22757673263549805,1.4090821146965027,2.4545337557792664,0.92933589220047,1.781229019165039,1.4558711051940918,0.7819930166006088,0.3101297616958618,0.540768027305603,2.3209670782089233,0.18943040072917938,1.0459360778331757,-1.3036288022994995,-0.0007669925689697266,1.721865102648735,-0.5348930954933167,1.1026577204465866,0.5275295972824097,0.7252622097730637,1.9663239121437073,0.538724347949028,1.7383821215480566,0.3043682128190994,1.2747461795806885,-0.2443155199289322,-0.013346780091524124,1.8105101734399796,-0.12711931765079498,-1.8509631156921387,2.3525583744049072,0.7239300161600113,0.09657657146453857,-0.29798609018325806,2.5287486910820007,-1.2067155241966248,-0.8134336173534393,-0.029630407691001892,0.8312929570674896,0.15344005823135376,1.98050057888031,1.8069469928741455,0.8813971132040024,-0.5358442664146423,-0.7931606508791447,-1.3624118566513062,-0.40020422637462616,0.009753450751304626,0.8534186631441116,2.469173014163971,2.104721188545227,-0.6655855178833008,1.1584006547927856,0.23057544231414795,0.12535718083381653,0.2020658254623413,2.3536075353622437,-0.3979748785495758,0.49921610951423645,1.1767475605010986,0.04404473304748535,0.261333167552948,1.3433716297149658,1.579351007938385,0.1259058564901352,-0.19551187753677368,0.18121597170829773,1.6022627353668213,0.5766608119010925,-0.5730892866849899,-0.04810549318790436,0.6825316846370697,0.28741662204265594,-1.0585805475711823,-1.0704678297042847,1.210755541920662,0.0045061372220516205,0.3823152780532837,2.369595840573311,0.1306389421224594,0.6856136918067932,-1.1322838962078094,0.06778520345687866,1.130774199962616,-0.9170217365026474,-0.2467179298400879,0.019364655017852783,0.5830757021903992,-1.7339810729026794,0.7135615348815918,0.400811031460762,-0.373090460896492,2.4686970710754395,-0.612980842590332,1.2021942287683487,0.4844244718551636,1.159365952014923,0.3658013641834259,-0.8706061244010925,0.8007823079824448,0.42483657598495483,0.6994873583316803,0.782987117767334,-0.20635244250297546,1.2646414637565613,2.4679383039474487,0.10374128818511963,-0.21674269437789917,0.6716520488262177,-1.4509408473968506,-1.8748254030942917,1.1823794841766357,0.38130879402160645,0.7327459454536438,1.6220138669013977],\"xaxis\":\"x\",\"yaxis\":\"y\",\"type\":\"histogram\"}],                        {\"template\":{\"data\":{\"histogram2dcontour\":[{\"type\":\"histogram2dcontour\",\"colorbar\":{\"outlinewidth\":0,\"ticks\":\"\"},\"colorscale\":[[0.0,\"#0d0887\"],[0.1111111111111111,\"#46039f\"],[0.2222222222222222,\"#7201a8\"],[0.3333333333333333,\"#9c179e\"],[0.4444444444444444,\"#bd3786\"],[0.5555555555555556,\"#d8576b\"],[0.6666666666666666,\"#ed7953\"],[0.7777777777777778,\"#fb9f3a\"],[0.8888888888888888,\"#fdca26\"],[1.0,\"#f0f921\"]]}],\"choropleth\":[{\"type\":\"choropleth\",\"colorbar\":{\"outlinewidth\":0,\"ticks\":\"\"}}],\"histogram2d\":[{\"type\":\"histogram2d\",\"colorbar\":{\"outlinewidth\":0,\"ticks\":\"\"},\"colorscale\":[[0.0,\"#0d0887\"],[0.1111111111111111,\"#46039f\"],[0.2222222222222222,\"#7201a8\"],[0.3333333333333333,\"#9c179e\"],[0.4444444444444444,\"#bd3786\"],[0.5555555555555556,\"#d8576b\"],[0.6666666666666666,\"#ed7953\"],[0.7777777777777778,\"#fb9f3a\"],[0.8888888888888888,\"#fdca26\"],[1.0,\"#f0f921\"]]}],\"heatmap\":[{\"type\":\"heatmap\",\"colorbar\":{\"outlinewidth\":0,\"ticks\":\"\"},\"colorscale\":[[0.0,\"#0d0887\"],[0.1111111111111111,\"#46039f\"],[0.2222222222222222,\"#7201a8\"],[0.3333333333333333,\"#9c179e\"],[0.4444444444444444,\"#bd3786\"],[0.5555555555555556,\"#d8576b\"],[0.6666666666666666,\"#ed7953\"],[0.7777777777777778,\"#fb9f3a\"],[0.8888888888888888,\"#fdca26\"],[1.0,\"#f0f921\"]]}],\"heatmapgl\":[{\"type\":\"heatmapgl\",\"colorbar\":{\"outlinewidth\":0,\"ticks\":\"\"},\"colorscale\":[[0.0,\"#0d0887\"],[0.1111111111111111,\"#46039f\"],[0.2222222222222222,\"#7201a8\"],[0.3333333333333333,\"#9c179e\"],[0.4444444444444444,\"#bd3786\"],[0.5555555555555556,\"#d8576b\"],[0.6666666666666666,\"#ed7953\"],[0.7777777777777778,\"#fb9f3a\"],[0.8888888888888888,\"#fdca26\"],[1.0,\"#f0f921\"]]}],\"contourcarpet\":[{\"type\":\"contourcarpet\",\"colorbar\":{\"outlinewidth\":0,\"ticks\":\"\"}}],\"contour\":[{\"type\":\"contour\",\"colorbar\":{\"outlinewidth\":0,\"ticks\":\"\"},\"colorscale\":[[0.0,\"#0d0887\"],[0.1111111111111111,\"#46039f\"],[0.2222222222222222,\"#7201a8\"],[0.3333333333333333,\"#9c179e\"],[0.4444444444444444,\"#bd3786\"],[0.5555555555555556,\"#d8576b\"],[0.6666666666666666,\"#ed7953\"],[0.7777777777777778,\"#fb9f3a\"],[0.8888888888888888,\"#fdca26\"],[1.0,\"#f0f921\"]]}],\"surface\":[{\"type\":\"surface\",\"colorbar\":{\"outlinewidth\":0,\"ticks\":\"\"},\"colorscale\":[[0.0,\"#0d0887\"],[0.1111111111111111,\"#46039f\"],[0.2222222222222222,\"#7201a8\"],[0.3333333333333333,\"#9c179e\"],[0.4444444444444444,\"#bd3786\"],[0.5555555555555556,\"#d8576b\"],[0.6666666666666666,\"#ed7953\"],[0.7777777777777778,\"#fb9f3a\"],[0.8888888888888888,\"#fdca26\"],[1.0,\"#f0f921\"]]}],\"mesh3d\":[{\"type\":\"mesh3d\",\"colorbar\":{\"outlinewidth\":0,\"ticks\":\"\"}}],\"scatter\":[{\"fillpattern\":{\"fillmode\":\"overlay\",\"size\":10,\"solidity\":0.2},\"type\":\"scatter\"}],\"parcoords\":[{\"type\":\"parcoords\",\"line\":{\"colorbar\":{\"outlinewidth\":0,\"ticks\":\"\"}}}],\"scatterpolargl\":[{\"type\":\"scatterpolargl\",\"marker\":{\"colorbar\":{\"outlinewidth\":0,\"ticks\":\"\"}}}],\"bar\":[{\"error_x\":{\"color\":\"#2a3f5f\"},\"error_y\":{\"color\":\"#2a3f5f\"},\"marker\":{\"line\":{\"color\":\"white\",\"width\":0.5},\"pattern\":{\"fillmode\":\"overlay\",\"size\":10,\"solidity\":0.2}},\"type\":\"bar\"}],\"scattergeo\":[{\"type\":\"scattergeo\",\"marker\":{\"colorbar\":{\"outlinewidth\":0,\"ticks\":\"\"}}}],\"scatterpolar\":[{\"type\":\"scatterpolar\",\"marker\":{\"colorbar\":{\"outlinewidth\":0,\"ticks\":\"\"}}}],\"histogram\":[{\"marker\":{\"pattern\":{\"fillmode\":\"overlay\",\"size\":10,\"solidity\":0.2}},\"type\":\"histogram\"}],\"scattergl\":[{\"type\":\"scattergl\",\"marker\":{\"colorbar\":{\"outlinewidth\":0,\"ticks\":\"\"}}}],\"scatter3d\":[{\"type\":\"scatter3d\",\"line\":{\"colorbar\":{\"outlinewidth\":0,\"ticks\":\"\"}},\"marker\":{\"colorbar\":{\"outlinewidth\":0,\"ticks\":\"\"}}}],\"scattermapbox\":[{\"type\":\"scattermapbox\",\"marker\":{\"colorbar\":{\"outlinewidth\":0,\"ticks\":\"\"}}}],\"scatterternary\":[{\"type\":\"scatterternary\",\"marker\":{\"colorbar\":{\"outlinewidth\":0,\"ticks\":\"\"}}}],\"scattercarpet\":[{\"type\":\"scattercarpet\",\"marker\":{\"colorbar\":{\"outlinewidth\":0,\"ticks\":\"\"}}}],\"carpet\":[{\"aaxis\":{\"endlinecolor\":\"#2a3f5f\",\"gridcolor\":\"#C8D4E3\",\"linecolor\":\"#C8D4E3\",\"minorgridcolor\":\"#C8D4E3\",\"startlinecolor\":\"#2a3f5f\"},\"baxis\":{\"endlinecolor\":\"#2a3f5f\",\"gridcolor\":\"#C8D4E3\",\"linecolor\":\"#C8D4E3\",\"minorgridcolor\":\"#C8D4E3\",\"startlinecolor\":\"#2a3f5f\"},\"type\":\"carpet\"}],\"table\":[{\"cells\":{\"fill\":{\"color\":\"#EBF0F8\"},\"line\":{\"color\":\"white\"}},\"header\":{\"fill\":{\"color\":\"#C8D4E3\"},\"line\":{\"color\":\"white\"}},\"type\":\"table\"}],\"barpolar\":[{\"marker\":{\"line\":{\"color\":\"white\",\"width\":0.5},\"pattern\":{\"fillmode\":\"overlay\",\"size\":10,\"solidity\":0.2}},\"type\":\"barpolar\"}],\"pie\":[{\"automargin\":true,\"type\":\"pie\"}]},\"layout\":{\"autotypenumbers\":\"strict\",\"colorway\":[\"#636efa\",\"#EF553B\",\"#00cc96\",\"#ab63fa\",\"#FFA15A\",\"#19d3f3\",\"#FF6692\",\"#B6E880\",\"#FF97FF\",\"#FECB52\"],\"font\":{\"color\":\"#2a3f5f\"},\"hovermode\":\"closest\",\"hoverlabel\":{\"align\":\"left\"},\"paper_bgcolor\":\"white\",\"plot_bgcolor\":\"white\",\"polar\":{\"bgcolor\":\"white\",\"angularaxis\":{\"gridcolor\":\"#EBF0F8\",\"linecolor\":\"#EBF0F8\",\"ticks\":\"\"},\"radialaxis\":{\"gridcolor\":\"#EBF0F8\",\"linecolor\":\"#EBF0F8\",\"ticks\":\"\"}},\"ternary\":{\"bgcolor\":\"white\",\"aaxis\":{\"gridcolor\":\"#DFE8F3\",\"linecolor\":\"#A2B1C6\",\"ticks\":\"\"},\"baxis\":{\"gridcolor\":\"#DFE8F3\",\"linecolor\":\"#A2B1C6\",\"ticks\":\"\"},\"caxis\":{\"gridcolor\":\"#DFE8F3\",\"linecolor\":\"#A2B1C6\",\"ticks\":\"\"}},\"coloraxis\":{\"colorbar\":{\"outlinewidth\":0,\"ticks\":\"\"}},\"colorscale\":{\"sequential\":[[0.0,\"#0d0887\"],[0.1111111111111111,\"#46039f\"],[0.2222222222222222,\"#7201a8\"],[0.3333333333333333,\"#9c179e\"],[0.4444444444444444,\"#bd3786\"],[0.5555555555555556,\"#d8576b\"],[0.6666666666666666,\"#ed7953\"],[0.7777777777777778,\"#fb9f3a\"],[0.8888888888888888,\"#fdca26\"],[1.0,\"#f0f921\"]],\"sequentialminus\":[[0.0,\"#0d0887\"],[0.1111111111111111,\"#46039f\"],[0.2222222222222222,\"#7201a8\"],[0.3333333333333333,\"#9c179e\"],[0.4444444444444444,\"#bd3786\"],[0.5555555555555556,\"#d8576b\"],[0.6666666666666666,\"#ed7953\"],[0.7777777777777778,\"#fb9f3a\"],[0.8888888888888888,\"#fdca26\"],[1.0,\"#f0f921\"]],\"diverging\":[[0,\"#8e0152\"],[0.1,\"#c51b7d\"],[0.2,\"#de77ae\"],[0.3,\"#f1b6da\"],[0.4,\"#fde0ef\"],[0.5,\"#f7f7f7\"],[0.6,\"#e6f5d0\"],[0.7,\"#b8e186\"],[0.8,\"#7fbc41\"],[0.9,\"#4d9221\"],[1,\"#276419\"]]},\"xaxis\":{\"gridcolor\":\"#EBF0F8\",\"linecolor\":\"#EBF0F8\",\"ticks\":\"\",\"title\":{\"standoff\":15},\"zerolinecolor\":\"#EBF0F8\",\"automargin\":true,\"zerolinewidth\":2},\"yaxis\":{\"gridcolor\":\"#EBF0F8\",\"linecolor\":\"#EBF0F8\",\"ticks\":\"\",\"title\":{\"standoff\":15},\"zerolinecolor\":\"#EBF0F8\",\"automargin\":true,\"zerolinewidth\":2},\"scene\":{\"xaxis\":{\"backgroundcolor\":\"white\",\"gridcolor\":\"#DFE8F3\",\"linecolor\":\"#EBF0F8\",\"showbackground\":true,\"ticks\":\"\",\"zerolinecolor\":\"#EBF0F8\",\"gridwidth\":2},\"yaxis\":{\"backgroundcolor\":\"white\",\"gridcolor\":\"#DFE8F3\",\"linecolor\":\"#EBF0F8\",\"showbackground\":true,\"ticks\":\"\",\"zerolinecolor\":\"#EBF0F8\",\"gridwidth\":2},\"zaxis\":{\"backgroundcolor\":\"white\",\"gridcolor\":\"#DFE8F3\",\"linecolor\":\"#EBF0F8\",\"showbackground\":true,\"ticks\":\"\",\"zerolinecolor\":\"#EBF0F8\",\"gridwidth\":2}},\"shapedefaults\":{\"line\":{\"color\":\"#2a3f5f\"}},\"annotationdefaults\":{\"arrowcolor\":\"#2a3f5f\",\"arrowhead\":0,\"arrowwidth\":1},\"geo\":{\"bgcolor\":\"white\",\"landcolor\":\"white\",\"subunitcolor\":\"#C8D4E3\",\"showland\":true,\"showlakes\":true,\"lakecolor\":\"white\"},\"title\":{\"x\":0.05},\"mapbox\":{\"style\":\"light\"}}},\"xaxis\":{\"anchor\":\"y\",\"domain\":[0.0,1.0],\"title\":{\"text\":\"x\"}},\"yaxis\":{\"anchor\":\"x\",\"domain\":[0.0,1.0],\"title\":{\"text\":\"count\"}},\"legend\":{\"tracegroupgap\":0},\"margin\":{\"t\":60},\"barmode\":\"relative\"},                        {\"responsive\": true}                    ).then(function(){\n",
       "                            \n",
       "var gd = document.getElementById('a7045b74-bf0e-48f4-842e-8a6a39e0e804');\n",
       "var x = new MutationObserver(function (mutations, observer) {{\n",
       "        var display = window.getComputedStyle(gd).display;\n",
       "        if (!display || display === 'none') {{\n",
       "            console.log([gd, 'removed!']);\n",
       "            Plotly.purge(gd);\n",
       "            observer.disconnect();\n",
       "        }}\n",
       "}});\n",
       "\n",
       "// Listen for the removal of the full notebook cells\n",
       "var notebookContainer = gd.closest('#notebook-container');\n",
       "if (notebookContainer) {{\n",
       "    x.observe(notebookContainer, {childList: true});\n",
       "}}\n",
       "\n",
       "// Listen for the clearing of the current output cell\n",
       "var outputEl = gd.closest('.output');\n",
       "if (outputEl) {{\n",
       "    x.observe(outputEl, {childList: true});\n",
       "}}\n",
       "\n",
       "                        })                };                });            </script>        </div>"
      ]
     },
     "metadata": {},
     "output_type": "display_data"
    }
   ],
   "source": [
    "px.histogram(x = out.y_true - out.y_pred, nbins= 50)"
   ]
  },
  {
   "cell_type": "code",
   "execution_count": null,
   "id": "232a5af1",
   "metadata": {},
   "outputs": [
    {
     "data": {
      "text/html": [
       "<div>\n",
       "<style scoped>\n",
       "    .dataframe tbody tr th:only-of-type {\n",
       "        vertical-align: middle;\n",
       "    }\n",
       "\n",
       "    .dataframe tbody tr th {\n",
       "        vertical-align: top;\n",
       "    }\n",
       "\n",
       "    .dataframe thead th {\n",
       "        text-align: right;\n",
       "    }\n",
       "</style>\n",
       "<table border=\"1\" class=\"dataframe\">\n",
       "  <thead>\n",
       "    <tr style=\"text-align: right;\">\n",
       "      <th></th>\n",
       "      <th>Unnamed: 0</th>\n",
       "      <th>sample</th>\n",
       "      <th>pop</th>\n",
       "      <th>leaf_length</th>\n",
       "      <th>leaf_width</th>\n",
       "      <th>upper_leaf_angle</th>\n",
       "      <th>leaf_angle_boxcox_transformed</th>\n",
       "    </tr>\n",
       "  </thead>\n",
       "  <tbody>\n",
       "    <tr>\n",
       "      <th>0</th>\n",
       "      <td>0</td>\n",
       "      <td>Z001E0001</td>\n",
       "      <td>1</td>\n",
       "      <td>850.6304</td>\n",
       "      <td>88.0488</td>\n",
       "      <td>65.3152</td>\n",
       "      <td>9.620754e+06</td>\n",
       "    </tr>\n",
       "    <tr>\n",
       "      <th>1</th>\n",
       "      <td>1</td>\n",
       "      <td>Z001E0002</td>\n",
       "      <td>1</td>\n",
       "      <td>654.2202</td>\n",
       "      <td>95.8449</td>\n",
       "      <td>59.8256</td>\n",
       "      <td>6.659548e+06</td>\n",
       "    </tr>\n",
       "    <tr>\n",
       "      <th>2</th>\n",
       "      <td>2</td>\n",
       "      <td>Z001E0003</td>\n",
       "      <td>1</td>\n",
       "      <td>836.4517</td>\n",
       "      <td>93.4534</td>\n",
       "      <td>66.1322</td>\n",
       "      <td>1.013518e+07</td>\n",
       "    </tr>\n",
       "    <tr>\n",
       "      <th>3</th>\n",
       "      <td>3</td>\n",
       "      <td>Z001E0004</td>\n",
       "      <td>1</td>\n",
       "      <td>595.5967</td>\n",
       "      <td>100.3453</td>\n",
       "      <td>66.3374</td>\n",
       "      <td>1.026761e+07</td>\n",
       "    </tr>\n",
       "    <tr>\n",
       "      <th>4</th>\n",
       "      <td>4</td>\n",
       "      <td>Z001E0005</td>\n",
       "      <td>1</td>\n",
       "      <td>822.9404</td>\n",
       "      <td>95.9405</td>\n",
       "      <td>76.4436</td>\n",
       "      <td>1.860027e+07</td>\n",
       "    </tr>\n",
       "    <tr>\n",
       "      <th>...</th>\n",
       "      <td>...</td>\n",
       "      <td>...</td>\n",
       "      <td>...</td>\n",
       "      <td>...</td>\n",
       "      <td>...</td>\n",
       "      <td>...</td>\n",
       "      <td>...</td>\n",
       "    </tr>\n",
       "    <tr>\n",
       "      <th>4671</th>\n",
       "      <td>4671</td>\n",
       "      <td>Z026E0196</td>\n",
       "      <td>26</td>\n",
       "      <td>780.3908</td>\n",
       "      <td>101.9481</td>\n",
       "      <td>72.8811</td>\n",
       "      <td>1.522896e+07</td>\n",
       "    </tr>\n",
       "    <tr>\n",
       "      <th>4672</th>\n",
       "      <td>4672</td>\n",
       "      <td>Z026E0197</td>\n",
       "      <td>26</td>\n",
       "      <td>694.9704</td>\n",
       "      <td>98.4899</td>\n",
       "      <td>69.6402</td>\n",
       "      <td>1.258610e+07</td>\n",
       "    </tr>\n",
       "    <tr>\n",
       "      <th>4673</th>\n",
       "      <td>4673</td>\n",
       "      <td>Z026E0198</td>\n",
       "      <td>26</td>\n",
       "      <td>726.6192</td>\n",
       "      <td>98.8820</td>\n",
       "      <td>72.4867</td>\n",
       "      <td>1.488659e+07</td>\n",
       "    </tr>\n",
       "    <tr>\n",
       "      <th>4674</th>\n",
       "      <td>4674</td>\n",
       "      <td>Z026E0199</td>\n",
       "      <td>26</td>\n",
       "      <td>719.8274</td>\n",
       "      <td>85.4443</td>\n",
       "      <td>70.1730</td>\n",
       "      <td>1.299455e+07</td>\n",
       "    </tr>\n",
       "    <tr>\n",
       "      <th>4675</th>\n",
       "      <td>4675</td>\n",
       "      <td>Z026E0200</td>\n",
       "      <td>26</td>\n",
       "      <td>759.5885</td>\n",
       "      <td>92.9348</td>\n",
       "      <td>70.1387</td>\n",
       "      <td>1.296795e+07</td>\n",
       "    </tr>\n",
       "  </tbody>\n",
       "</table>\n",
       "<p>4676 rows × 7 columns</p>\n",
       "</div>"
      ],
      "text/plain": [
       "      Unnamed: 0     sample  pop  leaf_length  leaf_width  upper_leaf_angle  \\\n",
       "0              0  Z001E0001    1     850.6304     88.0488           65.3152   \n",
       "1              1  Z001E0002    1     654.2202     95.8449           59.8256   \n",
       "2              2  Z001E0003    1     836.4517     93.4534           66.1322   \n",
       "3              3  Z001E0004    1     595.5967    100.3453           66.3374   \n",
       "4              4  Z001E0005    1     822.9404     95.9405           76.4436   \n",
       "...          ...        ...  ...          ...         ...               ...   \n",
       "4671        4671  Z026E0196   26     780.3908    101.9481           72.8811   \n",
       "4672        4672  Z026E0197   26     694.9704     98.4899           69.6402   \n",
       "4673        4673  Z026E0198   26     726.6192     98.8820           72.4867   \n",
       "4674        4674  Z026E0199   26     719.8274     85.4443           70.1730   \n",
       "4675        4675  Z026E0200   26     759.5885     92.9348           70.1387   \n",
       "\n",
       "      leaf_angle_boxcox_transformed  \n",
       "0                      9.620754e+06  \n",
       "1                      6.659548e+06  \n",
       "2                      1.013518e+07  \n",
       "3                      1.026761e+07  \n",
       "4                      1.860027e+07  \n",
       "...                             ...  \n",
       "4671                   1.522896e+07  \n",
       "4672                   1.258610e+07  \n",
       "4673                   1.488659e+07  \n",
       "4674                   1.299455e+07  \n",
       "4675                   1.296795e+07  \n",
       "\n",
       "[4676 rows x 7 columns]"
      ]
     },
     "execution_count": null,
     "metadata": {},
     "output_type": "execute_result"
    }
   ],
   "source": [
    "data"
   ]
  }
 ],
 "metadata": {
  "kernelspec": {
   "display_name": "python3",
   "language": "python",
   "name": "python3"
  }
 },
 "nbformat": 4,
 "nbformat_minor": 5
}
