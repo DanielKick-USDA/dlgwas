{
 "cells": [
  {
   "cell_type": "code",
   "execution_count": null,
   "metadata": {},
   "outputs": [],
   "source": [
    "#| hide\n",
    "from dlgwas.core import *"
   ]
  },
  {
   "cell_type": "markdown",
   "metadata": {},
   "source": [
    "# dlgwas\n",
    "\n",
    "> This project aims to prototype approaches to be used in fulfilling the aims proposed in the grant Environmentally Aware Deep Learning Based Genomic Selection And Management Optimization For Maize Yield"
   ]
  },
  {
   "cell_type": "markdown",
   "metadata": {},
   "source": [
    "This file will become your README and also the index of your documentation."
   ]
  },
  {
   "cell_type": "markdown",
   "metadata": {},
   "source": [
    "<!-- ## Install -->"
   ]
  },
  {
   "cell_type": "markdown",
   "metadata": {},
   "source": [
    "```sh\n",
    "# pip install dlgwas\n",
    "```"
   ]
  },
  {
   "cell_type": "markdown",
   "metadata": {},
   "source": [
    "## How to use"
   ]
  },
  {
   "cell_type": "markdown",
   "metadata": {},
   "source": [
    "This project is currently pre-release. Instructions on use will be added in the future."
   ]
  },
  {
   "cell_type": "markdown",
   "metadata": {},
   "source": [
    "## Project Structure"
   ]
  },
  {
   "cell_type": "markdown",
   "metadata": {},
   "source": [
    "\n",
    "The files of primary interest in this project are notebooks, external data, processed data, models, and reports. Additional files are produced by `nbdev` for building documentation, testing, and other tasks. This project is intended to applicable to multiple organisms. This long term goal motivates encapsulating data relevant to a species in a species subfolder even though only *Zea mays* is considered at present.\n",
    "\n",
    "Below is an outline to illustrate the project's target structure.\n"
   ]
  },
  {
   "cell_type": "markdown",
   "metadata": {},
   "source": [
    " - Notebooks (`nbs`)\n",
    "     - Where possible, analysis will be done in jupyter notebooks. \n",
    "     - Notebooks are named in snake case with\n",
    "         1. The expected run order\n",
    "         2. The species if applicable ([using KEGG naming conventions](https://www.genome.jp/kegg/catalog/org_list4.html))\n",
    "         3. A brief description\n",
    "     - Duplicate notebook numbers are allowed for now (e.g. 01_zma_kegg_download and 01_taes_kegg_download) for parallel tasks but reserving a block of notebook numbers may end up being better (e.g. 01-10 for zma, 11-20 for taes).\n",
    " - External Data (`ext_data`)\n",
    "     - Subfolders for different species (Arabidopsis `ath`, Wheat `taes`, and Maize `zma` shown here)\n",
    "     - Subfolders may contain data from public databases (cyverse, panzea, kegg, etc.) or data from specific studies. \n",
    "     - Study data should be named according to the citation (e.g. `buckler_et_al_2009`) rather than the repository that the data is stored in (e.g. figshare, zenodo, etc.). \n",
    " - Data (`data`)\n",
    "     - Cleaned or otherwise transformed data from `ext_data` should be kept here. \n",
    "     - Computational artifacts (e.g. pickled objects) that are expensive to recompute should also be stored here. \n",
    "     - Data storage isn't set yet. It will either aim:\n",
    "         - To make the *origin* of produced objects clear, folders will have names matching the notebooks that created them.\n",
    "         - To make the *use* of produced objects easy, the folders will have names matching those in `ext_data`.  \n",
    " - Models (`models`)\n",
    "     - Computationally expensive models are to be saved here. \n",
    "     - Folders will have names matching the notebooks that created them\n",
    " - Reports (`reports`)\n",
    "     - Figures, tables, and other human readable artifacts are to be stored here. \n",
    "     - Folders will have names matching the notebooks that created them"
   ]
  },
  {
   "cell_type": "markdown",
   "metadata": {},
   "source": [
    "Illustrative Directory Structure:\n",
    "```\n",
    ".\n",
    "├── nbs\n",
    "│   ├── 00_core.ipynb\n",
    "│   ├── 01_zma_kegg_download.ipynb\n",
    "│   ├── ...\n",
    "│   └── index.ipynb\n",
    "├── ext_data\n",
    "│   ├── ath\n",
    "│   ├── taes\n",
    "│   └── zma\n",
    "│       ├── buckler_et_al_2009\n",
    "│       ├── e2p2_computed\n",
    "│       ├── ensemble\n",
    "│       ├── kegg\n",
    "│       ├── panzea\n",
    "│       └── plant_reactome\n",
    "├── data\n",
    "│   ├── zma                  ?\n",
    "│   │   └── ...\n",
    "│   └── 01_zma_kegg_download ?\n",
    "│       └── ...\n",
    "├── models\n",
    "│   └── 01_zma_kegg_download\n",
    "│       └── ...\n",
    "└── reports\n",
    "    └── 01_zma_kegg_download\n",
    "        └── ...    \n",
    "```"
   ]
  }
 ],
 "metadata": {
  "kernelspec": {
   "display_name": "python3",
   "language": "python",
   "name": "python3"
  }
 },
 "nbformat": 4,
 "nbformat_minor": 4
}
