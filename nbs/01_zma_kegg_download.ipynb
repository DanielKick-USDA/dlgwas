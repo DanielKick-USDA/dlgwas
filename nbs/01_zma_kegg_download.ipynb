{
 "cells": [
  {
   "cell_type": "markdown",
   "metadata": {},
   "source": [
    "# SNPS to Networks 1: KEGG\n",
    "\n",
    "> Downloading *Zea mays* data from the KEGG database."
   ]
  },
  {
   "cell_type": "code",
   "execution_count": null,
   "metadata": {},
   "outputs": [],
   "source": [
    "#| default_exp core"
   ]
  },
  {
   "cell_type": "code",
   "execution_count": null,
   "metadata": {},
   "outputs": [],
   "source": [
    "#| hide\n",
    "from nbdev.showdoc import *"
   ]
  },
  {
   "cell_type": "code",
   "execution_count": null,
   "metadata": {},
   "outputs": [],
   "source": [
    "import os\n",
    "from tqdm import tqdm\n",
    "import re\n",
    "import time\n",
    "import sys\n",
    "import requests\n",
    "import numpy as np\n",
    "import pandas as pd"
   ]
  },
  {
   "cell_type": "markdown",
   "metadata": {},
   "source": [
    "## Identify genes to be downloaded:"
   ]
  },
  {
   "cell_type": "code",
   "execution_count": null,
   "metadata": {},
   "outputs": [],
   "source": [
    "#| export\n",
    "\n",
    "\"Iteratively check for and create directories to store output. Ideally this would just be os.mkdirs() but that function is not available in this version of python\"\n",
    "def ensure_dir_path_exists(dir_path = '../ext_data'):\n",
    "    import os\n",
    "    \n",
    "    for i in range(2, len(dir_path.split('/'))+1):\n",
    "        path_part = '/'.join(dir_path.split('/')[0:i])\n",
    "        if not os.path.exists(path_part):\n",
    "            os.mkdir(path_part)\n",
    "        "
   ]
  },
  {
   "cell_type": "code",
   "execution_count": null,
   "metadata": {},
   "outputs": [],
   "source": [
    "#| export\n",
    "\n",
    "# Get all the genes for zea mays\n",
    "# Some gene entries that don't start begin with a chromosome number. These included plastid (Pltd) and mitochondria (MT) genes.\n",
    "\n",
    "def get_kegg_species_list(species = 'zma'):\n",
    "    import os\n",
    "    # make sure the directory exists to hold these data\n",
    "    ensure_dir_path_exists(dir_path = '../ext_data/'+species+'/kegg')\n",
    "\n",
    "    file_path = '../ext_data/'+species+'/kegg'+'/'+species+'_list.txt'\n",
    "    # only retrieve if there isn't a local copy\n",
    "    if file_path.split('/')[-1] in os.listdir('/'.join(file_path.split('/')[:-1])):\n",
    "        with open(file_path, 'r') as f:\n",
    "            r_text = f.read()\n",
    "    else:\n",
    "        r = requests.get('https://rest.kegg.jp/list/'+species)\n",
    "        r_text = r.text\n",
    "        with open(file_path, 'a') as f:\n",
    "            f.write(r_text)\n",
    "    return(r_text)"
   ]
  },
  {
   "cell_type": "code",
   "execution_count": null,
   "metadata": {},
   "outputs": [],
   "source": [
    "#| export\n",
    "def mkdf_kegg_species_list(kegg_species_list = get_kegg_species_list(species = 'zma')):\n",
    "    import pandas as pd\n",
    "    kegg_list_zma = pd.DataFrame([e.split('\\t') for e in kegg_species_list.split('\\n') ])\n",
    "    # clean up names\n",
    "    kegg_list_zma = kegg_list_zma.rename(columns = dict(zip(\n",
    "        [i for i in range(4)],\n",
    "        ['gene', 'seq_type', 'chromosome_positon', 'gene_type']\n",
    "    )))\n",
    "\n",
    "    kegg_list_zma = kegg_list_zma.loc[kegg_list_zma.chromosome_positon.notna(), ]\n",
    "    return(kegg_list_zma)"
   ]
  },
  {
   "cell_type": "markdown",
   "metadata": {},
   "source": [
    "The KEGG list contains a gene id that can be used to download further information. The chromosomal position will be key to match up collected SNPs to genes."
   ]
  },
  {
   "cell_type": "code",
   "execution_count": null,
   "metadata": {},
   "outputs": [],
   "source": [
    "kegg_list_zma = mkdf_kegg_species_list(kegg_species_list = get_kegg_species_list(species = 'zma'))"
   ]
  },
  {
   "cell_type": "markdown",
   "metadata": {},
   "source": [
    "There are also entries that don't start with a chromosome number. These are non-nuclear sequences from plastid (Pltd), Mitochondria (MT), etc."
   ]
  },
  {
   "cell_type": "code",
   "execution_count": null,
   "metadata": {},
   "outputs": [
    {
     "data": {
      "text/html": [
       "<div>\n",
       "<style scoped>\n",
       "    .dataframe tbody tr th:only-of-type {\n",
       "        vertical-align: middle;\n",
       "    }\n",
       "\n",
       "    .dataframe tbody tr th {\n",
       "        vertical-align: top;\n",
       "    }\n",
       "\n",
       "    .dataframe thead th {\n",
       "        text-align: right;\n",
       "    }\n",
       "</style>\n",
       "<table border=\"1\" class=\"dataframe\">\n",
       "  <thead>\n",
       "    <tr style=\"text-align: right;\">\n",
       "      <th></th>\n",
       "      <th>gene</th>\n",
       "      <th>seq_type</th>\n",
       "      <th>chromosome_positon</th>\n",
       "      <th>gene_type</th>\n",
       "    </tr>\n",
       "  </thead>\n",
       "  <tbody>\n",
       "    <tr>\n",
       "      <th>35639</th>\n",
       "      <td>zma:845199</td>\n",
       "      <td>CDS</td>\n",
       "      <td>Pltd:complement(89..1150)</td>\n",
       "      <td>psbA, ZemaCp002; photosystem II protein D1</td>\n",
       "    </tr>\n",
       "    <tr>\n",
       "      <th>35640</th>\n",
       "      <td>zma:845256</td>\n",
       "      <td>tRNA</td>\n",
       "      <td>Pltd:complement(1386..3946)</td>\n",
       "      <td>trnK, ZemaCt121; tRNA-Lys</td>\n",
       "    </tr>\n",
       "    <tr>\n",
       "      <th>35641</th>\n",
       "      <td>zma:845178</td>\n",
       "      <td>CDS</td>\n",
       "      <td>Pltd:complement(1674..3215)</td>\n",
       "      <td>matK, ZemaCp003; maturase K</td>\n",
       "    </tr>\n",
       "    <tr>\n",
       "      <th>35642</th>\n",
       "      <td>zma:845232</td>\n",
       "      <td>CDS</td>\n",
       "      <td>Pltd:complement(4491..5604)</td>\n",
       "      <td>rps16, ZemaCp004; ribosomal protein S16</td>\n",
       "    </tr>\n",
       "    <tr>\n",
       "      <th>35643</th>\n",
       "      <td>zma:845265</td>\n",
       "      <td>tRNA</td>\n",
       "      <td>Pltd:complement(6773..6844)</td>\n",
       "      <td>trnQ, ZemaCt122; tRNA-Gln</td>\n",
       "    </tr>\n",
       "    <tr>\n",
       "      <th>...</th>\n",
       "      <td>...</td>\n",
       "      <td>...</td>\n",
       "      <td>...</td>\n",
       "      <td>...</td>\n",
       "    </tr>\n",
       "    <tr>\n",
       "      <th>37707</th>\n",
       "      <td>zma:118475995</td>\n",
       "      <td>rRNA</td>\n",
       "      <td>Unknown</td>\n",
       "      <td>28S ribosomal RNA</td>\n",
       "    </tr>\n",
       "    <tr>\n",
       "      <th>37708</th>\n",
       "      <td>zma:118475996</td>\n",
       "      <td>rRNA</td>\n",
       "      <td>Unknown</td>\n",
       "      <td>5.8S ribosomal RNA</td>\n",
       "    </tr>\n",
       "    <tr>\n",
       "      <th>37709</th>\n",
       "      <td>zma:5951366</td>\n",
       "      <td>CDS</td>\n",
       "      <td>MT</td>\n",
       "      <td>pBMSmt19_00005; hypothetical protein</td>\n",
       "    </tr>\n",
       "    <tr>\n",
       "      <th>37710</th>\n",
       "      <td>zma:5951368</td>\n",
       "      <td>CDS</td>\n",
       "      <td>MT</td>\n",
       "      <td>pBMSmt19_00010; hypothetical protein</td>\n",
       "    </tr>\n",
       "    <tr>\n",
       "      <th>37711</th>\n",
       "      <td>zma:5951367</td>\n",
       "      <td>CDS</td>\n",
       "      <td>MT</td>\n",
       "      <td>pBMSmt19_00015; hypothetical protein</td>\n",
       "    </tr>\n",
       "  </tbody>\n",
       "</table>\n",
       "<p>2066 rows × 4 columns</p>\n",
       "</div>"
      ],
      "text/plain": [
       "                gene seq_type           chromosome_positon   \n",
       "35639     zma:845199      CDS    Pltd:complement(89..1150)  \\\n",
       "35640     zma:845256     tRNA  Pltd:complement(1386..3946)   \n",
       "35641     zma:845178      CDS  Pltd:complement(1674..3215)   \n",
       "35642     zma:845232      CDS  Pltd:complement(4491..5604)   \n",
       "35643     zma:845265     tRNA  Pltd:complement(6773..6844)   \n",
       "...              ...      ...                          ...   \n",
       "37707  zma:118475995     rRNA                      Unknown   \n",
       "37708  zma:118475996     rRNA                      Unknown   \n",
       "37709    zma:5951366      CDS                           MT   \n",
       "37710    zma:5951368      CDS                           MT   \n",
       "37711    zma:5951367      CDS                           MT   \n",
       "\n",
       "                                        gene_type  \n",
       "35639  psbA, ZemaCp002; photosystem II protein D1  \n",
       "35640                   trnK, ZemaCt121; tRNA-Lys  \n",
       "35641                 matK, ZemaCp003; maturase K  \n",
       "35642     rps16, ZemaCp004; ribosomal protein S16  \n",
       "35643                   trnQ, ZemaCt122; tRNA-Gln  \n",
       "...                                           ...  \n",
       "37707                           28S ribosomal RNA  \n",
       "37708                          5.8S ribosomal RNA  \n",
       "37709        pBMSmt19_00005; hypothetical protein  \n",
       "37710        pBMSmt19_00010; hypothetical protein  \n",
       "37711        pBMSmt19_00015; hypothetical protein  \n",
       "\n",
       "[2066 rows x 4 columns]"
      ]
     },
     "execution_count": null,
     "metadata": {},
     "output_type": "execute_result"
    }
   ],
   "source": [
    "no_chrm = [e for e in kegg_list_zma['chromosome_positon'] if re.match('\\D.+', e)]\n",
    "no_chrm = list(set(no_chrm))\n",
    "kegg_list_zma.loc[kegg_list_zma.chromosome_positon.isin(no_chrm), ]"
   ]
  },
  {
   "cell_type": "code",
   "execution_count": null,
   "metadata": {},
   "outputs": [],
   "source": [
    "#| export\n",
    "\n",
    "def download_kegg_gene(kegg_gene = 'zma:103644366', **kwargs):    \n",
    "    \"\"\"\n",
    "    Downloads kegg gene entry if it does not exist locally. \n",
    "    Can optionally take a numeric value as `sleep_for` to sleep after downloading a file. \n",
    "    Useful for controlling the rate requests being sent to the API.\n",
    "    \"\"\"\n",
    "    species = kegg_gene.split(':')[0]\n",
    "    dir_path = '../ext_data/'+species+'/kegg/gene_entries/'\n",
    "    ensure_dir_path_exists(dir_path = dir_path)\n",
    "    \n",
    "    kegg_gene_safename = kegg_gene.replace(':', '_') # name that's safe for file names\n",
    "    file_path = dir_path+kegg_gene_safename+'.txt'\n",
    "    \n",
    "    # only download if the file doesn't already exist\n",
    "    if os.path.exists(file_path):\n",
    "        pass\n",
    "    else:\n",
    "        # option to sleep for a given amount of time so tha tthe api isn't accessed to much\n",
    "        # sleeping here means that we only sleep if there will be a request to download\n",
    "        if 'sleep_for' in kwargs.keys():\n",
    "            time.sleep(kwargs['sleep_for'])\n",
    "        \n",
    "        r = requests.get('https://rest.kegg.jp/get/'+kegg_gene)\n",
    "        with open(file_path, 'a') as f:\n",
    "            f.write(r.text)"
   ]
  },
  {
   "cell_type": "code",
   "execution_count": null,
   "metadata": {},
   "outputs": [],
   "source": [
    "#| export\n",
    "def read_kegg_gene(kegg_gene = 'zma:103644366'):  \n",
    "    \"Reads in locally cached KEGG gene entries. Will download the requested entry if it doesn't exist locally.\"\n",
    "    import os\n",
    "    species = kegg_gene.split(':')[0]\n",
    "    dir_path = '../ext_data/'+species+'/kegg/gene_entries/'\n",
    "    ensure_dir_path_exists(dir_path = dir_path)\n",
    "    \n",
    "    kegg_gene_safename = kegg_gene.replace(':', '_') # name that's safe for file names\n",
    "    file_path = dir_path+kegg_gene_safename+'.txt'\n",
    "\n",
    "    if not os.path.exists(file_path):\n",
    "        download_kegg_gene(kegg_gene)\n",
    "    \n",
    "    with open(file_path, 'r') as f:\n",
    "        r_text = f.read()\n",
    "    return(r_text)"
   ]
  },
  {
   "cell_type": "markdown",
   "metadata": {},
   "source": [
    "Example usage for one gene. Species is inferred and if it doesn't exist in `ext_data` then it will automatically be downloaded with `download_kegg_gene()`."
   ]
  },
  {
   "cell_type": "code",
   "execution_count": null,
   "metadata": {},
   "outputs": [
    {
     "name": "stdout",
     "output_type": "stream",
     "text": [
      "ENTRY       103644366         CDS       T01088\n",
      "NAME        (RefSeq) uncharacterized protein LOC103644366\n",
      "ORTHOLOGY   K15032  mTERF domain-containing protein, mitochondrial\n",
      "ORGANISM    zma  Zea mays (maize)\n",
      "BRITE       KEGG Orthology (KO) [BR:zma00001]\n",
      "             09180 Brite Hierarchies\n",
      "              09182 Protein families: genetic information processing\n",
      "               03012 Translation factors [BR:zma03012]\n",
      "                103644366\n",
      "               03029 Mitochondrial biogenesis [BR:zma03029]\n",
      "                103644366\n",
      "            Translation factors [BR:zma03012]\n",
      "             Eukaryotic type\n",
      "              Release factors\n",
      "               103644366\n",
      "            Mitochondrial biogenesis [BR:zma03029]\n",
      "             Mitochondrial DNA transcription, translation, and replication factors\n",
      "              Mitochondrial transcription and translation factors\n",
      "               Mitochondrial translation factors\n",
      "                103644366\n",
      "POSITION    1:34607..40208\n",
      "MOTIF       Pfam: mTERF\n",
      "DBLINKS     NCBI-GeneID: 103644366\n",
      "            NCBI-ProteinID: XP_020400304\n",
      "AASEQ       644\n",
      "            MPWIMHAGTEQRHAACGASLLWSSLQPSTVVMAAAAATFGFLHPPIRKPAVPPLYILRLP\n",
      "            TKPHSKTHPRSPPLLFLLLGRRRGGPIAAFPNTTSSSTNAPASPTYDVREAEAAVADLLR\n",
      "            EGGASADDAASIAARAPAYAAMLADGVRELDELGLWASWSSGARARLGLSGVVEMEMGRL\n",
      "            GFRRKVYLMGRSKPDHGVVPLLESLGMRLSSAKLIAPYVAAAGLTVLIDRVKFLKEMLFS\n",
      "            SSDYAILIGRNAKRMMTYLSIPADDALQSTLSFFEKMEARYGGVSMLGHGDVSFPYLIES\n",
      "            FPMLLLCSEDNHLKPLVDFLEHIGIPKPKIASVLLLFPPIILSDVENDIKPRIREWEKAG\n",
      "            IEQDYVSRMLLKYPWILSTSVIENYSQMLLFFNQKRISSTVLAIAVKSWPHILGSSSKRM\n",
      "            NSVLELFHVLGISKKMVVPVITSSPQLLLRKPDQFMQNVLFFREMGVDKKTTGKILCRSP\n",
      "            EIFASNVDNTLKKKIDFLTNFGVSKHHLPRIIRKYPELLLLDINCTLLPRMNYLLEMGLS\n",
      "            KKDLCSMIFRFSPLLGYSIELVMKPKLEFLLRTMKKPLKAVVEYPRYFSYSLEGKIKPRF\n",
      "            WVLQSRNIDCTLTEMLAKNDELFAEEYLGLGGLLEKPLQSSIGS\n",
      "NTSEQ       1935\n",
      "            atgccatggataatgcacgcgggaacggaacaaagacacgcggcgtgcggggcctcgctc\n",
      "            ctctggtcttccctccagccctcgacggtggtcatggccgccgccgccgccactttcggc\n",
      "            ttcctccatcctccaatccggaaacctgcagtcccaccactgtacattctccggcttccc\n",
      "            accaaaccccactccaaaacgcaccctcgttctccccccctcctcttcctcctcctgggc\n",
      "            cgccgccggggaggccccatcgccgccttccccaacaccacatcttcatccacgaatgcc\n",
      "            cctgcctcgcccacctacgacgtccgggaggcagaggccgccgtcgcggatctcctccgc\n",
      "            gagggcggcgcctccgcggacgacgccgcctccatcgccgcgcgcgcgccggcctacgcc\n",
      "            gctatgctcgccgatggcgtccgcgagctggacgagcttggcctctgggcgtcgtggagc\n",
      "            tccggtgccagggcccggctgggcctcagcggggtcgtcgagatggagatggggaggctc\n",
      "            ggttttaggaggaaggtgtatctcatgggacggagcaagcctgaccacggcgtggtgccg\n",
      "            ctcctcgagagcttgggaatgcgtctctcctcggccaaactcatcgcgccttacgtcgcg\n",
      "            gctgcgggccttactgtgctgattgatagggttaagtttttgaaggaaatgttattttca\n",
      "            agcagtgattatgcaatactaattggaaggaatgctaagcggatgatgacatacttatca\n",
      "            atacctgcagatgatgcactccaaagtactttatctttttttgaaaaaatggaggctagg\n",
      "            tatggtggtgttagcatgttgggacatggagatgtgtcatttccttacctcattgaatca\n",
      "            tttccgatgcttcttctctgctcagaagataatcatctcaagccgttagttgattttctc\n",
      "            gagcacattggaattccaaagccaaagattgcatcagttctgctgctatttcctcctatc\n",
      "            attctttctgatgttgaaaatgatattaagcctaggattcgtgaatgggagaaggctggc\n",
      "            attgaacaagactatgttagtaggatgttgttgaagtatccatggattctttcaacgagt\n",
      "            gtgatagagaactacagtcaaatgctgttgtttttcaaccaaaaaaggatttccagtaca\n",
      "            gtcctcgctattgctgtgaaaagttggcctcatattcttggctcctcttcaaaaagaatg\n",
      "            aattcagttttggagctgtttcatgttctgggcatcagtaaaaaaatggtggttccagtc\n",
      "            attacatcaagtccacagttattactgagaaaacctgatcagtttatgcagaatgttttg\n",
      "            tttttcagagaaatgggtgttgataagaaaacaacaggaaaaattctgtgtcgttcgcct\n",
      "            gaaatatttgcttcaaacgtggataacaccctcaagaagaaaatcgattttcttaccaac\n",
      "            tttggtgtttctaaacatcatcttcctcgcatcattcggaagtatccagaacttttattg\n",
      "            ttggacataaattgtacattgctccctaggatgaactacttattggagatgggtttgtct\n",
      "            aagaaagatctgtgctcaatgatctttagattttccccacttctaggttacagtattgaa\n",
      "            cttgttatgaaaccaaagcttgagtttctgctaagaaccatgaagaagccacttaaagca\n",
      "            gttgtagaatacccaaggtacttcagttattcactcgaggggaagatcaaaccgcggttc\n",
      "            tgggtattgcagagtagaaacatagactgcactctgacagagatgttagcaaagaacgat\n",
      "            gaactctttgctgaagagtacttgggacttggaggattgctcgagaaacctctacaatca\n",
      "            agcataggcagttaa\n",
      "///\n",
      "\n"
     ]
    }
   ],
   "source": [
    "print(read_kegg_gene(kegg_gene = 'zma:103644366'))"
   ]
  },
  {
   "cell_type": "markdown",
   "metadata": {},
   "source": [
    "To cache all genes on KEGG for an organism, loop over all entries in the KEGG list for that species."
   ]
  },
  {
   "cell_type": "code",
   "execution_count": null,
   "metadata": {},
   "outputs": [
    {
     "name": "stderr",
     "output_type": "stream",
     "text": [
      "100%|████████████████████████████████████████████████████████████████████████████████████████████████████████████████| 37712/37712 [00:37<00:00, 1009.32it/s]\n"
     ]
    }
   ],
   "source": [
    "for kegg_gene in tqdm(kegg_list_zma.gene):\n",
    "    try:\n",
    "        download_kegg_gene(kegg_gene = kegg_gene, \n",
    "                           sleep_for = np.random.uniform(0.5, 1.5))\n",
    "    except:\n",
    "        print('Problem with '+kegg_gene) "
   ]
  },
  {
   "cell_type": "code",
   "execution_count": null,
   "metadata": {},
   "outputs": [],
   "source": [
    "#| hide\n",
    "import nbdev; nbdev.nbdev_export()"
   ]
  }
 ],
 "metadata": {
  "kernelspec": {
   "display_name": "python3",
   "language": "python",
   "name": "python3"
  }
 },
 "nbformat": 4,
 "nbformat_minor": 4
}
